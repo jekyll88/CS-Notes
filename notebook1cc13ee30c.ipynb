{
 "cells": [
  {
   "cell_type": "markdown",
   "id": "1a1bb534",
   "metadata": {
    "execution": {
     "iopub.execute_input": "2022-03-03T05:13:40.840310Z",
     "iopub.status.busy": "2022-03-03T05:13:40.839973Z",
     "iopub.status.idle": "2022-03-03T05:13:40.847232Z",
     "shell.execute_reply": "2022-03-03T05:13:40.846017Z",
     "shell.execute_reply.started": "2022-03-03T05:13:40.840275Z"
    },
    "id": "OYlaRwNu7ojq",
    "papermill": {
     "duration": 0.027615,
     "end_time": "2022-03-05T14:57:03.158987",
     "exception": false,
     "start_time": "2022-03-05T14:57:03.131372",
     "status": "completed"
    },
    "tags": []
   },
   "source": [
    "# **Homework 2 Phoneme Classification**\n",
    "\n",
    "* Slides: https://docs.google.com/presentation/d/1v6HkBWiJb8WNDcJ9_-2kwVstxUWml87b9CnA16Gdoio/edit?usp=sharing\n",
    "* Kaggle: https://www.kaggle.com/c/ml2022spring-hw2\n",
    "* Video: TBA\n"
   ]
  },
  {
   "cell_type": "code",
   "execution_count": 1,
   "id": "4781ea7f",
   "metadata": {
    "execution": {
     "iopub.execute_input": "2022-03-05T14:57:03.228092Z",
     "iopub.status.busy": "2022-03-05T14:57:03.225951Z",
     "iopub.status.idle": "2022-03-05T14:57:04.242826Z",
     "shell.execute_reply": "2022-03-05T14:57:04.242163Z"
    },
    "id": "mLQI0mNcmM-O",
    "outputId": "7d5b4d81-9438-4d50-8153-cd235c47ee21",
    "papermill": {
     "duration": 1.057641,
     "end_time": "2022-03-05T14:57:04.243057",
     "exception": false,
     "start_time": "2022-03-05T14:57:03.185416",
     "status": "completed"
    },
    "tags": []
   },
   "outputs": [
    {
     "name": "stdout",
     "output_type": "stream",
     "text": [
      "Sat Mar  5 14:57:04 2022       \r\n",
      "+-----------------------------------------------------------------------------+\r\n",
      "| NVIDIA-SMI 450.119.04   Driver Version: 450.119.04   CUDA Version: 11.0     |\r\n",
      "|-------------------------------+----------------------+----------------------+\r\n",
      "| GPU  Name        Persistence-M| Bus-Id        Disp.A | Volatile Uncorr. ECC |\r\n",
      "| Fan  Temp  Perf  Pwr:Usage/Cap|         Memory-Usage | GPU-Util  Compute M. |\r\n",
      "|                               |                      |               MIG M. |\r\n",
      "|===============================+======================+======================|\r\n",
      "|   0  Tesla P100-PCIE...  Off  | 00000000:00:04.0 Off |                    0 |\r\n",
      "| N/A   44C    P0    27W / 250W |      0MiB / 16280MiB |      0%      Default |\r\n",
      "|                               |                      |                  N/A |\r\n",
      "+-------------------------------+----------------------+----------------------+\r\n",
      "                                                                               \r\n",
      "+-----------------------------------------------------------------------------+\r\n",
      "| Processes:                                                                  |\r\n",
      "|  GPU   GI   CI        PID   Type   Process name                  GPU Memory |\r\n",
      "|        ID   ID                                                   Usage      |\r\n",
      "|=============================================================================|\r\n",
      "|  No running processes found                                                 |\r\n",
      "+-----------------------------------------------------------------------------+\r\n"
     ]
    }
   ],
   "source": [
    "!nvidia-smi"
   ]
  },
  {
   "cell_type": "markdown",
   "id": "f5173448",
   "metadata": {
    "id": "KVUGfWTo7_Oj",
    "papermill": {
     "duration": 0.026095,
     "end_time": "2022-03-05T14:57:04.295515",
     "exception": false,
     "start_time": "2022-03-05T14:57:04.269420",
     "status": "completed"
    },
    "tags": []
   },
   "source": [
    "## Download Data\n",
    "Download data from google drive, then unzip it.\n",
    "\n",
    "You should have\n",
    "- `libriphone/train_split.txt`\n",
    "- `libriphone/train_labels`\n",
    "- `libriphone/test_split.txt`\n",
    "- `libriphone/feat/train/*.pt`: training feature<br>\n",
    "- `libriphone/feat/test/*.pt`:  testing feature<br>\n",
    "\n",
    "after running the following block.\n",
    "\n",
    "> **Notes: if the google drive link is dead, you can download the data directly from [Kaggle](https://www.kaggle.com/c/ml2022spring-hw2/data) and upload it to the workspace**\n"
   ]
  },
  {
   "cell_type": "markdown",
   "id": "eb5ba5dc",
   "metadata": {
    "id": "Bj5jYXsD9Ef3",
    "papermill": {
     "duration": 0.025974,
     "end_time": "2022-03-05T14:57:04.347507",
     "exception": false,
     "start_time": "2022-03-05T14:57:04.321533",
     "status": "completed"
    },
    "tags": []
   },
   "source": [
    "### Download train/test metadata"
   ]
  },
  {
   "cell_type": "code",
   "execution_count": 2,
   "id": "72edca2d",
   "metadata": {
    "execution": {
     "iopub.execute_input": "2022-03-05T14:57:04.408353Z",
     "iopub.status.busy": "2022-03-05T14:57:04.407458Z",
     "iopub.status.idle": "2022-03-05T14:57:49.286859Z",
     "shell.execute_reply": "2022-03-05T14:57:49.286262Z"
    },
    "id": "OzkiMEcC3Foq",
    "outputId": "5b2e3e1b-339c-4ba0-c31a-f606b494d211",
    "papermill": {
     "duration": 44.912678,
     "end_time": "2022-03-05T14:57:49.287026",
     "exception": false,
     "start_time": "2022-03-05T14:57:04.374348",
     "status": "completed"
    },
    "tags": []
   },
   "outputs": [
    {
     "name": "stdout",
     "output_type": "stream",
     "text": [
      "Collecting gdown\r\n",
      "  Downloading gdown-4.4.0.tar.gz (14 kB)\r\n",
      "  Installing build dependencies ... \u001b[?25l-\b \b\\\b \b|\b \b/\b \b-\b \bdone\r\n",
      "\u001b[?25h  Getting requirements to build wheel ... \u001b[?25l-\b \b\\\b \b|\b \bdone\r\n",
      "\u001b[?25h  Preparing metadata (pyproject.toml) ... \u001b[?25l-\b \b\\\b \b|\b \b/\b \bdone\r\n",
      "\u001b[?25hRequirement already satisfied: filelock in /opt/conda/lib/python3.7/site-packages (from gdown) (3.4.2)\r\n",
      "Requirement already satisfied: beautifulsoup4 in /opt/conda/lib/python3.7/site-packages (from gdown) (4.10.0)\r\n",
      "Requirement already satisfied: requests[socks] in /opt/conda/lib/python3.7/site-packages (from gdown) (2.26.0)\r\n",
      "Requirement already satisfied: six in /opt/conda/lib/python3.7/site-packages (from gdown) (1.16.0)\r\n",
      "Requirement already satisfied: tqdm in /opt/conda/lib/python3.7/site-packages (from gdown) (4.62.3)\r\n",
      "Requirement already satisfied: soupsieve>1.2 in /opt/conda/lib/python3.7/site-packages (from beautifulsoup4->gdown) (2.3.1)\r\n",
      "Requirement already satisfied: certifi>=2017.4.17 in /opt/conda/lib/python3.7/site-packages (from requests[socks]->gdown) (2021.10.8)\r\n",
      "Requirement already satisfied: idna<4,>=2.5 in /opt/conda/lib/python3.7/site-packages (from requests[socks]->gdown) (3.1)\r\n",
      "Requirement already satisfied: urllib3<1.27,>=1.21.1 in /opt/conda/lib/python3.7/site-packages (from requests[socks]->gdown) (1.26.7)\r\n",
      "Requirement already satisfied: charset-normalizer~=2.0.0 in /opt/conda/lib/python3.7/site-packages (from requests[socks]->gdown) (2.0.9)\r\n",
      "Requirement already satisfied: PySocks!=1.5.7,>=1.5.6 in /opt/conda/lib/python3.7/site-packages (from requests[socks]->gdown) (1.7.1)\r\n",
      "Building wheels for collected packages: gdown\r\n",
      "  Building wheel for gdown (pyproject.toml) ... \u001b[?25l-\b \b\\\b \b|\b \b/\b \b-\b \bdone\r\n",
      "\u001b[?25h  Created wheel for gdown: filename=gdown-4.4.0-py3-none-any.whl size=14775 sha256=67c10047fb9ff64c8dd87a8ecfcd5fbca142c7240ac66ef6fe98e6df6f54005d\r\n",
      "  Stored in directory: /root/.cache/pip/wheels/fb/c3/0e/c4d8ff8bfcb0461afff199471449f642179b74968c15b7a69c\r\n",
      "Successfully built gdown\r\n",
      "Installing collected packages: gdown\r\n",
      "Successfully installed gdown-4.4.0\r\n",
      "\u001b[33mWARNING: Running pip as the 'root' user can result in broken permissions and conflicting behaviour with the system package manager. It is recommended to use a virtual environment instead: https://pip.pypa.io/warnings/venv\u001b[0m\r\n",
      "/opt/conda/lib/python3.7/site-packages/gdown/cli.py:131: FutureWarning: Option `--id` was deprecated in version 4.3.1 and will be removed in 5.0. You don't need to pass it anymore to use a file ID.\r\n",
      "  category=FutureWarning,\r\n",
      "Downloading...\r\n",
      "From: https://drive.google.com/uc?id=1o6Ag-G3qItSmYhTheX6DYiuyNzWyHyTc\r\n",
      "To: /kaggle/working/libriphone.zip\r\n",
      "100%|████████████████████████████████████████| 479M/479M [00:07<00:00, 67.9MB/s]\r\n",
      "feat  test_split.txt  train_labels.txt\ttrain_split.txt\r\n"
     ]
    }
   ],
   "source": [
    "!pip install --upgrade gdown\n",
    "\n",
    "# Main link\n",
    "!gdown --id '1o6Ag-G3qItSmYhTheX6DYiuyNzWyHyTc' --output libriphone.zip\n",
    "\n",
    "# Backup link 1\n",
    "# !gdown --id '1R1uQYi4QpX0tBfUWt2mbZcncdBsJkxeW' --output libriphone.zip\n",
    "\n",
    "# Bqckup link 2\n",
    "# !wget -O libriphone.zip \"https://www.dropbox.com/s/wqww8c5dbrl2ka9/libriphone.zip?dl=1\"\n",
    "\n",
    "!unzip -q libriphone.zip\n",
    "!ls libriphone"
   ]
  },
  {
   "cell_type": "code",
   "execution_count": null,
   "id": "ca92a008",
   "metadata": {
    "papermill": {
     "duration": 0.055678,
     "end_time": "2022-03-05T14:57:49.397737",
     "exception": false,
     "start_time": "2022-03-05T14:57:49.342059",
     "status": "completed"
    },
    "tags": []
   },
   "outputs": [],
   "source": []
  },
  {
   "cell_type": "markdown",
   "id": "c0d2ad5b",
   "metadata": {
    "id": "_L_4anls8Drv",
    "papermill": {
     "duration": 0.055288,
     "end_time": "2022-03-05T14:57:49.508869",
     "exception": false,
     "start_time": "2022-03-05T14:57:49.453581",
     "status": "completed"
    },
    "tags": []
   },
   "source": [
    "### Preparing Data"
   ]
  },
  {
   "cell_type": "markdown",
   "id": "9e92e22a",
   "metadata": {
    "id": "po4N3C-AWuWl",
    "papermill": {
     "duration": 0.053674,
     "end_time": "2022-03-05T14:57:49.619141",
     "exception": false,
     "start_time": "2022-03-05T14:57:49.565467",
     "status": "completed"
    },
    "tags": []
   },
   "source": [
    "**Helper functions to pre-process the training data from raw MFCC features of each utterance.**\n",
    "\n",
    "A phoneme may span several frames and is dependent to past and future frames. \\\n",
    "Hence we concatenate neighboring phonemes for training to achieve higher accuracy. The **concat_feat** function concatenates past and future k frames (total 2k+1 = n frames), and we predict the center frame.\n",
    "\n",
    "Feel free to modify the data preprocess functions, but **do not drop any frame** (if you modify the functions, remember to check that the number of frames are the same as mentioned in the slides)"
   ]
  },
  {
   "cell_type": "code",
   "execution_count": 3,
   "id": "11fb015d",
   "metadata": {
    "execution": {
     "iopub.execute_input": "2022-03-05T14:57:49.760137Z",
     "iopub.status.busy": "2022-03-05T14:57:49.759005Z",
     "iopub.status.idle": "2022-03-05T14:57:51.802704Z",
     "shell.execute_reply": "2022-03-05T14:57:51.801563Z"
    },
    "id": "IJjLT8em-y9G",
    "papermill": {
     "duration": 2.131451,
     "end_time": "2022-03-05T14:57:51.802858",
     "exception": false,
     "start_time": "2022-03-05T14:57:49.671407",
     "status": "completed"
    },
    "tags": []
   },
   "outputs": [],
   "source": [
    "import os\n",
    "import random\n",
    "import pandas as pd\n",
    "import torch\n",
    "from tqdm import tqdm\n",
    "\n",
    "def load_feat(path):\n",
    "    feat = torch.load(path)\n",
    "    return feat\n",
    "\n",
    "def shift(x, n):\n",
    "    if n < 0:\n",
    "        left = x[0].repeat(-n, 1)\n",
    "        right = x[:n]\n",
    "\n",
    "    elif n > 0:\n",
    "        right = x[-1].repeat(n, 1)\n",
    "        left = x[n:]\n",
    "    else:\n",
    "        return x\n",
    "\n",
    "    return torch.cat((left, right), dim=0)\n",
    "\n",
    "def concat_feat(x, concat_n):\n",
    "    assert concat_n % 2 == 1 # n must be odd\n",
    "    if concat_n < 2:\n",
    "        return x\n",
    "    seq_len, feature_dim = x.size(0), x.size(1)\n",
    "    x = x.repeat(1, concat_n) \n",
    "    x = x.view(seq_len, concat_n, feature_dim).permute(1, 0, 2) # concat_n, seq_len, feature_dim\n",
    "    mid = (concat_n // 2)\n",
    "    for r_idx in range(1, mid+1):\n",
    "        x[mid + r_idx, :] = shift(x[mid + r_idx], r_idx)\n",
    "        x[mid - r_idx, :] = shift(x[mid - r_idx], -r_idx)\n",
    "\n",
    "    return x.permute(1, 0, 2).view(seq_len, concat_n * feature_dim)\n",
    "\n",
    "def preprocess_data(split, feat_dir, phone_path, concat_nframes, train_ratio=0.8, train_val_seed=1337):\n",
    "    class_num = 41 # NOTE: pre-computed, should not need change\n",
    "    mode = 'train' if (split == 'train' or split == 'val') else 'test'\n",
    "\n",
    "    label_dict = {}\n",
    "    if mode != 'test':\n",
    "      phone_file = open(os.path.join(phone_path, f'{mode}_labels.txt')).readlines()\n",
    "\n",
    "      for line in phone_file:\n",
    "          line = line.strip('\\n').split(' ')\n",
    "          label_dict[line[0]] = [int(p) for p in line[1:]]\n",
    "\n",
    "    if split == 'train' or split == 'val':\n",
    "        # split training and validation data\n",
    "        usage_list = open(os.path.join(phone_path, 'train_split.txt')).readlines()\n",
    "        random.seed(train_val_seed)\n",
    "        random.shuffle(usage_list)\n",
    "        percent = int(len(usage_list) * train_ratio)\n",
    "        usage_list = usage_list[:percent] if split == 'train' else usage_list[percent:]\n",
    "    elif split == 'test':\n",
    "        usage_list = open(os.path.join(phone_path, 'test_split.txt')).readlines()\n",
    "    else:\n",
    "        raise ValueError('Invalid \\'split\\' argument for dataset: PhoneDataset!')\n",
    "\n",
    "    usage_list = [line.strip('\\n') for line in usage_list]\n",
    "    print('[Dataset] - # phone classes: ' + str(class_num) + ', number of utterances for ' + split + ': ' + str(len(usage_list)))\n",
    "\n",
    "    max_len = 3000000\n",
    "    X = torch.empty(max_len, 39 * concat_nframes)\n",
    "    if mode != 'test':\n",
    "      y = torch.empty(max_len, dtype=torch.long)\n",
    "\n",
    "    idx = 0\n",
    "    for i, fname in tqdm(enumerate(usage_list)):\n",
    "        feat = load_feat(os.path.join(feat_dir, mode, f'{fname}.pt'))\n",
    "        cur_len = len(feat)\n",
    "        feat = concat_feat(feat, concat_nframes)\n",
    "        if mode != 'test':\n",
    "          label = torch.LongTensor(label_dict[fname])\n",
    "\n",
    "        X[idx: idx + cur_len, :] = feat\n",
    "        if mode != 'test':\n",
    "          y[idx: idx + cur_len] = label\n",
    "\n",
    "        idx += cur_len\n",
    "\n",
    "    X = X[:idx, :]\n",
    "    if mode != 'test':\n",
    "      y = y[:idx]\n",
    "\n",
    "    print(f'[INFO] {split} set')\n",
    "    print(X.shape)\n",
    "    if mode != 'test':\n",
    "      print(y.shape)\n",
    "      return X, y\n",
    "    else:\n",
    "      return X\n"
   ]
  },
  {
   "cell_type": "markdown",
   "id": "81d94d70",
   "metadata": {
    "id": "us5XW_x6udZQ",
    "papermill": {
     "duration": 0.053246,
     "end_time": "2022-03-05T14:57:51.908161",
     "exception": false,
     "start_time": "2022-03-05T14:57:51.854915",
     "status": "completed"
    },
    "tags": []
   },
   "source": [
    "## Define Dataset"
   ]
  },
  {
   "cell_type": "code",
   "execution_count": 4,
   "id": "c2d01a80",
   "metadata": {
    "execution": {
     "iopub.execute_input": "2022-03-05T14:57:52.019759Z",
     "iopub.status.busy": "2022-03-05T14:57:52.019021Z",
     "iopub.status.idle": "2022-03-05T14:57:52.023312Z",
     "shell.execute_reply": "2022-03-05T14:57:52.022771Z"
    },
    "id": "Fjf5EcmJtf4e",
    "papermill": {
     "duration": 0.062904,
     "end_time": "2022-03-05T14:57:52.023466",
     "exception": false,
     "start_time": "2022-03-05T14:57:51.960562",
     "status": "completed"
    },
    "tags": []
   },
   "outputs": [],
   "source": [
    "import torch\n",
    "from torch.utils.data import Dataset\n",
    "from torch.utils.data import DataLoader\n",
    "\n",
    "class LibriDataset(Dataset):\n",
    "    def __init__(self, X, y=None):\n",
    "        self.data = X\n",
    "        if y is not None:\n",
    "            self.label = torch.LongTensor(y)\n",
    "        else:\n",
    "            self.label = None\n",
    "\n",
    "    def __getitem__(self, idx):\n",
    "        if self.label is not None:\n",
    "            return self.data[idx], self.label[idx]\n",
    "        else:\n",
    "            return self.data[idx]\n",
    "\n",
    "    def __len__(self):\n",
    "        return len(self.data)\n"
   ]
  },
  {
   "cell_type": "markdown",
   "id": "7e131d75",
   "metadata": {
    "id": "IRqKNvNZwe3V",
    "papermill": {
     "duration": 0.051542,
     "end_time": "2022-03-05T14:57:52.129002",
     "exception": false,
     "start_time": "2022-03-05T14:57:52.077460",
     "status": "completed"
    },
    "tags": []
   },
   "source": [
    "## Define Model"
   ]
  },
  {
   "cell_type": "code",
   "execution_count": 5,
   "id": "3a2da9fb",
   "metadata": {
    "execution": {
     "iopub.execute_input": "2022-03-05T14:57:52.245763Z",
     "iopub.status.busy": "2022-03-05T14:57:52.243542Z",
     "iopub.status.idle": "2022-03-05T14:57:52.246638Z",
     "shell.execute_reply": "2022-03-05T14:57:52.247176Z"
    },
    "id": "Bg-GRd7ywdrL",
    "papermill": {
     "duration": 0.067031,
     "end_time": "2022-03-05T14:57:52.247388",
     "exception": false,
     "start_time": "2022-03-05T14:57:52.180357",
     "status": "completed"
    },
    "tags": []
   },
   "outputs": [],
   "source": [
    "import torch\n",
    "import torch.nn as nn\n",
    "import torch.nn.functional as F\n",
    "\n",
    "class BasicBlock(nn.Module):\n",
    "    def __init__(self, input_dim, output_dim):\n",
    "        super(BasicBlock, self).__init__()\n",
    "\n",
    "        self.block = nn.Sequential(\n",
    "            nn.Linear(input_dim, output_dim),\n",
    "            nn.BatchNorm1d(output_dim),\n",
    "            nn.Dropout(0.75),\n",
    "            nn.ReLU(),\n",
    "        )\n",
    "\n",
    "    def forward(self, x):\n",
    "        x = self.block(x)\n",
    "        return x\n",
    "\n",
    "\n",
    "class Classifier(nn.Module):\n",
    "    def __init__(self, input_dim, output_dim=41, hidden_layers=1, hidden_dim=256):\n",
    "        super(Classifier, self).__init__()\n",
    "\n",
    "        self.fc = nn.Sequential(\n",
    "            BasicBlock(input_dim, hidden_dim),\n",
    "            *[BasicBlock(hidden_dim, hidden_dim) for _ in range(hidden_layers)],\n",
    "            nn.Linear(hidden_dim, output_dim),\n",
    "            nn.BatchNorm1d(output_dim),\n",
    "            nn.Dropout(0.75),\n",
    "            nn.ReLU()\n",
    "        )\n",
    "\n",
    "    def forward(self, x):\n",
    "        x = self.fc(x)\n",
    "        return x"
   ]
  },
  {
   "cell_type": "markdown",
   "id": "81dfbcf7",
   "metadata": {
    "id": "TlIq8JeqvvHC",
    "papermill": {
     "duration": 0.052064,
     "end_time": "2022-03-05T14:57:52.351324",
     "exception": false,
     "start_time": "2022-03-05T14:57:52.299260",
     "status": "completed"
    },
    "tags": []
   },
   "source": [
    "## Hyper-parameters"
   ]
  },
  {
   "cell_type": "code",
   "execution_count": 6,
   "id": "0e2cdb63",
   "metadata": {
    "execution": {
     "iopub.execute_input": "2022-03-05T14:57:52.462805Z",
     "iopub.status.busy": "2022-03-05T14:57:52.461755Z",
     "iopub.status.idle": "2022-03-05T14:57:52.465038Z",
     "shell.execute_reply": "2022-03-05T14:57:52.464405Z"
    },
    "id": "iIHn79Iav1ri",
    "papermill": {
     "duration": 0.061594,
     "end_time": "2022-03-05T14:57:52.465156",
     "exception": false,
     "start_time": "2022-03-05T14:57:52.403562",
     "status": "completed"
    },
    "tags": []
   },
   "outputs": [],
   "source": [
    "# data prarameters\n",
    "concat_nframes = 11             # the number of frames to concat with, n must be odd (total 2k+1 = n frames)\n",
    "train_ratio = 0.8               # the ratio of data used for training, the rest will be used for validation\n",
    "\n",
    "# training parameters\n",
    "seed = 888                      # random seed\n",
    "batch_size = 512                # batch size\n",
    "num_epoch = 3000                # the number of training epoch\n",
    "learning_rate = 0.0001          # learning rate\n",
    "model_path = './model.ckpt'     # the path where the checkpoint will be saved\n",
    "\n",
    "# model parameters\n",
    "input_dim = 39 * concat_nframes # the input dim of the model, you should not change the value\n",
    "hidden_layers = 2              # the number of hidden layers\n",
    "hidden_dim = 1700               # the hidden dim"
   ]
  },
  {
   "cell_type": "markdown",
   "id": "9236ea61",
   "metadata": {
    "id": "IIUFRgG5yoDn",
    "papermill": {
     "duration": 0.053392,
     "end_time": "2022-03-05T14:57:52.570492",
     "exception": false,
     "start_time": "2022-03-05T14:57:52.517100",
     "status": "completed"
    },
    "tags": []
   },
   "source": [
    "## Prepare dataset and model"
   ]
  },
  {
   "cell_type": "code",
   "execution_count": 7,
   "id": "acd3add3",
   "metadata": {
    "execution": {
     "iopub.execute_input": "2022-03-05T14:57:52.683794Z",
     "iopub.status.busy": "2022-03-05T14:57:52.682625Z",
     "iopub.status.idle": "2022-03-05T14:58:05.274768Z",
     "shell.execute_reply": "2022-03-05T14:58:05.275373Z"
    },
    "id": "c1zI3v5jyrDn",
    "outputId": "7fd90470-ef44-404a-a043-cb8e83fd1801",
    "papermill": {
     "duration": 12.652384,
     "end_time": "2022-03-05T14:58:05.275553",
     "exception": false,
     "start_time": "2022-03-05T14:57:52.623169",
     "status": "completed"
    },
    "tags": []
   },
   "outputs": [
    {
     "name": "stdout",
     "output_type": "stream",
     "text": [
      "[Dataset] - # phone classes: 41, number of utterances for train: 3428\n"
     ]
    },
    {
     "name": "stderr",
     "output_type": "stream",
     "text": [
      "3428it [00:09, 373.93it/s]\n"
     ]
    },
    {
     "name": "stdout",
     "output_type": "stream",
     "text": [
      "[INFO] train set\n",
      "torch.Size([2116368, 429])\n",
      "torch.Size([2116368])\n",
      "[Dataset] - # phone classes: 41, number of utterances for val: 858\n"
     ]
    },
    {
     "name": "stderr",
     "output_type": "stream",
     "text": [
      "858it [00:02, 426.98it/s]\n"
     ]
    },
    {
     "name": "stdout",
     "output_type": "stream",
     "text": [
      "[INFO] val set\n",
      "torch.Size([527790, 429])\n",
      "torch.Size([527790])\n"
     ]
    }
   ],
   "source": [
    "import gc\n",
    "\n",
    "# preprocess data\n",
    "train_X, train_y = preprocess_data(split='train', feat_dir='./libriphone/feat', phone_path='./libriphone', concat_nframes=concat_nframes, train_ratio=train_ratio)\n",
    "val_X, val_y = preprocess_data(split='val', feat_dir='./libriphone/feat', phone_path='./libriphone', concat_nframes=concat_nframes, train_ratio=train_ratio)\n",
    "\n",
    "# get dataset\n",
    "train_set = LibriDataset(train_X, train_y)\n",
    "val_set = LibriDataset(val_X, val_y)\n",
    "\n",
    "# remove raw feature to save memory\n",
    "del train_X, train_y, val_X, val_y\n",
    "gc.collect()\n",
    "\n",
    "# get dataloader\n",
    "train_loader = DataLoader(train_set, batch_size=batch_size, shuffle=True)\n",
    "val_loader = DataLoader(val_set, batch_size=batch_size, shuffle=False)"
   ]
  },
  {
   "cell_type": "code",
   "execution_count": 8,
   "id": "ec5d9aff",
   "metadata": {
    "execution": {
     "iopub.execute_input": "2022-03-05T14:58:05.528491Z",
     "iopub.status.busy": "2022-03-05T14:58:05.475711Z",
     "iopub.status.idle": "2022-03-05T14:58:05.532199Z",
     "shell.execute_reply": "2022-03-05T14:58:05.532794Z"
    },
    "id": "CfRUEgC0GxUV",
    "outputId": "75dcb672-a97d-43ff-b0f1-cb23d27fe65a",
    "papermill": {
     "duration": 0.15992,
     "end_time": "2022-03-05T14:58:05.533037",
     "exception": false,
     "start_time": "2022-03-05T14:58:05.373117",
     "status": "completed"
    },
    "tags": []
   },
   "outputs": [
    {
     "name": "stdout",
     "output_type": "stream",
     "text": [
      "DEVICE: cuda:0\n"
     ]
    }
   ],
   "source": [
    "device = 'cuda:0' if torch.cuda.is_available() else 'cpu'\n",
    "print(f'DEVICE: {device}')"
   ]
  },
  {
   "cell_type": "code",
   "execution_count": 9,
   "id": "50919d2d",
   "metadata": {
    "execution": {
     "iopub.execute_input": "2022-03-05T14:58:05.734606Z",
     "iopub.status.busy": "2022-03-05T14:58:05.733577Z",
     "iopub.status.idle": "2022-03-05T14:58:05.740779Z",
     "shell.execute_reply": "2022-03-05T14:58:05.740262Z"
    },
    "id": "88xPiUnm0tAd",
    "papermill": {
     "duration": 0.107588,
     "end_time": "2022-03-05T14:58:05.740921",
     "exception": false,
     "start_time": "2022-03-05T14:58:05.633333",
     "status": "completed"
    },
    "tags": []
   },
   "outputs": [],
   "source": [
    "import numpy as np\n",
    "\n",
    "#fix seed\n",
    "def same_seeds(seed):\n",
    "    torch.manual_seed(seed)\n",
    "    if torch.cuda.is_available():\n",
    "        torch.cuda.manual_seed(seed)\n",
    "        torch.cuda.manual_seed_all(seed)  \n",
    "    np.random.seed(seed)  \n",
    "    torch.backends.cudnn.benchmark = False\n",
    "    torch.backends.cudnn.deterministic = True"
   ]
  },
  {
   "cell_type": "code",
   "execution_count": 10,
   "id": "83aee151",
   "metadata": {
    "execution": {
     "iopub.execute_input": "2022-03-05T14:58:05.946038Z",
     "iopub.status.busy": "2022-03-05T14:58:05.945148Z",
     "iopub.status.idle": "2022-03-05T14:58:09.266433Z",
     "shell.execute_reply": "2022-03-05T14:58:09.267019Z"
    },
    "id": "QTp3ZXg1yO9Y",
    "papermill": {
     "duration": 3.427655,
     "end_time": "2022-03-05T14:58:09.267223",
     "exception": false,
     "start_time": "2022-03-05T14:58:05.839568",
     "status": "completed"
    },
    "tags": []
   },
   "outputs": [],
   "source": [
    "# fix random seed\n",
    "same_seeds(seed)\n",
    "\n",
    "# create model, define a loss function, and optimizer\n",
    "model = Classifier(input_dim=input_dim, hidden_layers=hidden_layers, hidden_dim=hidden_dim).to(device)\n",
    "criterion = nn.CrossEntropyLoss() \n",
    "optimizer = torch.optim.AdamW(model.parameters(), lr=learning_rate)"
   ]
  },
  {
   "cell_type": "markdown",
   "id": "5a085746",
   "metadata": {
    "id": "pwWH1KIqzxEr",
    "papermill": {
     "duration": 0.172673,
     "end_time": "2022-03-05T14:58:09.655164",
     "exception": false,
     "start_time": "2022-03-05T14:58:09.482491",
     "status": "completed"
    },
    "tags": []
   },
   "source": [
    "## Training"
   ]
  },
  {
   "cell_type": "code",
   "execution_count": 11,
   "id": "97debfe9",
   "metadata": {
    "execution": {
     "iopub.execute_input": "2022-03-05T14:58:09.972122Z",
     "iopub.status.busy": "2022-03-05T14:58:09.971030Z",
     "iopub.status.idle": "2022-03-05T20:09:52.569308Z",
     "shell.execute_reply": "2022-03-05T20:09:52.482255Z"
    },
    "id": "CdMWsBs7zzNs",
    "outputId": "cfb0046d-52a5-4a90-c073-f4091e8b230e",
    "papermill": {
     "duration": 18702.740611,
     "end_time": "2022-03-05T20:09:52.569538",
     "exception": false,
     "start_time": "2022-03-05T14:58:09.828927",
     "status": "completed"
    },
    "tags": []
   },
   "outputs": [
    {
     "name": "stderr",
     "output_type": "stream",
     "text": [
      "100%|██████████| 4134/4134 [00:42<00:00, 97.10it/s] \n",
      "100%|██████████| 1031/1031 [00:05<00:00, 191.39it/s]\n"
     ]
    },
    {
     "name": "stdout",
     "output_type": "stream",
     "text": [
      "[001/3000] Train Acc: 0.122246 Loss: 3.644847 | Val Acc: 0.421736 loss: 3.123852\n",
      "saving model with acc 0.422\n"
     ]
    },
    {
     "name": "stderr",
     "output_type": "stream",
     "text": [
      "100%|██████████| 4134/4134 [00:42<00:00, 96.54it/s] \n",
      "100%|██████████| 1031/1031 [00:05<00:00, 184.79it/s]\n"
     ]
    },
    {
     "name": "stdout",
     "output_type": "stream",
     "text": [
      "[002/3000] Train Acc: 0.199136 Loss: 3.372416 | Val Acc: 0.490439 loss: 3.003703\n",
      "saving model with acc 0.490\n"
     ]
    },
    {
     "name": "stderr",
     "output_type": "stream",
     "text": [
      "100%|██████████| 4134/4134 [00:42<00:00, 98.20it/s] \n",
      "100%|██████████| 1031/1031 [00:05<00:00, 191.36it/s]\n"
     ]
    },
    {
     "name": "stdout",
     "output_type": "stream",
     "text": [
      "[003/3000] Train Acc: 0.232307 Loss: 3.331806 | Val Acc: 0.527808 loss: 2.947173\n",
      "saving model with acc 0.528\n"
     ]
    },
    {
     "name": "stderr",
     "output_type": "stream",
     "text": [
      "100%|██████████| 4134/4134 [00:43<00:00, 95.53it/s]\n",
      "100%|██████████| 1031/1031 [00:05<00:00, 180.51it/s]\n"
     ]
    },
    {
     "name": "stdout",
     "output_type": "stream",
     "text": [
      "[004/3000] Train Acc: 0.247310 Loss: 3.306948 | Val Acc: 0.547261 loss: 2.915286\n",
      "saving model with acc 0.547\n"
     ]
    },
    {
     "name": "stderr",
     "output_type": "stream",
     "text": [
      "100%|██████████| 4134/4134 [00:42<00:00, 96.54it/s] \n",
      "100%|██████████| 1031/1031 [00:05<00:00, 204.52it/s]\n"
     ]
    },
    {
     "name": "stdout",
     "output_type": "stream",
     "text": [
      "[005/3000] Train Acc: 0.265341 Loss: 3.289947 | Val Acc: 0.561477 loss: 2.874522\n",
      "saving model with acc 0.561\n"
     ]
    },
    {
     "name": "stderr",
     "output_type": "stream",
     "text": [
      "100%|██████████| 4134/4134 [00:42<00:00, 96.69it/s]\n",
      "100%|██████████| 1031/1031 [00:06<00:00, 150.25it/s]\n"
     ]
    },
    {
     "name": "stdout",
     "output_type": "stream",
     "text": [
      "[006/3000] Train Acc: 0.280530 Loss: 3.277306 | Val Acc: 0.572046 loss: 2.864587\n",
      "saving model with acc 0.572\n"
     ]
    },
    {
     "name": "stderr",
     "output_type": "stream",
     "text": [
      "100%|██████████| 4134/4134 [00:42<00:00, 96.34it/s] \n",
      "100%|██████████| 1031/1031 [00:04<00:00, 206.40it/s]\n"
     ]
    },
    {
     "name": "stdout",
     "output_type": "stream",
     "text": [
      "[007/3000] Train Acc: 0.288842 Loss: 3.268122 | Val Acc: 0.579895 loss: 2.854587\n",
      "saving model with acc 0.580\n"
     ]
    },
    {
     "name": "stderr",
     "output_type": "stream",
     "text": [
      "100%|██████████| 4134/4134 [00:42<00:00, 96.80it/s]\n",
      "100%|██████████| 1031/1031 [00:06<00:00, 148.43it/s]\n"
     ]
    },
    {
     "name": "stdout",
     "output_type": "stream",
     "text": [
      "[008/3000] Train Acc: 0.292287 Loss: 3.263935 | Val Acc: 0.585943 loss: 2.845267\n",
      "saving model with acc 0.586\n"
     ]
    },
    {
     "name": "stderr",
     "output_type": "stream",
     "text": [
      "100%|██████████| 4134/4134 [00:42<00:00, 96.44it/s] \n",
      "100%|██████████| 1031/1031 [00:05<00:00, 199.87it/s]\n"
     ]
    },
    {
     "name": "stdout",
     "output_type": "stream",
     "text": [
      "[009/3000] Train Acc: 0.294817 Loss: 3.258247 | Val Acc: 0.592171 loss: 2.843377\n",
      "saving model with acc 0.592\n"
     ]
    },
    {
     "name": "stderr",
     "output_type": "stream",
     "text": [
      "100%|██████████| 4134/4134 [00:42<00:00, 96.43it/s] \n",
      "100%|██████████| 1031/1031 [00:06<00:00, 161.81it/s]\n"
     ]
    },
    {
     "name": "stdout",
     "output_type": "stream",
     "text": [
      "[010/3000] Train Acc: 0.297021 Loss: 3.253958 | Val Acc: 0.596379 loss: 2.831513\n",
      "saving model with acc 0.596\n"
     ]
    },
    {
     "name": "stderr",
     "output_type": "stream",
     "text": [
      "100%|██████████| 4134/4134 [00:44<00:00, 93.41it/s]\n",
      "100%|██████████| 1031/1031 [00:05<00:00, 205.88it/s]\n"
     ]
    },
    {
     "name": "stdout",
     "output_type": "stream",
     "text": [
      "[011/3000] Train Acc: 0.298040 Loss: 3.249850 | Val Acc: 0.601341 loss: 2.829310\n",
      "saving model with acc 0.601\n"
     ]
    },
    {
     "name": "stderr",
     "output_type": "stream",
     "text": [
      "100%|██████████| 4134/4134 [00:43<00:00, 96.04it/s] \n",
      "100%|██████████| 1031/1031 [00:05<00:00, 174.18it/s]\n"
     ]
    },
    {
     "name": "stdout",
     "output_type": "stream",
     "text": [
      "[012/3000] Train Acc: 0.298747 Loss: 3.247364 | Val Acc: 0.603740 loss: 2.807850\n",
      "saving model with acc 0.604\n"
     ]
    },
    {
     "name": "stderr",
     "output_type": "stream",
     "text": [
      "100%|██████████| 4134/4134 [00:45<00:00, 91.63it/s] \n",
      "100%|██████████| 1031/1031 [00:05<00:00, 204.82it/s]\n"
     ]
    },
    {
     "name": "stdout",
     "output_type": "stream",
     "text": [
      "[013/3000] Train Acc: 0.299933 Loss: 3.242660 | Val Acc: 0.606548 loss: 2.813417\n",
      "saving model with acc 0.607\n"
     ]
    },
    {
     "name": "stderr",
     "output_type": "stream",
     "text": [
      "100%|██████████| 4134/4134 [00:43<00:00, 94.40it/s] \n",
      "100%|██████████| 1031/1031 [00:05<00:00, 177.04it/s]\n"
     ]
    },
    {
     "name": "stdout",
     "output_type": "stream",
     "text": [
      "[014/3000] Train Acc: 0.300307 Loss: 3.240880 | Val Acc: 0.610175 loss: 2.800591\n",
      "saving model with acc 0.610\n"
     ]
    },
    {
     "name": "stderr",
     "output_type": "stream",
     "text": [
      "100%|██████████| 4134/4134 [00:44<00:00, 93.30it/s]\n",
      "100%|██████████| 1031/1031 [00:06<00:00, 165.42it/s]\n"
     ]
    },
    {
     "name": "stdout",
     "output_type": "stream",
     "text": [
      "[015/3000] Train Acc: 0.300041 Loss: 3.238623 | Val Acc: 0.612531 loss: 2.809097\n",
      "saving model with acc 0.613\n"
     ]
    },
    {
     "name": "stderr",
     "output_type": "stream",
     "text": [
      "100%|██████████| 4134/4134 [00:43<00:00, 95.10it/s] \n",
      "100%|██████████| 1031/1031 [00:05<00:00, 177.83it/s]\n"
     ]
    },
    {
     "name": "stdout",
     "output_type": "stream",
     "text": [
      "[016/3000] Train Acc: 0.300749 Loss: 3.235335 | Val Acc: 0.614381 loss: 2.796044\n",
      "saving model with acc 0.614\n"
     ]
    },
    {
     "name": "stderr",
     "output_type": "stream",
     "text": [
      "100%|██████████| 4134/4134 [00:43<00:00, 94.57it/s] \n",
      "100%|██████████| 1031/1031 [00:05<00:00, 201.75it/s]\n"
     ]
    },
    {
     "name": "stdout",
     "output_type": "stream",
     "text": [
      "[017/3000] Train Acc: 0.300168 Loss: 3.235271 | Val Acc: 0.616802 loss: 2.810342\n",
      "saving model with acc 0.617\n"
     ]
    },
    {
     "name": "stderr",
     "output_type": "stream",
     "text": [
      "100%|██████████| 4134/4134 [00:46<00:00, 88.60it/s]\n",
      "100%|██████████| 1031/1031 [00:05<00:00, 190.10it/s]\n"
     ]
    },
    {
     "name": "stdout",
     "output_type": "stream",
     "text": [
      "[018/3000] Train Acc: 0.300375 Loss: 3.232618 | Val Acc: 0.618289 loss: 2.798851\n",
      "saving model with acc 0.618\n"
     ]
    },
    {
     "name": "stderr",
     "output_type": "stream",
     "text": [
      "100%|██████████| 4134/4134 [00:44<00:00, 92.39it/s] \n",
      "100%|██████████| 1031/1031 [00:05<00:00, 194.55it/s]\n"
     ]
    },
    {
     "name": "stdout",
     "output_type": "stream",
     "text": [
      "[019/3000] Train Acc: 0.300215 Loss: 3.228735 | Val Acc: 0.620074 loss: 2.795463\n",
      "saving model with acc 0.620\n"
     ]
    },
    {
     "name": "stderr",
     "output_type": "stream",
     "text": [
      "100%|██████████| 4134/4134 [00:43<00:00, 94.44it/s]\n",
      "100%|██████████| 1031/1031 [00:06<00:00, 160.43it/s]\n"
     ]
    },
    {
     "name": "stdout",
     "output_type": "stream",
     "text": [
      "[020/3000] Train Acc: 0.300675 Loss: 3.227397 | Val Acc: 0.622560 loss: 2.789910\n",
      "saving model with acc 0.623\n"
     ]
    },
    {
     "name": "stderr",
     "output_type": "stream",
     "text": [
      "100%|██████████| 4134/4134 [00:41<00:00, 99.48it/s] \n",
      "100%|██████████| 1031/1031 [00:05<00:00, 204.47it/s]\n"
     ]
    },
    {
     "name": "stdout",
     "output_type": "stream",
     "text": [
      "[021/3000] Train Acc: 0.299472 Loss: 3.228529 | Val Acc: 0.624082 loss: 2.781885\n",
      "saving model with acc 0.624\n"
     ]
    },
    {
     "name": "stderr",
     "output_type": "stream",
     "text": [
      "100%|██████████| 4134/4134 [00:44<00:00, 92.63it/s]\n",
      "100%|██████████| 1031/1031 [00:05<00:00, 177.28it/s]\n"
     ]
    },
    {
     "name": "stdout",
     "output_type": "stream",
     "text": [
      "[022/3000] Train Acc: 0.300269 Loss: 3.228172 | Val Acc: 0.625252 loss: 2.783691\n",
      "saving model with acc 0.625\n"
     ]
    },
    {
     "name": "stderr",
     "output_type": "stream",
     "text": [
      "100%|██████████| 4134/4134 [00:44<00:00, 92.63it/s] \n",
      "100%|██████████| 1031/1031 [00:05<00:00, 196.89it/s]\n"
     ]
    },
    {
     "name": "stdout",
     "output_type": "stream",
     "text": [
      "[023/3000] Train Acc: 0.300472 Loss: 3.224486 | Val Acc: 0.626204 loss: 2.782393\n",
      "saving model with acc 0.626\n"
     ]
    },
    {
     "name": "stderr",
     "output_type": "stream",
     "text": [
      "100%|██████████| 4134/4134 [00:41<00:00, 100.66it/s]\n",
      "100%|██████████| 1031/1031 [00:06<00:00, 170.36it/s]\n"
     ]
    },
    {
     "name": "stdout",
     "output_type": "stream",
     "text": [
      "[024/3000] Train Acc: 0.300450 Loss: 3.223229 | Val Acc: 0.628648 loss: 2.782958\n",
      "saving model with acc 0.629\n"
     ]
    },
    {
     "name": "stderr",
     "output_type": "stream",
     "text": [
      "100%|██████████| 4134/4134 [00:44<00:00, 93.29it/s] \n",
      "100%|██████████| 1031/1031 [00:05<00:00, 202.45it/s]\n"
     ]
    },
    {
     "name": "stdout",
     "output_type": "stream",
     "text": [
      "[025/3000] Train Acc: 0.300221 Loss: 3.221825 | Val Acc: 0.630281 loss: 2.784572\n",
      "saving model with acc 0.630\n"
     ]
    },
    {
     "name": "stderr",
     "output_type": "stream",
     "text": [
      "100%|██████████| 4134/4134 [00:44<00:00, 92.13it/s]\n",
      "100%|██████████| 1031/1031 [00:05<00:00, 177.31it/s]\n"
     ]
    },
    {
     "name": "stdout",
     "output_type": "stream",
     "text": [
      "[026/3000] Train Acc: 0.300856 Loss: 3.221703 | Val Acc: 0.630863 loss: 2.777033\n",
      "saving model with acc 0.631\n"
     ]
    },
    {
     "name": "stderr",
     "output_type": "stream",
     "text": [
      "100%|██████████| 4134/4134 [00:43<00:00, 94.67it/s]\n",
      "100%|██████████| 1031/1031 [00:06<00:00, 159.80it/s]\n"
     ]
    },
    {
     "name": "stdout",
     "output_type": "stream",
     "text": [
      "[027/3000] Train Acc: 0.301052 Loss: 3.220149 | Val Acc: 0.632130 loss: 2.775464\n",
      "saving model with acc 0.632\n"
     ]
    },
    {
     "name": "stderr",
     "output_type": "stream",
     "text": [
      "100%|██████████| 4134/4134 [00:41<00:00, 99.70it/s] \n",
      "100%|██████████| 1031/1031 [00:05<00:00, 179.28it/s]\n"
     ]
    },
    {
     "name": "stdout",
     "output_type": "stream",
     "text": [
      "[028/3000] Train Acc: 0.301092 Loss: 3.218128 | Val Acc: 0.632922 loss: 2.775957\n",
      "saving model with acc 0.633\n"
     ]
    },
    {
     "name": "stderr",
     "output_type": "stream",
     "text": [
      "100%|██████████| 4134/4134 [00:45<00:00, 91.70it/s] \n",
      "100%|██████████| 1031/1031 [00:04<00:00, 207.83it/s]\n"
     ]
    },
    {
     "name": "stdout",
     "output_type": "stream",
     "text": [
      "[029/3000] Train Acc: 0.300991 Loss: 3.219060 | Val Acc: 0.634076 loss: 2.764505\n",
      "saving model with acc 0.634\n"
     ]
    },
    {
     "name": "stderr",
     "output_type": "stream",
     "text": [
      "100%|██████████| 4134/4134 [00:45<00:00, 90.71it/s]\n",
      "100%|██████████| 1031/1031 [00:05<00:00, 187.59it/s]\n"
     ]
    },
    {
     "name": "stdout",
     "output_type": "stream",
     "text": [
      "[030/3000] Train Acc: 0.301034 Loss: 3.216829 | Val Acc: 0.635137 loss: 2.777501\n",
      "saving model with acc 0.635\n"
     ]
    },
    {
     "name": "stderr",
     "output_type": "stream",
     "text": [
      "100%|██████████| 4134/4134 [00:41<00:00, 100.37it/s]\n",
      "100%|██████████| 1031/1031 [00:05<00:00, 201.74it/s]\n"
     ]
    },
    {
     "name": "stdout",
     "output_type": "stream",
     "text": [
      "[031/3000] Train Acc: 0.301231 Loss: 3.217201 | Val Acc: 0.635880 loss: 2.765499\n",
      "saving model with acc 0.636\n"
     ]
    },
    {
     "name": "stderr",
     "output_type": "stream",
     "text": [
      "100%|██████████| 4134/4134 [00:45<00:00, 90.86it/s] \n",
      "100%|██████████| 1031/1031 [00:05<00:00, 195.18it/s]\n"
     ]
    },
    {
     "name": "stdout",
     "output_type": "stream",
     "text": [
      "[032/3000] Train Acc: 0.301576 Loss: 3.215224 | Val Acc: 0.637288 loss: 2.761456\n",
      "saving model with acc 0.637\n"
     ]
    },
    {
     "name": "stderr",
     "output_type": "stream",
     "text": [
      "100%|██████████| 4134/4134 [00:46<00:00, 89.66it/s] \n",
      "100%|██████████| 1031/1031 [00:05<00:00, 192.53it/s]\n"
     ]
    },
    {
     "name": "stdout",
     "output_type": "stream",
     "text": [
      "[033/3000] Train Acc: 0.301277 Loss: 3.215271 | Val Acc: 0.638534 loss: 2.772909\n",
      "saving model with acc 0.639\n"
     ]
    },
    {
     "name": "stderr",
     "output_type": "stream",
     "text": [
      "100%|██████████| 4134/4134 [00:41<00:00, 100.46it/s]\n",
      "100%|██████████| 1031/1031 [00:05<00:00, 181.26it/s]\n"
     ]
    },
    {
     "name": "stdout",
     "output_type": "stream",
     "text": [
      "[034/3000] Train Acc: 0.301775 Loss: 3.211986 | Val Acc: 0.638199 loss: 2.769526\n",
      "[034/3000] Train Acc: 0.301775 Loss: 3.211986\n"
     ]
    },
    {
     "name": "stderr",
     "output_type": "stream",
     "text": [
      "100%|██████████| 4134/4134 [00:45<00:00, 90.44it/s] \n",
      "100%|██████████| 1031/1031 [00:05<00:00, 205.79it/s]\n"
     ]
    },
    {
     "name": "stdout",
     "output_type": "stream",
     "text": [
      "[035/3000] Train Acc: 0.302211 Loss: 3.211925 | Val Acc: 0.639618 loss: 2.760813\n",
      "saving model with acc 0.640\n"
     ]
    },
    {
     "name": "stderr",
     "output_type": "stream",
     "text": [
      "100%|██████████| 4134/4134 [00:46<00:00, 89.64it/s] \n",
      "100%|██████████| 1031/1031 [00:05<00:00, 192.45it/s]\n"
     ]
    },
    {
     "name": "stdout",
     "output_type": "stream",
     "text": [
      "[036/3000] Train Acc: 0.301861 Loss: 3.212036 | Val Acc: 0.640732 loss: 2.760423\n",
      "saving model with acc 0.641\n"
     ]
    },
    {
     "name": "stderr",
     "output_type": "stream",
     "text": [
      "100%|██████████| 4134/4134 [00:41<00:00, 100.62it/s]\n",
      "100%|██████████| 1031/1031 [00:07<00:00, 142.26it/s]\n"
     ]
    },
    {
     "name": "stdout",
     "output_type": "stream",
     "text": [
      "[037/3000] Train Acc: 0.301788 Loss: 3.212592 | Val Acc: 0.641297 loss: 2.765668\n",
      "saving model with acc 0.641\n"
     ]
    },
    {
     "name": "stderr",
     "output_type": "stream",
     "text": [
      "100%|██████████| 4134/4134 [00:43<00:00, 95.15it/s] \n",
      "100%|██████████| 1031/1031 [00:05<00:00, 190.70it/s]\n"
     ]
    },
    {
     "name": "stdout",
     "output_type": "stream",
     "text": [
      "[038/3000] Train Acc: 0.301781 Loss: 3.211544 | Val Acc: 0.642271 loss: 2.764425\n",
      "saving model with acc 0.642\n"
     ]
    },
    {
     "name": "stderr",
     "output_type": "stream",
     "text": [
      "100%|██████████| 4134/4134 [00:46<00:00, 89.54it/s] \n",
      "100%|██████████| 1031/1031 [00:05<00:00, 196.58it/s]\n"
     ]
    },
    {
     "name": "stdout",
     "output_type": "stream",
     "text": [
      "[039/3000] Train Acc: 0.302106 Loss: 3.210753 | Val Acc: 0.643487 loss: 2.755388\n",
      "saving model with acc 0.643\n"
     ]
    },
    {
     "name": "stderr",
     "output_type": "stream",
     "text": [
      "100%|██████████| 4134/4134 [00:41<00:00, 98.90it/s]\n",
      "100%|██████████| 1031/1031 [00:08<00:00, 119.00it/s]\n"
     ]
    },
    {
     "name": "stdout",
     "output_type": "stream",
     "text": [
      "[040/3000] Train Acc: 0.302522 Loss: 3.208645 | Val Acc: 0.643316 loss: 2.753661\n",
      "[040/3000] Train Acc: 0.302522 Loss: 3.208645\n"
     ]
    },
    {
     "name": "stderr",
     "output_type": "stream",
     "text": [
      "100%|██████████| 4134/4134 [00:42<00:00, 96.85it/s]\n",
      "100%|██████████| 1031/1031 [00:05<00:00, 197.88it/s]\n"
     ]
    },
    {
     "name": "stdout",
     "output_type": "stream",
     "text": [
      "[041/3000] Train Acc: 0.302030 Loss: 3.209080 | Val Acc: 0.643392 loss: 2.755096\n",
      "[041/3000] Train Acc: 0.302030 Loss: 3.209080\n"
     ]
    },
    {
     "name": "stderr",
     "output_type": "stream",
     "text": [
      "100%|██████████| 4134/4134 [00:46<00:00, 89.29it/s] \n",
      "100%|██████████| 1031/1031 [00:05<00:00, 190.70it/s]\n"
     ]
    },
    {
     "name": "stdout",
     "output_type": "stream",
     "text": [
      "[042/3000] Train Acc: 0.303036 Loss: 3.206586 | Val Acc: 0.644933 loss: 2.754107\n",
      "saving model with acc 0.645\n"
     ]
    },
    {
     "name": "stderr",
     "output_type": "stream",
     "text": [
      "100%|██████████| 4134/4134 [00:42<00:00, 98.37it/s]\n",
      "100%|██████████| 1031/1031 [00:07<00:00, 131.75it/s]\n"
     ]
    },
    {
     "name": "stdout",
     "output_type": "stream",
     "text": [
      "[043/3000] Train Acc: 0.302469 Loss: 3.207422 | Val Acc: 0.645781 loss: 2.748724\n",
      "saving model with acc 0.646\n"
     ]
    },
    {
     "name": "stderr",
     "output_type": "stream",
     "text": [
      "100%|██████████| 4134/4134 [00:43<00:00, 95.74it/s] \n",
      "100%|██████████| 1031/1031 [00:05<00:00, 189.68it/s]\n"
     ]
    },
    {
     "name": "stdout",
     "output_type": "stream",
     "text": [
      "[044/3000] Train Acc: 0.302042 Loss: 3.207303 | Val Acc: 0.646405 loss: 2.756449\n",
      "saving model with acc 0.646\n"
     ]
    },
    {
     "name": "stderr",
     "output_type": "stream",
     "text": [
      "100%|██████████| 4134/4134 [00:47<00:00, 87.25it/s]\n",
      "100%|██████████| 1031/1031 [00:05<00:00, 204.52it/s]\n"
     ]
    },
    {
     "name": "stdout",
     "output_type": "stream",
     "text": [
      "[045/3000] Train Acc: 0.302916 Loss: 3.206208 | Val Acc: 0.647021 loss: 2.751267\n",
      "saving model with acc 0.647\n"
     ]
    },
    {
     "name": "stderr",
     "output_type": "stream",
     "text": [
      "100%|██████████| 4134/4134 [00:41<00:00, 99.86it/s] \n",
      "100%|██████████| 1031/1031 [00:05<00:00, 185.41it/s]\n"
     ]
    },
    {
     "name": "stdout",
     "output_type": "stream",
     "text": [
      "[046/3000] Train Acc: 0.302700 Loss: 3.205926 | Val Acc: 0.647828 loss: 2.754489\n",
      "saving model with acc 0.648\n"
     ]
    },
    {
     "name": "stderr",
     "output_type": "stream",
     "text": [
      "100%|██████████| 4134/4134 [00:41<00:00, 100.79it/s]\n",
      "100%|██████████| 1031/1031 [00:05<00:00, 200.27it/s]\n"
     ]
    },
    {
     "name": "stdout",
     "output_type": "stream",
     "text": [
      "[047/3000] Train Acc: 0.302775 Loss: 3.205340 | Val Acc: 0.647470 loss: 2.754138\n",
      "[047/3000] Train Acc: 0.302775 Loss: 3.205340\n"
     ]
    },
    {
     "name": "stderr",
     "output_type": "stream",
     "text": [
      "100%|██████████| 4134/4134 [00:47<00:00, 86.37it/s]\n",
      "100%|██████████| 1031/1031 [00:05<00:00, 189.60it/s]\n"
     ]
    },
    {
     "name": "stdout",
     "output_type": "stream",
     "text": [
      "[048/3000] Train Acc: 0.302990 Loss: 3.203621 | Val Acc: 0.648451 loss: 2.758314\n",
      "saving model with acc 0.648\n"
     ]
    },
    {
     "name": "stderr",
     "output_type": "stream",
     "text": [
      "100%|██████████| 4134/4134 [00:41<00:00, 100.27it/s]\n",
      "100%|██████████| 1031/1031 [00:05<00:00, 197.92it/s]\n"
     ]
    },
    {
     "name": "stdout",
     "output_type": "stream",
     "text": [
      "[049/3000] Train Acc: 0.303126 Loss: 3.203953 | Val Acc: 0.648775 loss: 2.747192\n",
      "saving model with acc 0.649\n"
     ]
    },
    {
     "name": "stderr",
     "output_type": "stream",
     "text": [
      "100%|██████████| 4134/4134 [00:40<00:00, 101.52it/s]\n",
      "100%|██████████| 1031/1031 [00:05<00:00, 175.99it/s]\n"
     ]
    },
    {
     "name": "stdout",
     "output_type": "stream",
     "text": [
      "[050/3000] Train Acc: 0.303735 Loss: 3.203916 | Val Acc: 0.649523 loss: 2.743740\n",
      "saving model with acc 0.650\n"
     ]
    },
    {
     "name": "stderr",
     "output_type": "stream",
     "text": [
      "100%|██████████| 4134/4134 [00:48<00:00, 85.88it/s] \n",
      "100%|██████████| 1031/1031 [00:05<00:00, 198.69it/s]\n"
     ]
    },
    {
     "name": "stdout",
     "output_type": "stream",
     "text": [
      "[051/3000] Train Acc: 0.303437 Loss: 3.202670 | Val Acc: 0.649766 loss: 2.752038\n",
      "saving model with acc 0.650\n"
     ]
    },
    {
     "name": "stderr",
     "output_type": "stream",
     "text": [
      "100%|██████████| 4134/4134 [00:41<00:00, 100.20it/s]\n",
      "100%|██████████| 1031/1031 [00:05<00:00, 194.34it/s]\n"
     ]
    },
    {
     "name": "stdout",
     "output_type": "stream",
     "text": [
      "[052/3000] Train Acc: 0.303264 Loss: 3.202676 | Val Acc: 0.650693 loss: 2.744390\n",
      "saving model with acc 0.651\n"
     ]
    },
    {
     "name": "stderr",
     "output_type": "stream",
     "text": [
      "100%|██████████| 4134/4134 [00:43<00:00, 94.11it/s]\n",
      "100%|██████████| 1031/1031 [00:08<00:00, 128.16it/s]\n"
     ]
    },
    {
     "name": "stdout",
     "output_type": "stream",
     "text": [
      "[053/3000] Train Acc: 0.303410 Loss: 3.202259 | Val Acc: 0.651219 loss: 2.750717\n",
      "saving model with acc 0.651\n"
     ]
    },
    {
     "name": "stderr",
     "output_type": "stream",
     "text": [
      "100%|██████████| 4134/4134 [00:42<00:00, 96.98it/s]\n",
      "100%|██████████| 1031/1031 [00:05<00:00, 205.98it/s]\n"
     ]
    },
    {
     "name": "stdout",
     "output_type": "stream",
     "text": [
      "[054/3000] Train Acc: 0.303047 Loss: 3.202854 | Val Acc: 0.651858 loss: 2.744983\n",
      "saving model with acc 0.652\n"
     ]
    },
    {
     "name": "stderr",
     "output_type": "stream",
     "text": [
      "100%|██████████| 4134/4134 [00:41<00:00, 100.06it/s]\n",
      "100%|██████████| 1031/1031 [00:05<00:00, 206.13it/s]\n"
     ]
    },
    {
     "name": "stdout",
     "output_type": "stream",
     "text": [
      "[055/3000] Train Acc: 0.303610 Loss: 3.202165 | Val Acc: 0.651464 loss: 2.739354\n",
      "[055/3000] Train Acc: 0.303610 Loss: 3.202165\n"
     ]
    },
    {
     "name": "stderr",
     "output_type": "stream",
     "text": [
      "100%|██████████| 4134/4134 [00:46<00:00, 89.69it/s]\n",
      "100%|██████████| 1031/1031 [00:07<00:00, 143.22it/s]\n"
     ]
    },
    {
     "name": "stdout",
     "output_type": "stream",
     "text": [
      "[056/3000] Train Acc: 0.303207 Loss: 3.202064 | Val Acc: 0.652167 loss: 2.747686\n",
      "saving model with acc 0.652\n"
     ]
    },
    {
     "name": "stderr",
     "output_type": "stream",
     "text": [
      "100%|██████████| 4134/4134 [00:41<00:00, 100.22it/s]\n",
      "100%|██████████| 1031/1031 [00:05<00:00, 205.78it/s]\n"
     ]
    },
    {
     "name": "stdout",
     "output_type": "stream",
     "text": [
      "[057/3000] Train Acc: 0.304000 Loss: 3.200989 | Val Acc: 0.652854 loss: 2.745269\n",
      "saving model with acc 0.653\n"
     ]
    },
    {
     "name": "stderr",
     "output_type": "stream",
     "text": [
      "100%|██████████| 4134/4134 [00:41<00:00, 100.73it/s]\n",
      "100%|██████████| 1031/1031 [00:04<00:00, 208.59it/s]\n"
     ]
    },
    {
     "name": "stdout",
     "output_type": "stream",
     "text": [
      "[058/3000] Train Acc: 0.303969 Loss: 3.200198 | Val Acc: 0.653404 loss: 2.744193\n",
      "saving model with acc 0.653\n"
     ]
    },
    {
     "name": "stderr",
     "output_type": "stream",
     "text": [
      "100%|██████████| 4134/4134 [00:49<00:00, 82.82it/s] \n",
      "100%|██████████| 1031/1031 [00:05<00:00, 205.36it/s]\n"
     ]
    },
    {
     "name": "stdout",
     "output_type": "stream",
     "text": [
      "[059/3000] Train Acc: 0.303599 Loss: 3.200439 | Val Acc: 0.653997 loss: 2.751280\n",
      "saving model with acc 0.654\n"
     ]
    },
    {
     "name": "stderr",
     "output_type": "stream",
     "text": [
      "100%|██████████| 4134/4134 [00:41<00:00, 100.53it/s]\n",
      "100%|██████████| 1031/1031 [00:05<00:00, 197.98it/s]\n"
     ]
    },
    {
     "name": "stdout",
     "output_type": "stream",
     "text": [
      "[060/3000] Train Acc: 0.303471 Loss: 3.200401 | Val Acc: 0.653857 loss: 2.749725\n",
      "[060/3000] Train Acc: 0.303471 Loss: 3.200401\n"
     ]
    },
    {
     "name": "stderr",
     "output_type": "stream",
     "text": [
      "100%|██████████| 4134/4134 [00:41<00:00, 99.47it/s] \n",
      "100%|██████████| 1031/1031 [00:05<00:00, 193.93it/s]\n"
     ]
    },
    {
     "name": "stdout",
     "output_type": "stream",
     "text": [
      "[061/3000] Train Acc: 0.303691 Loss: 3.199918 | Val Acc: 0.653927 loss: 2.738741\n",
      "[061/3000] Train Acc: 0.303691 Loss: 3.199918\n"
     ]
    },
    {
     "name": "stderr",
     "output_type": "stream",
     "text": [
      "100%|██████████| 4134/4134 [00:48<00:00, 84.54it/s] \n",
      "100%|██████████| 1031/1031 [00:05<00:00, 195.89it/s]\n"
     ]
    },
    {
     "name": "stdout",
     "output_type": "stream",
     "text": [
      "[062/3000] Train Acc: 0.303723 Loss: 3.199459 | Val Acc: 0.654838 loss: 2.743289\n",
      "saving model with acc 0.655\n"
     ]
    },
    {
     "name": "stderr",
     "output_type": "stream",
     "text": [
      "100%|██████████| 4134/4134 [00:41<00:00, 99.89it/s] \n",
      "100%|██████████| 1031/1031 [00:05<00:00, 202.87it/s]\n"
     ]
    },
    {
     "name": "stdout",
     "output_type": "stream",
     "text": [
      "[063/3000] Train Acc: 0.304118 Loss: 3.199399 | Val Acc: 0.655164 loss: 2.741660\n",
      "saving model with acc 0.655\n"
     ]
    },
    {
     "name": "stderr",
     "output_type": "stream",
     "text": [
      "100%|██████████| 4134/4134 [00:41<00:00, 100.43it/s]\n",
      "100%|██████████| 1031/1031 [00:04<00:00, 208.58it/s]\n"
     ]
    },
    {
     "name": "stdout",
     "output_type": "stream",
     "text": [
      "[064/3000] Train Acc: 0.304326 Loss: 3.197434 | Val Acc: 0.655492 loss: 2.738543\n",
      "saving model with acc 0.655\n"
     ]
    },
    {
     "name": "stderr",
     "output_type": "stream",
     "text": [
      "100%|██████████| 4134/4134 [00:50<00:00, 82.21it/s] \n",
      "100%|██████████| 1031/1031 [00:04<00:00, 207.09it/s]\n"
     ]
    },
    {
     "name": "stdout",
     "output_type": "stream",
     "text": [
      "[065/3000] Train Acc: 0.303845 Loss: 3.199095 | Val Acc: 0.655674 loss: 2.742062\n",
      "saving model with acc 0.656\n"
     ]
    },
    {
     "name": "stderr",
     "output_type": "stream",
     "text": [
      "100%|██████████| 4134/4134 [00:40<00:00, 101.09it/s]\n",
      "100%|██████████| 1031/1031 [00:05<00:00, 203.67it/s]\n"
     ]
    },
    {
     "name": "stdout",
     "output_type": "stream",
     "text": [
      "[066/3000] Train Acc: 0.304236 Loss: 3.198444 | Val Acc: 0.654995 loss: 2.745385\n",
      "[066/3000] Train Acc: 0.304236 Loss: 3.198444\n"
     ]
    },
    {
     "name": "stderr",
     "output_type": "stream",
     "text": [
      "100%|██████████| 4134/4134 [00:41<00:00, 99.92it/s] \n",
      "100%|██████████| 1031/1031 [00:05<00:00, 196.90it/s]\n"
     ]
    },
    {
     "name": "stdout",
     "output_type": "stream",
     "text": [
      "[067/3000] Train Acc: 0.304144 Loss: 3.197250 | Val Acc: 0.656473 loss: 2.743677\n",
      "saving model with acc 0.656\n"
     ]
    },
    {
     "name": "stderr",
     "output_type": "stream",
     "text": [
      "100%|██████████| 4134/4134 [00:49<00:00, 82.81it/s] \n",
      "100%|██████████| 1031/1031 [00:05<00:00, 195.04it/s]\n"
     ]
    },
    {
     "name": "stdout",
     "output_type": "stream",
     "text": [
      "[068/3000] Train Acc: 0.304371 Loss: 3.196372 | Val Acc: 0.656155 loss: 2.744151\n",
      "[068/3000] Train Acc: 0.304371 Loss: 3.196372\n"
     ]
    },
    {
     "name": "stderr",
     "output_type": "stream",
     "text": [
      "100%|██████████| 4134/4134 [00:41<00:00, 99.25it/s]\n",
      "100%|██████████| 1031/1031 [00:05<00:00, 202.31it/s]\n"
     ]
    },
    {
     "name": "stdout",
     "output_type": "stream",
     "text": [
      "[069/3000] Train Acc: 0.304482 Loss: 3.196048 | Val Acc: 0.657648 loss: 2.738384\n",
      "saving model with acc 0.658\n"
     ]
    },
    {
     "name": "stderr",
     "output_type": "stream",
     "text": [
      "100%|██████████| 4134/4134 [00:40<00:00, 100.85it/s]\n",
      "100%|██████████| 1031/1031 [00:05<00:00, 205.11it/s]\n"
     ]
    },
    {
     "name": "stdout",
     "output_type": "stream",
     "text": [
      "[070/3000] Train Acc: 0.304397 Loss: 3.196125 | Val Acc: 0.657692 loss: 2.735945\n",
      "saving model with acc 0.658\n"
     ]
    },
    {
     "name": "stderr",
     "output_type": "stream",
     "text": [
      "100%|██████████| 4134/4134 [00:51<00:00, 80.14it/s]\n",
      "100%|██████████| 1031/1031 [00:04<00:00, 207.32it/s]\n"
     ]
    },
    {
     "name": "stdout",
     "output_type": "stream",
     "text": [
      "[071/3000] Train Acc: 0.304223 Loss: 3.197077 | Val Acc: 0.656558 loss: 2.741604\n",
      "[071/3000] Train Acc: 0.304223 Loss: 3.197077\n"
     ]
    },
    {
     "name": "stderr",
     "output_type": "stream",
     "text": [
      "100%|██████████| 4134/4134 [00:41<00:00, 99.64it/s]\n",
      "100%|██████████| 1031/1031 [00:05<00:00, 198.00it/s]\n"
     ]
    },
    {
     "name": "stdout",
     "output_type": "stream",
     "text": [
      "[072/3000] Train Acc: 0.304532 Loss: 3.196689 | Val Acc: 0.657991 loss: 2.741287\n",
      "saving model with acc 0.658\n"
     ]
    },
    {
     "name": "stderr",
     "output_type": "stream",
     "text": [
      "100%|██████████| 4134/4134 [00:41<00:00, 100.30it/s]\n",
      "100%|██████████| 1031/1031 [00:05<00:00, 197.71it/s]\n"
     ]
    },
    {
     "name": "stdout",
     "output_type": "stream",
     "text": [
      "[073/3000] Train Acc: 0.304298 Loss: 3.196358 | Val Acc: 0.657627 loss: 2.743767\n",
      "[073/3000] Train Acc: 0.304298 Loss: 3.196358\n"
     ]
    },
    {
     "name": "stderr",
     "output_type": "stream",
     "text": [
      "100%|██████████| 4134/4134 [00:50<00:00, 81.26it/s] \n",
      "100%|██████████| 1031/1031 [00:05<00:00, 198.35it/s]\n"
     ]
    },
    {
     "name": "stdout",
     "output_type": "stream",
     "text": [
      "[074/3000] Train Acc: 0.305170 Loss: 3.194926 | Val Acc: 0.658491 loss: 2.742594\n",
      "saving model with acc 0.658\n"
     ]
    },
    {
     "name": "stderr",
     "output_type": "stream",
     "text": [
      "100%|██████████| 4134/4134 [00:41<00:00, 99.48it/s] \n",
      "100%|██████████| 1031/1031 [00:05<00:00, 201.47it/s]\n"
     ]
    },
    {
     "name": "stdout",
     "output_type": "stream",
     "text": [
      "[075/3000] Train Acc: 0.304282 Loss: 3.195046 | Val Acc: 0.659042 loss: 2.742945\n",
      "saving model with acc 0.659\n"
     ]
    },
    {
     "name": "stderr",
     "output_type": "stream",
     "text": [
      "100%|██████████| 4134/4134 [00:41<00:00, 100.55it/s]\n",
      "100%|██████████| 1031/1031 [00:05<00:00, 204.64it/s]\n"
     ]
    },
    {
     "name": "stdout",
     "output_type": "stream",
     "text": [
      "[076/3000] Train Acc: 0.304563 Loss: 3.195537 | Val Acc: 0.658669 loss: 2.735254\n",
      "[076/3000] Train Acc: 0.304563 Loss: 3.195537\n"
     ]
    },
    {
     "name": "stderr",
     "output_type": "stream",
     "text": [
      "100%|██████████| 4134/4134 [00:52<00:00, 79.15it/s] \n",
      "100%|██████████| 1031/1031 [00:05<00:00, 195.15it/s]\n"
     ]
    },
    {
     "name": "stdout",
     "output_type": "stream",
     "text": [
      "[077/3000] Train Acc: 0.305027 Loss: 3.195210 | Val Acc: 0.659169 loss: 2.736919\n",
      "saving model with acc 0.659\n"
     ]
    },
    {
     "name": "stderr",
     "output_type": "stream",
     "text": [
      "100%|██████████| 4134/4134 [00:40<00:00, 101.43it/s]\n",
      "100%|██████████| 1031/1031 [00:05<00:00, 194.27it/s]\n"
     ]
    },
    {
     "name": "stdout",
     "output_type": "stream",
     "text": [
      "[078/3000] Train Acc: 0.304833 Loss: 3.194109 | Val Acc: 0.658915 loss: 2.730583\n",
      "[078/3000] Train Acc: 0.304833 Loss: 3.194109\n"
     ]
    },
    {
     "name": "stderr",
     "output_type": "stream",
     "text": [
      "100%|██████████| 4134/4134 [00:41<00:00, 99.58it/s]\n",
      "100%|██████████| 1031/1031 [00:05<00:00, 196.55it/s]\n"
     ]
    },
    {
     "name": "stdout",
     "output_type": "stream",
     "text": [
      "[079/3000] Train Acc: 0.305150 Loss: 3.192751 | Val Acc: 0.659954 loss: 2.737675\n",
      "saving model with acc 0.660\n"
     ]
    },
    {
     "name": "stderr",
     "output_type": "stream",
     "text": [
      "100%|██████████| 4134/4134 [00:51<00:00, 80.06it/s]\n",
      "100%|██████████| 1031/1031 [00:05<00:00, 191.45it/s]\n"
     ]
    },
    {
     "name": "stdout",
     "output_type": "stream",
     "text": [
      "[080/3000] Train Acc: 0.305315 Loss: 3.194501 | Val Acc: 0.660189 loss: 2.739480\n",
      "saving model with acc 0.660\n"
     ]
    },
    {
     "name": "stderr",
     "output_type": "stream",
     "text": [
      "100%|██████████| 4134/4134 [00:41<00:00, 100.59it/s]\n",
      "100%|██████████| 1031/1031 [00:05<00:00, 205.92it/s]\n"
     ]
    },
    {
     "name": "stdout",
     "output_type": "stream",
     "text": [
      "[081/3000] Train Acc: 0.305376 Loss: 3.192870 | Val Acc: 0.660462 loss: 2.734682\n",
      "saving model with acc 0.660\n"
     ]
    },
    {
     "name": "stderr",
     "output_type": "stream",
     "text": [
      "100%|██████████| 4134/4134 [00:41<00:00, 100.15it/s]\n",
      "100%|██████████| 1031/1031 [00:05<00:00, 198.77it/s]\n"
     ]
    },
    {
     "name": "stdout",
     "output_type": "stream",
     "text": [
      "[082/3000] Train Acc: 0.304850 Loss: 3.194418 | Val Acc: 0.659952 loss: 2.746691\n",
      "[082/3000] Train Acc: 0.304850 Loss: 3.194418\n"
     ]
    },
    {
     "name": "stderr",
     "output_type": "stream",
     "text": [
      "100%|██████████| 4134/4134 [00:52<00:00, 79.34it/s] \n",
      "100%|██████████| 1031/1031 [00:05<00:00, 186.43it/s]\n"
     ]
    },
    {
     "name": "stdout",
     "output_type": "stream",
     "text": [
      "[083/3000] Train Acc: 0.304458 Loss: 3.194742 | Val Acc: 0.660945 loss: 2.745360\n",
      "saving model with acc 0.661\n"
     ]
    },
    {
     "name": "stderr",
     "output_type": "stream",
     "text": [
      "100%|██████████| 4134/4134 [00:40<00:00, 101.37it/s]\n",
      "100%|██████████| 1031/1031 [00:05<00:00, 187.79it/s]\n"
     ]
    },
    {
     "name": "stdout",
     "output_type": "stream",
     "text": [
      "[084/3000] Train Acc: 0.304848 Loss: 3.193813 | Val Acc: 0.661615 loss: 2.726138\n",
      "saving model with acc 0.662\n"
     ]
    },
    {
     "name": "stderr",
     "output_type": "stream",
     "text": [
      "100%|██████████| 4134/4134 [00:40<00:00, 101.21it/s]\n",
      "100%|██████████| 1031/1031 [00:05<00:00, 200.08it/s]\n"
     ]
    },
    {
     "name": "stdout",
     "output_type": "stream",
     "text": [
      "[085/3000] Train Acc: 0.305782 Loss: 3.191518 | Val Acc: 0.661136 loss: 2.730714\n",
      "[085/3000] Train Acc: 0.305782 Loss: 3.191518\n"
     ]
    },
    {
     "name": "stderr",
     "output_type": "stream",
     "text": [
      "100%|██████████| 4134/4134 [00:52<00:00, 78.01it/s]\n",
      "100%|██████████| 1031/1031 [00:05<00:00, 197.59it/s]\n"
     ]
    },
    {
     "name": "stdout",
     "output_type": "stream",
     "text": [
      "[086/3000] Train Acc: 0.305056 Loss: 3.193920 | Val Acc: 0.661820 loss: 2.728625\n",
      "saving model with acc 0.662\n"
     ]
    },
    {
     "name": "stderr",
     "output_type": "stream",
     "text": [
      "100%|██████████| 4134/4134 [00:40<00:00, 101.63it/s]\n",
      "100%|██████████| 1031/1031 [00:05<00:00, 197.70it/s]\n"
     ]
    },
    {
     "name": "stdout",
     "output_type": "stream",
     "text": [
      "[087/3000] Train Acc: 0.304746 Loss: 3.192963 | Val Acc: 0.661682 loss: 2.743615\n",
      "[087/3000] Train Acc: 0.304746 Loss: 3.192963\n"
     ]
    },
    {
     "name": "stderr",
     "output_type": "stream",
     "text": [
      "100%|██████████| 4134/4134 [00:40<00:00, 100.87it/s]\n",
      "100%|██████████| 1031/1031 [00:05<00:00, 205.56it/s]\n"
     ]
    },
    {
     "name": "stdout",
     "output_type": "stream",
     "text": [
      "[088/3000] Train Acc: 0.305234 Loss: 3.193595 | Val Acc: 0.661000 loss: 2.741918\n",
      "[088/3000] Train Acc: 0.305234 Loss: 3.193595\n"
     ]
    },
    {
     "name": "stderr",
     "output_type": "stream",
     "text": [
      "100%|██████████| 4134/4134 [00:41<00:00, 100.03it/s]\n",
      "100%|██████████| 1031/1031 [00:05<00:00, 205.71it/s]\n"
     ]
    },
    {
     "name": "stdout",
     "output_type": "stream",
     "text": [
      "[089/3000] Train Acc: 0.305298 Loss: 3.191658 | Val Acc: 0.661860 loss: 2.721901\n",
      "saving model with acc 0.662\n"
     ]
    },
    {
     "name": "stderr",
     "output_type": "stream",
     "text": [
      "100%|██████████| 4134/4134 [00:41<00:00, 99.76it/s] \n",
      "100%|██████████| 1031/1031 [00:04<00:00, 208.42it/s]\n"
     ]
    },
    {
     "name": "stdout",
     "output_type": "stream",
     "text": [
      "[090/3000] Train Acc: 0.304943 Loss: 3.191452 | Val Acc: 0.662089 loss: 2.730172\n",
      "saving model with acc 0.662\n"
     ]
    },
    {
     "name": "stderr",
     "output_type": "stream",
     "text": [
      "100%|██████████| 4134/4134 [00:48<00:00, 84.52it/s]\n",
      "100%|██████████| 1031/1031 [00:07<00:00, 129.87it/s]\n"
     ]
    },
    {
     "name": "stdout",
     "output_type": "stream",
     "text": [
      "[091/3000] Train Acc: 0.305406 Loss: 3.189925 | Val Acc: 0.662612 loss: 2.739861\n",
      "saving model with acc 0.663\n"
     ]
    },
    {
     "name": "stderr",
     "output_type": "stream",
     "text": [
      "100%|██████████| 4134/4134 [00:42<00:00, 97.18it/s] \n",
      "100%|██████████| 1031/1031 [00:05<00:00, 194.66it/s]\n"
     ]
    },
    {
     "name": "stdout",
     "output_type": "stream",
     "text": [
      "[092/3000] Train Acc: 0.305514 Loss: 3.191212 | Val Acc: 0.662616 loss: 2.738273\n",
      "saving model with acc 0.663\n"
     ]
    },
    {
     "name": "stderr",
     "output_type": "stream",
     "text": [
      "100%|██████████| 4134/4134 [00:41<00:00, 100.75it/s]\n",
      "100%|██████████| 1031/1031 [00:05<00:00, 203.88it/s]\n"
     ]
    },
    {
     "name": "stdout",
     "output_type": "stream",
     "text": [
      "[093/3000] Train Acc: 0.305444 Loss: 3.191395 | Val Acc: 0.663182 loss: 2.735177\n",
      "saving model with acc 0.663\n"
     ]
    },
    {
     "name": "stderr",
     "output_type": "stream",
     "text": [
      "100%|██████████| 4134/4134 [00:41<00:00, 99.93it/s]\n",
      "100%|██████████| 1031/1031 [00:04<00:00, 207.10it/s]\n"
     ]
    },
    {
     "name": "stdout",
     "output_type": "stream",
     "text": [
      "[094/3000] Train Acc: 0.305371 Loss: 3.191385 | Val Acc: 0.663296 loss: 2.742474\n",
      "saving model with acc 0.663\n"
     ]
    },
    {
     "name": "stderr",
     "output_type": "stream",
     "text": [
      "100%|██████████| 4134/4134 [00:41<00:00, 99.75it/s]\n",
      "100%|██████████| 1031/1031 [00:05<00:00, 200.85it/s]\n"
     ]
    },
    {
     "name": "stdout",
     "output_type": "stream",
     "text": [
      "[095/3000] Train Acc: 0.305184 Loss: 3.191599 | Val Acc: 0.663156 loss: 2.740366\n",
      "[095/3000] Train Acc: 0.305184 Loss: 3.191599\n"
     ]
    },
    {
     "name": "stderr",
     "output_type": "stream",
     "text": [
      "100%|██████████| 4134/4134 [00:40<00:00, 100.95it/s]\n",
      "100%|██████████| 1031/1031 [00:05<00:00, 197.95it/s]\n"
     ]
    },
    {
     "name": "stdout",
     "output_type": "stream",
     "text": [
      "[096/3000] Train Acc: 0.305125 Loss: 3.190690 | Val Acc: 0.663366 loss: 2.739232\n",
      "saving model with acc 0.663\n"
     ]
    },
    {
     "name": "stderr",
     "output_type": "stream",
     "text": [
      "100%|██████████| 4134/4134 [00:55<00:00, 75.15it/s] \n",
      "100%|██████████| 1031/1031 [00:04<00:00, 207.80it/s]\n"
     ]
    },
    {
     "name": "stdout",
     "output_type": "stream",
     "text": [
      "[097/3000] Train Acc: 0.304934 Loss: 3.190955 | Val Acc: 0.663190 loss: 2.728561\n",
      "[097/3000] Train Acc: 0.304934 Loss: 3.190955\n"
     ]
    },
    {
     "name": "stderr",
     "output_type": "stream",
     "text": [
      "100%|██████████| 4134/4134 [00:41<00:00, 100.27it/s]\n",
      "100%|██████████| 1031/1031 [00:05<00:00, 204.45it/s]\n"
     ]
    },
    {
     "name": "stdout",
     "output_type": "stream",
     "text": [
      "[098/3000] Train Acc: 0.305377 Loss: 3.190176 | Val Acc: 0.663760 loss: 2.725955\n",
      "saving model with acc 0.664\n"
     ]
    },
    {
     "name": "stderr",
     "output_type": "stream",
     "text": [
      "100%|██████████| 4134/4134 [00:40<00:00, 101.37it/s]\n",
      "100%|██████████| 1031/1031 [00:05<00:00, 181.36it/s]\n"
     ]
    },
    {
     "name": "stdout",
     "output_type": "stream",
     "text": [
      "[099/3000] Train Acc: 0.305278 Loss: 3.191701 | Val Acc: 0.663978 loss: 2.734388\n",
      "saving model with acc 0.664\n"
     ]
    },
    {
     "name": "stderr",
     "output_type": "stream",
     "text": [
      "100%|██████████| 4134/4134 [00:40<00:00, 101.42it/s]\n",
      "100%|██████████| 1031/1031 [00:05<00:00, 191.35it/s]\n"
     ]
    },
    {
     "name": "stdout",
     "output_type": "stream",
     "text": [
      "[100/3000] Train Acc: 0.305624 Loss: 3.189684 | Val Acc: 0.664151 loss: 2.723315\n",
      "saving model with acc 0.664\n"
     ]
    },
    {
     "name": "stderr",
     "output_type": "stream",
     "text": [
      "100%|██████████| 4134/4134 [00:41<00:00, 100.07it/s]\n",
      "100%|██████████| 1031/1031 [00:04<00:00, 210.27it/s]\n"
     ]
    },
    {
     "name": "stdout",
     "output_type": "stream",
     "text": [
      "[101/3000] Train Acc: 0.305433 Loss: 3.189342 | Val Acc: 0.665198 loss: 2.744485\n",
      "saving model with acc 0.665\n"
     ]
    },
    {
     "name": "stderr",
     "output_type": "stream",
     "text": [
      "100%|██████████| 4134/4134 [00:41<00:00, 98.52it/s]\n",
      "100%|██████████| 1031/1031 [00:07<00:00, 130.30it/s]\n"
     ]
    },
    {
     "name": "stdout",
     "output_type": "stream",
     "text": [
      "[102/3000] Train Acc: 0.305364 Loss: 3.189236 | Val Acc: 0.664535 loss: 2.732875\n",
      "[102/3000] Train Acc: 0.305364 Loss: 3.189236\n"
     ]
    },
    {
     "name": "stderr",
     "output_type": "stream",
     "text": [
      "100%|██████████| 4134/4134 [00:51<00:00, 80.85it/s] \n",
      "100%|██████████| 1031/1031 [00:05<00:00, 176.42it/s]\n"
     ]
    },
    {
     "name": "stdout",
     "output_type": "stream",
     "text": [
      "[103/3000] Train Acc: 0.305838 Loss: 3.190079 | Val Acc: 0.664702 loss: 2.742667\n",
      "[103/3000] Train Acc: 0.305838 Loss: 3.190079\n"
     ]
    },
    {
     "name": "stderr",
     "output_type": "stream",
     "text": [
      "100%|██████████| 4134/4134 [00:41<00:00, 100.78it/s]\n",
      "100%|██████████| 1031/1031 [00:04<00:00, 209.54it/s]\n"
     ]
    },
    {
     "name": "stdout",
     "output_type": "stream",
     "text": [
      "[104/3000] Train Acc: 0.305086 Loss: 3.188698 | Val Acc: 0.663997 loss: 2.728837\n",
      "[104/3000] Train Acc: 0.305086 Loss: 3.188698\n"
     ]
    },
    {
     "name": "stderr",
     "output_type": "stream",
     "text": [
      "100%|██████████| 4134/4134 [00:40<00:00, 100.99it/s]\n",
      "100%|██████████| 1031/1031 [00:05<00:00, 205.72it/s]\n"
     ]
    },
    {
     "name": "stdout",
     "output_type": "stream",
     "text": [
      "[105/3000] Train Acc: 0.305708 Loss: 3.189143 | Val Acc: 0.664620 loss: 2.722053\n",
      "[105/3000] Train Acc: 0.305708 Loss: 3.189143\n"
     ]
    },
    {
     "name": "stderr",
     "output_type": "stream",
     "text": [
      "100%|██████████| 4134/4134 [00:41<00:00, 99.51it/s] \n",
      "100%|██████████| 1031/1031 [00:05<00:00, 200.44it/s]\n"
     ]
    },
    {
     "name": "stdout",
     "output_type": "stream",
     "text": [
      "[106/3000] Train Acc: 0.305575 Loss: 3.190266 | Val Acc: 0.664916 loss: 2.735404\n",
      "[106/3000] Train Acc: 0.305575 Loss: 3.190266\n"
     ]
    },
    {
     "name": "stderr",
     "output_type": "stream",
     "text": [
      "100%|██████████| 4134/4134 [00:41<00:00, 100.74it/s]\n",
      "100%|██████████| 1031/1031 [00:05<00:00, 195.60it/s]\n"
     ]
    },
    {
     "name": "stdout",
     "output_type": "stream",
     "text": [
      "[107/3000] Train Acc: 0.305821 Loss: 3.189422 | Val Acc: 0.664965 loss: 2.722720\n",
      "[107/3000] Train Acc: 0.305821 Loss: 3.189422\n"
     ]
    },
    {
     "name": "stderr",
     "output_type": "stream",
     "text": [
      "100%|██████████| 4134/4134 [00:49<00:00, 83.31it/s]\n",
      "100%|██████████| 1031/1031 [00:07<00:00, 129.78it/s]\n"
     ]
    },
    {
     "name": "stdout",
     "output_type": "stream",
     "text": [
      "[108/3000] Train Acc: 0.305172 Loss: 3.190211 | Val Acc: 0.665831 loss: 2.734548\n",
      "saving model with acc 0.666\n"
     ]
    },
    {
     "name": "stderr",
     "output_type": "stream",
     "text": [
      "100%|██████████| 4134/4134 [00:43<00:00, 94.50it/s]\n",
      "100%|██████████| 1031/1031 [00:04<00:00, 209.56it/s]\n"
     ]
    },
    {
     "name": "stdout",
     "output_type": "stream",
     "text": [
      "[109/3000] Train Acc: 0.305642 Loss: 3.188252 | Val Acc: 0.665583 loss: 2.733989\n",
      "[109/3000] Train Acc: 0.305642 Loss: 3.188252\n"
     ]
    },
    {
     "name": "stderr",
     "output_type": "stream",
     "text": [
      "100%|██████████| 4134/4134 [00:41<00:00, 99.27it/s]\n",
      "100%|██████████| 1031/1031 [00:05<00:00, 197.51it/s]\n"
     ]
    },
    {
     "name": "stdout",
     "output_type": "stream",
     "text": [
      "[110/3000] Train Acc: 0.305248 Loss: 3.189802 | Val Acc: 0.665323 loss: 2.727084\n",
      "[110/3000] Train Acc: 0.305248 Loss: 3.189802\n"
     ]
    },
    {
     "name": "stderr",
     "output_type": "stream",
     "text": [
      "100%|██████████| 4134/4134 [00:40<00:00, 101.62it/s]\n",
      "100%|██████████| 1031/1031 [00:05<00:00, 199.10it/s]\n"
     ]
    },
    {
     "name": "stdout",
     "output_type": "stream",
     "text": [
      "[111/3000] Train Acc: 0.305907 Loss: 3.188047 | Val Acc: 0.665820 loss: 2.724947\n",
      "[111/3000] Train Acc: 0.305907 Loss: 3.188047\n"
     ]
    },
    {
     "name": "stderr",
     "output_type": "stream",
     "text": [
      "100%|██████████| 4134/4134 [00:41<00:00, 100.16it/s]\n",
      "100%|██████████| 1031/1031 [00:05<00:00, 197.16it/s]\n"
     ]
    },
    {
     "name": "stdout",
     "output_type": "stream",
     "text": [
      "[112/3000] Train Acc: 0.305661 Loss: 3.189063 | Val Acc: 0.665933 loss: 2.726242\n",
      "saving model with acc 0.666\n"
     ]
    },
    {
     "name": "stderr",
     "output_type": "stream",
     "text": [
      "100%|██████████| 4134/4134 [00:41<00:00, 100.18it/s]\n",
      "100%|██████████| 1031/1031 [00:05<00:00, 202.57it/s]\n"
     ]
    },
    {
     "name": "stdout",
     "output_type": "stream",
     "text": [
      "[113/3000] Train Acc: 0.305445 Loss: 3.188113 | Val Acc: 0.666284 loss: 2.736075\n",
      "saving model with acc 0.666\n"
     ]
    },
    {
     "name": "stderr",
     "output_type": "stream",
     "text": [
      "100%|██████████| 4134/4134 [00:56<00:00, 72.56it/s] \n",
      "100%|██████████| 1031/1031 [00:05<00:00, 190.88it/s]\n"
     ]
    },
    {
     "name": "stdout",
     "output_type": "stream",
     "text": [
      "[114/3000] Train Acc: 0.305315 Loss: 3.188399 | Val Acc: 0.666238 loss: 2.729897\n",
      "[114/3000] Train Acc: 0.305315 Loss: 3.188399\n"
     ]
    },
    {
     "name": "stderr",
     "output_type": "stream",
     "text": [
      "100%|██████████| 4134/4134 [00:41<00:00, 100.27it/s]\n",
      "100%|██████████| 1031/1031 [00:05<00:00, 204.01it/s]\n"
     ]
    },
    {
     "name": "stdout",
     "output_type": "stream",
     "text": [
      "[115/3000] Train Acc: 0.305384 Loss: 3.187770 | Val Acc: 0.665964 loss: 2.722785\n",
      "[115/3000] Train Acc: 0.305384 Loss: 3.187770\n"
     ]
    },
    {
     "name": "stderr",
     "output_type": "stream",
     "text": [
      "100%|██████████| 4134/4134 [00:41<00:00, 98.97it/s] \n",
      "100%|██████████| 1031/1031 [00:05<00:00, 200.80it/s]\n"
     ]
    },
    {
     "name": "stdout",
     "output_type": "stream",
     "text": [
      "[116/3000] Train Acc: 0.306022 Loss: 3.187090 | Val Acc: 0.666331 loss: 2.725867\n",
      "saving model with acc 0.666\n"
     ]
    },
    {
     "name": "stderr",
     "output_type": "stream",
     "text": [
      "100%|██████████| 4134/4134 [00:41<00:00, 100.02it/s]\n",
      "100%|██████████| 1031/1031 [00:05<00:00, 188.98it/s]\n"
     ]
    },
    {
     "name": "stdout",
     "output_type": "stream",
     "text": [
      "[117/3000] Train Acc: 0.306134 Loss: 3.186694 | Val Acc: 0.666890 loss: 2.731631\n",
      "saving model with acc 0.667\n"
     ]
    },
    {
     "name": "stderr",
     "output_type": "stream",
     "text": [
      "100%|██████████| 4134/4134 [00:41<00:00, 100.49it/s]\n",
      "100%|██████████| 1031/1031 [00:05<00:00, 192.61it/s]\n"
     ]
    },
    {
     "name": "stdout",
     "output_type": "stream",
     "text": [
      "[118/3000] Train Acc: 0.305862 Loss: 3.188139 | Val Acc: 0.666703 loss: 2.723919\n",
      "[118/3000] Train Acc: 0.305862 Loss: 3.188139\n"
     ]
    },
    {
     "name": "stderr",
     "output_type": "stream",
     "text": [
      "100%|██████████| 4134/4134 [00:41<00:00, 99.24it/s] \n",
      "100%|██████████| 1031/1031 [00:05<00:00, 193.95it/s]\n"
     ]
    },
    {
     "name": "stdout",
     "output_type": "stream",
     "text": [
      "[119/3000] Train Acc: 0.305676 Loss: 3.187925 | Val Acc: 0.666987 loss: 2.731477\n",
      "saving model with acc 0.667\n"
     ]
    },
    {
     "name": "stderr",
     "output_type": "stream",
     "text": [
      "100%|██████████| 4134/4134 [00:57<00:00, 72.28it/s] \n",
      "100%|██████████| 1031/1031 [00:05<00:00, 197.39it/s]\n"
     ]
    },
    {
     "name": "stdout",
     "output_type": "stream",
     "text": [
      "[120/3000] Train Acc: 0.306076 Loss: 3.187541 | Val Acc: 0.667335 loss: 2.720756\n",
      "saving model with acc 0.667\n"
     ]
    },
    {
     "name": "stderr",
     "output_type": "stream",
     "text": [
      "100%|██████████| 4134/4134 [00:41<00:00, 100.42it/s]\n",
      "100%|██████████| 1031/1031 [00:05<00:00, 205.25it/s]\n"
     ]
    },
    {
     "name": "stdout",
     "output_type": "stream",
     "text": [
      "[121/3000] Train Acc: 0.305936 Loss: 3.187098 | Val Acc: 0.667534 loss: 2.720534\n",
      "saving model with acc 0.668\n"
     ]
    },
    {
     "name": "stderr",
     "output_type": "stream",
     "text": [
      "100%|██████████| 4134/4134 [00:41<00:00, 99.32it/s] \n",
      "100%|██████████| 1031/1031 [00:05<00:00, 201.73it/s]\n"
     ]
    },
    {
     "name": "stdout",
     "output_type": "stream",
     "text": [
      "[122/3000] Train Acc: 0.306368 Loss: 3.186628 | Val Acc: 0.668057 loss: 2.730405\n",
      "saving model with acc 0.668\n"
     ]
    },
    {
     "name": "stderr",
     "output_type": "stream",
     "text": [
      "100%|██████████| 4134/4134 [00:41<00:00, 100.13it/s]\n",
      "100%|██████████| 1031/1031 [00:05<00:00, 204.46it/s]\n"
     ]
    },
    {
     "name": "stdout",
     "output_type": "stream",
     "text": [
      "[123/3000] Train Acc: 0.305679 Loss: 3.187160 | Val Acc: 0.668052 loss: 2.734354\n",
      "[123/3000] Train Acc: 0.305679 Loss: 3.187160\n"
     ]
    },
    {
     "name": "stderr",
     "output_type": "stream",
     "text": [
      "100%|██████████| 4134/4134 [00:41<00:00, 100.49it/s]\n",
      "100%|██████████| 1031/1031 [00:05<00:00, 182.97it/s]\n"
     ]
    },
    {
     "name": "stdout",
     "output_type": "stream",
     "text": [
      "[124/3000] Train Acc: 0.305917 Loss: 3.187654 | Val Acc: 0.668393 loss: 2.730899\n",
      "saving model with acc 0.668\n"
     ]
    },
    {
     "name": "stderr",
     "output_type": "stream",
     "text": [
      "100%|██████████| 4134/4134 [00:45<00:00, 89.96it/s]\n",
      "100%|██████████| 1031/1031 [00:08<00:00, 128.32it/s]\n"
     ]
    },
    {
     "name": "stdout",
     "output_type": "stream",
     "text": [
      "[125/3000] Train Acc: 0.305694 Loss: 3.186736 | Val Acc: 0.668086 loss: 2.738292\n",
      "[125/3000] Train Acc: 0.305694 Loss: 3.186736\n"
     ]
    },
    {
     "name": "stderr",
     "output_type": "stream",
     "text": [
      "100%|██████████| 4134/4134 [00:51<00:00, 80.76it/s] \n",
      "100%|██████████| 1031/1031 [00:05<00:00, 196.50it/s]\n"
     ]
    },
    {
     "name": "stdout",
     "output_type": "stream",
     "text": [
      "[126/3000] Train Acc: 0.306514 Loss: 3.186559 | Val Acc: 0.667470 loss: 2.726135\n",
      "[126/3000] Train Acc: 0.306514 Loss: 3.186559\n"
     ]
    },
    {
     "name": "stderr",
     "output_type": "stream",
     "text": [
      "100%|██████████| 4134/4134 [00:41<00:00, 99.66it/s]\n",
      "100%|██████████| 1031/1031 [00:04<00:00, 206.84it/s]\n"
     ]
    },
    {
     "name": "stdout",
     "output_type": "stream",
     "text": [
      "[127/3000] Train Acc: 0.306268 Loss: 3.186207 | Val Acc: 0.667997 loss: 2.719460\n",
      "[127/3000] Train Acc: 0.306268 Loss: 3.186207\n"
     ]
    },
    {
     "name": "stderr",
     "output_type": "stream",
     "text": [
      "100%|██████████| 4134/4134 [00:41<00:00, 98.59it/s] \n",
      "100%|██████████| 1031/1031 [00:05<00:00, 201.23it/s]\n"
     ]
    },
    {
     "name": "stdout",
     "output_type": "stream",
     "text": [
      "[128/3000] Train Acc: 0.305452 Loss: 3.186610 | Val Acc: 0.668368 loss: 2.728200\n",
      "[128/3000] Train Acc: 0.305452 Loss: 3.186610\n"
     ]
    },
    {
     "name": "stderr",
     "output_type": "stream",
     "text": [
      "100%|██████████| 4134/4134 [00:41<00:00, 99.59it/s] \n",
      "100%|██████████| 1031/1031 [00:05<00:00, 198.73it/s]\n"
     ]
    },
    {
     "name": "stdout",
     "output_type": "stream",
     "text": [
      "[129/3000] Train Acc: 0.305527 Loss: 3.187555 | Val Acc: 0.668817 loss: 2.721258\n",
      "saving model with acc 0.669\n"
     ]
    },
    {
     "name": "stderr",
     "output_type": "stream",
     "text": [
      "100%|██████████| 4134/4134 [00:40<00:00, 101.65it/s]\n",
      "100%|██████████| 1031/1031 [00:05<00:00, 176.96it/s]\n"
     ]
    },
    {
     "name": "stdout",
     "output_type": "stream",
     "text": [
      "[130/3000] Train Acc: 0.305684 Loss: 3.187641 | Val Acc: 0.668569 loss: 2.729099\n",
      "[130/3000] Train Acc: 0.305684 Loss: 3.187641\n"
     ]
    },
    {
     "name": "stderr",
     "output_type": "stream",
     "text": [
      "100%|██████████| 4134/4134 [00:51<00:00, 80.49it/s]\n",
      "100%|██████████| 1031/1031 [00:08<00:00, 125.39it/s]\n"
     ]
    },
    {
     "name": "stdout",
     "output_type": "stream",
     "text": [
      "[131/3000] Train Acc: 0.305810 Loss: 3.186792 | Val Acc: 0.668550 loss: 2.723785\n",
      "[131/3000] Train Acc: 0.305810 Loss: 3.186792\n"
     ]
    },
    {
     "name": "stderr",
     "output_type": "stream",
     "text": [
      "100%|██████████| 4134/4134 [00:45<00:00, 90.33it/s] \n",
      "100%|██████████| 1031/1031 [00:05<00:00, 196.37it/s]\n"
     ]
    },
    {
     "name": "stdout",
     "output_type": "stream",
     "text": [
      "[132/3000] Train Acc: 0.306171 Loss: 3.185944 | Val Acc: 0.668993 loss: 2.720989\n",
      "saving model with acc 0.669\n"
     ]
    },
    {
     "name": "stderr",
     "output_type": "stream",
     "text": [
      "100%|██████████| 4134/4134 [00:41<00:00, 100.56it/s]\n",
      "100%|██████████| 1031/1031 [00:04<00:00, 208.14it/s]\n"
     ]
    },
    {
     "name": "stdout",
     "output_type": "stream",
     "text": [
      "[133/3000] Train Acc: 0.306278 Loss: 3.185753 | Val Acc: 0.668457 loss: 2.728289\n",
      "[133/3000] Train Acc: 0.306278 Loss: 3.185753\n"
     ]
    },
    {
     "name": "stderr",
     "output_type": "stream",
     "text": [
      "100%|██████████| 4134/4134 [00:41<00:00, 98.47it/s] \n",
      "100%|██████████| 1031/1031 [00:05<00:00, 206.13it/s]\n"
     ]
    },
    {
     "name": "stdout",
     "output_type": "stream",
     "text": [
      "[134/3000] Train Acc: 0.306519 Loss: 3.184855 | Val Acc: 0.669179 loss: 2.723737\n",
      "saving model with acc 0.669\n"
     ]
    },
    {
     "name": "stderr",
     "output_type": "stream",
     "text": [
      "100%|██████████| 4134/4134 [00:41<00:00, 100.51it/s]\n",
      "100%|██████████| 1031/1031 [00:05<00:00, 200.34it/s]\n"
     ]
    },
    {
     "name": "stdout",
     "output_type": "stream",
     "text": [
      "[135/3000] Train Acc: 0.305939 Loss: 3.186389 | Val Acc: 0.668531 loss: 2.715495\n",
      "[135/3000] Train Acc: 0.305939 Loss: 3.186389\n"
     ]
    },
    {
     "name": "stderr",
     "output_type": "stream",
     "text": [
      "100%|██████████| 4134/4134 [00:41<00:00, 100.71it/s]\n",
      "100%|██████████| 1031/1031 [00:05<00:00, 179.12it/s]\n"
     ]
    },
    {
     "name": "stdout",
     "output_type": "stream",
     "text": [
      "[136/3000] Train Acc: 0.306169 Loss: 3.186429 | Val Acc: 0.669353 loss: 2.733841\n",
      "saving model with acc 0.669\n"
     ]
    },
    {
     "name": "stderr",
     "output_type": "stream",
     "text": [
      "100%|██████████| 4134/4134 [00:56<00:00, 73.73it/s]\n",
      "100%|██████████| 1031/1031 [00:08<00:00, 119.27it/s]\n"
     ]
    },
    {
     "name": "stdout",
     "output_type": "stream",
     "text": [
      "[137/3000] Train Acc: 0.306349 Loss: 3.183612 | Val Acc: 0.668686 loss: 2.731302\n",
      "[137/3000] Train Acc: 0.306349 Loss: 3.183612\n"
     ]
    },
    {
     "name": "stderr",
     "output_type": "stream",
     "text": [
      "100%|██████████| 4134/4134 [00:41<00:00, 100.12it/s]\n",
      "100%|██████████| 1031/1031 [00:05<00:00, 198.58it/s]\n"
     ]
    },
    {
     "name": "stdout",
     "output_type": "stream",
     "text": [
      "[138/3000] Train Acc: 0.305844 Loss: 3.187225 | Val Acc: 0.668645 loss: 2.723682\n",
      "[138/3000] Train Acc: 0.305844 Loss: 3.187225\n"
     ]
    },
    {
     "name": "stderr",
     "output_type": "stream",
     "text": [
      "100%|██████████| 4134/4134 [00:41<00:00, 100.35it/s]\n",
      "100%|██████████| 1031/1031 [00:04<00:00, 208.84it/s]\n"
     ]
    },
    {
     "name": "stdout",
     "output_type": "stream",
     "text": [
      "[139/3000] Train Acc: 0.306571 Loss: 3.184467 | Val Acc: 0.668931 loss: 2.720221\n",
      "[139/3000] Train Acc: 0.306571 Loss: 3.184467\n"
     ]
    },
    {
     "name": "stderr",
     "output_type": "stream",
     "text": [
      "100%|██████████| 4134/4134 [00:41<00:00, 98.47it/s]\n",
      "100%|██████████| 1031/1031 [00:04<00:00, 206.69it/s]\n"
     ]
    },
    {
     "name": "stdout",
     "output_type": "stream",
     "text": [
      "[140/3000] Train Acc: 0.306477 Loss: 3.185777 | Val Acc: 0.669408 loss: 2.725900\n",
      "saving model with acc 0.669\n"
     ]
    },
    {
     "name": "stderr",
     "output_type": "stream",
     "text": [
      "100%|██████████| 4134/4134 [00:40<00:00, 101.05it/s]\n",
      "100%|██████████| 1031/1031 [00:05<00:00, 201.37it/s]\n"
     ]
    },
    {
     "name": "stdout",
     "output_type": "stream",
     "text": [
      "[141/3000] Train Acc: 0.307087 Loss: 3.183610 | Val Acc: 0.669819 loss: 2.721250\n",
      "saving model with acc 0.670\n"
     ]
    },
    {
     "name": "stderr",
     "output_type": "stream",
     "text": [
      "100%|██████████| 4134/4134 [00:40<00:00, 100.97it/s]\n",
      "100%|██████████| 1031/1031 [00:05<00:00, 180.10it/s]\n"
     ]
    },
    {
     "name": "stdout",
     "output_type": "stream",
     "text": [
      "[142/3000] Train Acc: 0.306077 Loss: 3.185357 | Val Acc: 0.669370 loss: 2.719696\n",
      "[142/3000] Train Acc: 0.306077 Loss: 3.185357\n"
     ]
    },
    {
     "name": "stderr",
     "output_type": "stream",
     "text": [
      "100%|██████████| 4134/4134 [00:59<00:00, 69.76it/s]\n",
      "100%|██████████| 1031/1031 [00:06<00:00, 168.95it/s]\n"
     ]
    },
    {
     "name": "stdout",
     "output_type": "stream",
     "text": [
      "[143/3000] Train Acc: 0.306369 Loss: 3.184031 | Val Acc: 0.669122 loss: 2.735401\n",
      "[143/3000] Train Acc: 0.306369 Loss: 3.184031\n"
     ]
    },
    {
     "name": "stderr",
     "output_type": "stream",
     "text": [
      "100%|██████████| 4134/4134 [00:40<00:00, 102.07it/s]\n",
      "100%|██████████| 1031/1031 [00:05<00:00, 194.30it/s]\n"
     ]
    },
    {
     "name": "stdout",
     "output_type": "stream",
     "text": [
      "[144/3000] Train Acc: 0.306898 Loss: 3.184542 | Val Acc: 0.670403 loss: 2.734977\n",
      "saving model with acc 0.670\n"
     ]
    },
    {
     "name": "stderr",
     "output_type": "stream",
     "text": [
      "100%|██████████| 4134/4134 [00:41<00:00, 100.77it/s]\n",
      "100%|██████████| 1031/1031 [00:05<00:00, 204.06it/s]\n"
     ]
    },
    {
     "name": "stdout",
     "output_type": "stream",
     "text": [
      "[145/3000] Train Acc: 0.305939 Loss: 3.185763 | Val Acc: 0.669880 loss: 2.723995\n",
      "[145/3000] Train Acc: 0.305939 Loss: 3.185763\n"
     ]
    },
    {
     "name": "stderr",
     "output_type": "stream",
     "text": [
      "100%|██████████| 4134/4134 [00:41<00:00, 100.17it/s]\n",
      "100%|██████████| 1031/1031 [00:05<00:00, 204.46it/s]\n"
     ]
    },
    {
     "name": "stdout",
     "output_type": "stream",
     "text": [
      "[146/3000] Train Acc: 0.306488 Loss: 3.184592 | Val Acc: 0.669613 loss: 2.727636\n",
      "[146/3000] Train Acc: 0.306488 Loss: 3.184592\n"
     ]
    },
    {
     "name": "stderr",
     "output_type": "stream",
     "text": [
      "100%|██████████| 4134/4134 [00:41<00:00, 100.75it/s]\n",
      "100%|██████████| 1031/1031 [00:04<00:00, 211.51it/s]\n"
     ]
    },
    {
     "name": "stdout",
     "output_type": "stream",
     "text": [
      "[147/3000] Train Acc: 0.306117 Loss: 3.185472 | Val Acc: 0.670016 loss: 2.725467\n",
      "[147/3000] Train Acc: 0.306117 Loss: 3.185472\n"
     ]
    },
    {
     "name": "stderr",
     "output_type": "stream",
     "text": [
      "100%|██████████| 4134/4134 [00:40<00:00, 101.18it/s]\n",
      "100%|██████████| 1031/1031 [00:05<00:00, 181.43it/s]\n"
     ]
    },
    {
     "name": "stdout",
     "output_type": "stream",
     "text": [
      "[148/3000] Train Acc: 0.306942 Loss: 3.184262 | Val Acc: 0.669886 loss: 2.725925\n",
      "[148/3000] Train Acc: 0.306942 Loss: 3.184262\n"
     ]
    },
    {
     "name": "stderr",
     "output_type": "stream",
     "text": [
      "100%|██████████| 4134/4134 [01:00<00:00, 68.25it/s] \n",
      "100%|██████████| 1031/1031 [00:05<00:00, 179.19it/s]\n"
     ]
    },
    {
     "name": "stdout",
     "output_type": "stream",
     "text": [
      "[149/3000] Train Acc: 0.306137 Loss: 3.185300 | Val Acc: 0.670028 loss: 2.726223\n",
      "[149/3000] Train Acc: 0.306137 Loss: 3.185300\n"
     ]
    },
    {
     "name": "stderr",
     "output_type": "stream",
     "text": [
      "100%|██████████| 4134/4134 [00:40<00:00, 100.99it/s]\n",
      "100%|██████████| 1031/1031 [00:05<00:00, 196.29it/s]\n"
     ]
    },
    {
     "name": "stdout",
     "output_type": "stream",
     "text": [
      "[150/3000] Train Acc: 0.306475 Loss: 3.183631 | Val Acc: 0.670287 loss: 2.717645\n",
      "[150/3000] Train Acc: 0.306475 Loss: 3.183631\n"
     ]
    },
    {
     "name": "stderr",
     "output_type": "stream",
     "text": [
      "100%|██████████| 4134/4134 [00:41<00:00, 99.87it/s] \n",
      "100%|██████████| 1031/1031 [00:05<00:00, 204.13it/s]\n"
     ]
    },
    {
     "name": "stdout",
     "output_type": "stream",
     "text": [
      "[151/3000] Train Acc: 0.306851 Loss: 3.184100 | Val Acc: 0.670507 loss: 2.724135\n",
      "saving model with acc 0.671\n"
     ]
    },
    {
     "name": "stderr",
     "output_type": "stream",
     "text": [
      "100%|██████████| 4134/4134 [00:41<00:00, 99.74it/s] \n",
      "100%|██████████| 1031/1031 [00:05<00:00, 205.03it/s]\n"
     ]
    },
    {
     "name": "stdout",
     "output_type": "stream",
     "text": [
      "[152/3000] Train Acc: 0.306953 Loss: 3.184630 | Val Acc: 0.670469 loss: 2.724318\n",
      "[152/3000] Train Acc: 0.306953 Loss: 3.184630\n"
     ]
    },
    {
     "name": "stderr",
     "output_type": "stream",
     "text": [
      "100%|██████████| 4134/4134 [00:40<00:00, 101.49it/s]\n",
      "100%|██████████| 1031/1031 [00:05<00:00, 191.70it/s]\n"
     ]
    },
    {
     "name": "stdout",
     "output_type": "stream",
     "text": [
      "[153/3000] Train Acc: 0.306206 Loss: 3.185962 | Val Acc: 0.671117 loss: 2.733272\n",
      "saving model with acc 0.671\n"
     ]
    },
    {
     "name": "stderr",
     "output_type": "stream",
     "text": [
      "100%|██████████| 4134/4134 [00:40<00:00, 101.92it/s]\n",
      "100%|██████████| 1031/1031 [00:05<00:00, 175.46it/s]\n"
     ]
    },
    {
     "name": "stdout",
     "output_type": "stream",
     "text": [
      "[154/3000] Train Acc: 0.306375 Loss: 3.184927 | Val Acc: 0.670627 loss: 2.726876\n",
      "[154/3000] Train Acc: 0.306375 Loss: 3.184927\n"
     ]
    },
    {
     "name": "stderr",
     "output_type": "stream",
     "text": [
      "100%|██████████| 4134/4134 [01:00<00:00, 68.79it/s] \n",
      "100%|██████████| 1031/1031 [00:05<00:00, 184.42it/s]\n"
     ]
    },
    {
     "name": "stdout",
     "output_type": "stream",
     "text": [
      "[155/3000] Train Acc: 0.307769 Loss: 3.182616 | Val Acc: 0.671489 loss: 2.720065\n",
      "saving model with acc 0.671\n"
     ]
    },
    {
     "name": "stderr",
     "output_type": "stream",
     "text": [
      "100%|██████████| 4134/4134 [00:40<00:00, 102.38it/s]\n",
      "100%|██████████| 1031/1031 [00:05<00:00, 201.19it/s]\n"
     ]
    },
    {
     "name": "stdout",
     "output_type": "stream",
     "text": [
      "[156/3000] Train Acc: 0.306997 Loss: 3.184351 | Val Acc: 0.671095 loss: 2.723309\n",
      "[156/3000] Train Acc: 0.306997 Loss: 3.184351\n"
     ]
    },
    {
     "name": "stderr",
     "output_type": "stream",
     "text": [
      "100%|██████████| 4134/4134 [00:40<00:00, 102.15it/s]\n",
      "100%|██████████| 1031/1031 [00:04<00:00, 209.25it/s]\n"
     ]
    },
    {
     "name": "stdout",
     "output_type": "stream",
     "text": [
      "[157/3000] Train Acc: 0.306185 Loss: 3.184650 | Val Acc: 0.671280 loss: 2.725640\n",
      "[157/3000] Train Acc: 0.306185 Loss: 3.184650\n"
     ]
    },
    {
     "name": "stderr",
     "output_type": "stream",
     "text": [
      "100%|██████████| 4134/4134 [00:40<00:00, 101.01it/s]\n",
      "100%|██████████| 1031/1031 [00:05<00:00, 205.46it/s]\n"
     ]
    },
    {
     "name": "stdout",
     "output_type": "stream",
     "text": [
      "[158/3000] Train Acc: 0.306769 Loss: 3.183788 | Val Acc: 0.671347 loss: 2.715989\n",
      "[158/3000] Train Acc: 0.306769 Loss: 3.183788\n"
     ]
    },
    {
     "name": "stderr",
     "output_type": "stream",
     "text": [
      "100%|██████████| 4134/4134 [00:40<00:00, 101.95it/s]\n",
      "100%|██████████| 1031/1031 [00:04<00:00, 207.76it/s]\n"
     ]
    },
    {
     "name": "stdout",
     "output_type": "stream",
     "text": [
      "[159/3000] Train Acc: 0.306693 Loss: 3.183951 | Val Acc: 0.670858 loss: 2.717920\n",
      "[159/3000] Train Acc: 0.306693 Loss: 3.183951\n"
     ]
    },
    {
     "name": "stderr",
     "output_type": "stream",
     "text": [
      "100%|██████████| 4134/4134 [00:40<00:00, 101.72it/s]\n",
      "100%|██████████| 1031/1031 [00:05<00:00, 201.04it/s]\n"
     ]
    },
    {
     "name": "stdout",
     "output_type": "stream",
     "text": [
      "[160/3000] Train Acc: 0.306638 Loss: 3.183777 | Val Acc: 0.671432 loss: 2.723980\n",
      "[160/3000] Train Acc: 0.306638 Loss: 3.183777\n"
     ]
    },
    {
     "name": "stderr",
     "output_type": "stream",
     "text": [
      "100%|██████████| 4134/4134 [01:02<00:00, 65.97it/s] \n",
      "100%|██████████| 1031/1031 [00:05<00:00, 177.78it/s]\n"
     ]
    },
    {
     "name": "stdout",
     "output_type": "stream",
     "text": [
      "[161/3000] Train Acc: 0.306497 Loss: 3.184096 | Val Acc: 0.670534 loss: 2.727400\n",
      "[161/3000] Train Acc: 0.306497 Loss: 3.184096\n"
     ]
    },
    {
     "name": "stderr",
     "output_type": "stream",
     "text": [
      "100%|██████████| 4134/4134 [00:40<00:00, 101.19it/s]\n",
      "100%|██████████| 1031/1031 [00:05<00:00, 197.52it/s]\n"
     ]
    },
    {
     "name": "stdout",
     "output_type": "stream",
     "text": [
      "[162/3000] Train Acc: 0.306250 Loss: 3.184485 | Val Acc: 0.671411 loss: 2.727416\n",
      "[162/3000] Train Acc: 0.306250 Loss: 3.184485\n"
     ]
    },
    {
     "name": "stderr",
     "output_type": "stream",
     "text": [
      "100%|██████████| 4134/4134 [00:40<00:00, 101.14it/s]\n",
      "100%|██████████| 1031/1031 [00:04<00:00, 209.99it/s]\n"
     ]
    },
    {
     "name": "stdout",
     "output_type": "stream",
     "text": [
      "[163/3000] Train Acc: 0.306083 Loss: 3.183854 | Val Acc: 0.671464 loss: 2.718906\n",
      "[163/3000] Train Acc: 0.306083 Loss: 3.183854\n"
     ]
    },
    {
     "name": "stderr",
     "output_type": "stream",
     "text": [
      "100%|██████████| 4134/4134 [00:41<00:00, 99.07it/s] \n",
      "100%|██████████| 1031/1031 [00:04<00:00, 207.35it/s]\n"
     ]
    },
    {
     "name": "stdout",
     "output_type": "stream",
     "text": [
      "[164/3000] Train Acc: 0.306561 Loss: 3.183066 | Val Acc: 0.671282 loss: 2.728379\n",
      "[164/3000] Train Acc: 0.306561 Loss: 3.183066\n"
     ]
    },
    {
     "name": "stderr",
     "output_type": "stream",
     "text": [
      "100%|██████████| 4134/4134 [00:41<00:00, 100.46it/s]\n",
      "100%|██████████| 1031/1031 [00:05<00:00, 193.92it/s]\n"
     ]
    },
    {
     "name": "stdout",
     "output_type": "stream",
     "text": [
      "[165/3000] Train Acc: 0.306537 Loss: 3.182679 | Val Acc: 0.671655 loss: 2.723540\n",
      "saving model with acc 0.672\n"
     ]
    },
    {
     "name": "stderr",
     "output_type": "stream",
     "text": [
      "100%|██████████| 4134/4134 [00:40<00:00, 101.05it/s]\n",
      "100%|██████████| 1031/1031 [00:06<00:00, 155.44it/s]\n"
     ]
    },
    {
     "name": "stdout",
     "output_type": "stream",
     "text": [
      "[166/3000] Train Acc: 0.306920 Loss: 3.183494 | Val Acc: 0.670551 loss: 2.720353\n",
      "[166/3000] Train Acc: 0.306920 Loss: 3.183494\n"
     ]
    },
    {
     "name": "stderr",
     "output_type": "stream",
     "text": [
      "100%|██████████| 4134/4134 [01:01<00:00, 66.83it/s]\n",
      "100%|██████████| 1031/1031 [00:05<00:00, 188.02it/s]\n"
     ]
    },
    {
     "name": "stdout",
     "output_type": "stream",
     "text": [
      "[167/3000] Train Acc: 0.306700 Loss: 3.182654 | Val Acc: 0.670920 loss: 2.713334\n",
      "[167/3000] Train Acc: 0.306700 Loss: 3.182654\n"
     ]
    },
    {
     "name": "stderr",
     "output_type": "stream",
     "text": [
      "100%|██████████| 4134/4134 [00:41<00:00, 99.81it/s] \n",
      "100%|██████████| 1031/1031 [00:05<00:00, 203.88it/s]\n"
     ]
    },
    {
     "name": "stdout",
     "output_type": "stream",
     "text": [
      "[168/3000] Train Acc: 0.306001 Loss: 3.184453 | Val Acc: 0.671371 loss: 2.714508\n",
      "[168/3000] Train Acc: 0.306001 Loss: 3.184453\n"
     ]
    },
    {
     "name": "stderr",
     "output_type": "stream",
     "text": [
      "100%|██████████| 4134/4134 [00:40<00:00, 101.41it/s]\n",
      "100%|██████████| 1031/1031 [00:05<00:00, 204.22it/s]\n"
     ]
    },
    {
     "name": "stdout",
     "output_type": "stream",
     "text": [
      "[169/3000] Train Acc: 0.307019 Loss: 3.181808 | Val Acc: 0.671400 loss: 2.724036\n",
      "[169/3000] Train Acc: 0.307019 Loss: 3.181808\n"
     ]
    },
    {
     "name": "stderr",
     "output_type": "stream",
     "text": [
      "100%|██████████| 4134/4134 [00:41<00:00, 98.84it/s]\n",
      "100%|██████████| 1031/1031 [00:05<00:00, 191.79it/s]\n"
     ]
    },
    {
     "name": "stdout",
     "output_type": "stream",
     "text": [
      "[170/3000] Train Acc: 0.306187 Loss: 3.183603 | Val Acc: 0.672205 loss: 2.726753\n",
      "saving model with acc 0.672\n"
     ]
    },
    {
     "name": "stderr",
     "output_type": "stream",
     "text": [
      "100%|██████████| 4134/4134 [00:40<00:00, 101.19it/s]\n",
      "100%|██████████| 1031/1031 [00:05<00:00, 202.88it/s]\n"
     ]
    },
    {
     "name": "stdout",
     "output_type": "stream",
     "text": [
      "[171/3000] Train Acc: 0.306169 Loss: 3.183164 | Val Acc: 0.671864 loss: 2.726231\n",
      "[171/3000] Train Acc: 0.306169 Loss: 3.183164\n"
     ]
    },
    {
     "name": "stderr",
     "output_type": "stream",
     "text": [
      "100%|██████████| 4134/4134 [00:41<00:00, 99.29it/s] \n",
      "100%|██████████| 1031/1031 [00:06<00:00, 169.08it/s]\n"
     ]
    },
    {
     "name": "stdout",
     "output_type": "stream",
     "text": [
      "[172/3000] Train Acc: 0.306835 Loss: 3.182479 | Val Acc: 0.671807 loss: 2.713307\n",
      "[172/3000] Train Acc: 0.306835 Loss: 3.182479\n"
     ]
    },
    {
     "name": "stderr",
     "output_type": "stream",
     "text": [
      "100%|██████████| 4134/4134 [01:03<00:00, 64.83it/s] \n",
      "100%|██████████| 1031/1031 [00:05<00:00, 204.49it/s]\n"
     ]
    },
    {
     "name": "stdout",
     "output_type": "stream",
     "text": [
      "[173/3000] Train Acc: 0.306036 Loss: 3.184206 | Val Acc: 0.672525 loss: 2.723484\n",
      "saving model with acc 0.673\n"
     ]
    },
    {
     "name": "stderr",
     "output_type": "stream",
     "text": [
      "100%|██████████| 4134/4134 [00:41<00:00, 100.70it/s]\n",
      "100%|██████████| 1031/1031 [00:05<00:00, 196.08it/s]\n"
     ]
    },
    {
     "name": "stdout",
     "output_type": "stream",
     "text": [
      "[174/3000] Train Acc: 0.306242 Loss: 3.183311 | Val Acc: 0.672120 loss: 2.724721\n",
      "[174/3000] Train Acc: 0.306242 Loss: 3.183311\n"
     ]
    },
    {
     "name": "stderr",
     "output_type": "stream",
     "text": [
      "100%|██████████| 4134/4134 [00:40<00:00, 101.70it/s]\n",
      "100%|██████████| 1031/1031 [00:05<00:00, 172.15it/s]\n"
     ]
    },
    {
     "name": "stdout",
     "output_type": "stream",
     "text": [
      "[175/3000] Train Acc: 0.305639 Loss: 3.184472 | Val Acc: 0.671453 loss: 2.716376\n",
      "[175/3000] Train Acc: 0.305639 Loss: 3.184472\n"
     ]
    },
    {
     "name": "stderr",
     "output_type": "stream",
     "text": [
      "100%|██████████| 4134/4134 [00:40<00:00, 100.93it/s]\n",
      "100%|██████████| 1031/1031 [00:05<00:00, 203.15it/s]\n"
     ]
    },
    {
     "name": "stdout",
     "output_type": "stream",
     "text": [
      "[176/3000] Train Acc: 0.306188 Loss: 3.182290 | Val Acc: 0.672559 loss: 2.721443\n",
      "saving model with acc 0.673\n"
     ]
    },
    {
     "name": "stderr",
     "output_type": "stream",
     "text": [
      "100%|██████████| 4134/4134 [00:41<00:00, 100.09it/s]\n",
      "100%|██████████| 1031/1031 [00:04<00:00, 210.36it/s]\n"
     ]
    },
    {
     "name": "stdout",
     "output_type": "stream",
     "text": [
      "[177/3000] Train Acc: 0.306428 Loss: 3.182942 | Val Acc: 0.671974 loss: 2.717828\n",
      "[177/3000] Train Acc: 0.306428 Loss: 3.182942\n"
     ]
    },
    {
     "name": "stderr",
     "output_type": "stream",
     "text": [
      "100%|██████████| 4134/4134 [00:41<00:00, 99.96it/s] \n",
      "100%|██████████| 1031/1031 [00:05<00:00, 190.97it/s]\n"
     ]
    },
    {
     "name": "stdout",
     "output_type": "stream",
     "text": [
      "[178/3000] Train Acc: 0.306705 Loss: 3.182661 | Val Acc: 0.672406 loss: 2.721623\n",
      "[178/3000] Train Acc: 0.306705 Loss: 3.182661\n"
     ]
    },
    {
     "name": "stderr",
     "output_type": "stream",
     "text": [
      "100%|██████████| 4134/4134 [00:40<00:00, 100.89it/s]\n",
      "100%|██████████| 1031/1031 [00:05<00:00, 195.65it/s]\n"
     ]
    },
    {
     "name": "stdout",
     "output_type": "stream",
     "text": [
      "[179/3000] Train Acc: 0.306804 Loss: 3.182963 | Val Acc: 0.672730 loss: 2.730757\n",
      "saving model with acc 0.673\n"
     ]
    },
    {
     "name": "stderr",
     "output_type": "stream",
     "text": [
      "100%|██████████| 4134/4134 [00:41<00:00, 98.44it/s]\n",
      "100%|██████████| 1031/1031 [00:04<00:00, 209.20it/s]\n"
     ]
    },
    {
     "name": "stdout",
     "output_type": "stream",
     "text": [
      "[180/3000] Train Acc: 0.305903 Loss: 3.183909 | Val Acc: 0.672879 loss: 2.717546\n",
      "saving model with acc 0.673\n"
     ]
    },
    {
     "name": "stderr",
     "output_type": "stream",
     "text": [
      "100%|██████████| 4134/4134 [00:41<00:00, 100.77it/s]\n",
      "100%|██████████| 1031/1031 [00:04<00:00, 206.65it/s]\n"
     ]
    },
    {
     "name": "stdout",
     "output_type": "stream",
     "text": [
      "[181/3000] Train Acc: 0.306642 Loss: 3.181737 | Val Acc: 0.671996 loss: 2.721070\n",
      "[181/3000] Train Acc: 0.306642 Loss: 3.181737\n"
     ]
    },
    {
     "name": "stderr",
     "output_type": "stream",
     "text": [
      "100%|██████████| 4134/4134 [00:40<00:00, 101.29it/s]\n",
      "100%|██████████| 1031/1031 [00:05<00:00, 204.34it/s]\n"
     ]
    },
    {
     "name": "stdout",
     "output_type": "stream",
     "text": [
      "[182/3000] Train Acc: 0.306346 Loss: 3.182360 | Val Acc: 0.672171 loss: 2.721761\n",
      "[182/3000] Train Acc: 0.306346 Loss: 3.182360\n"
     ]
    },
    {
     "name": "stderr",
     "output_type": "stream",
     "text": [
      "100%|██████████| 4134/4134 [00:41<00:00, 99.93it/s] \n",
      "100%|██████████| 1031/1031 [00:05<00:00, 192.38it/s]\n"
     ]
    },
    {
     "name": "stdout",
     "output_type": "stream",
     "text": [
      "[183/3000] Train Acc: 0.306067 Loss: 3.183310 | Val Acc: 0.672904 loss: 2.718885\n",
      "saving model with acc 0.673\n"
     ]
    },
    {
     "name": "stderr",
     "output_type": "stream",
     "text": [
      "100%|██████████| 4134/4134 [01:00<00:00, 68.30it/s]\n",
      "100%|██████████| 1031/1031 [00:07<00:00, 131.05it/s]\n"
     ]
    },
    {
     "name": "stdout",
     "output_type": "stream",
     "text": [
      "[184/3000] Train Acc: 0.306503 Loss: 3.181905 | Val Acc: 0.672968 loss: 2.716616\n",
      "saving model with acc 0.673\n"
     ]
    },
    {
     "name": "stderr",
     "output_type": "stream",
     "text": [
      "100%|██████████| 4134/4134 [00:43<00:00, 95.18it/s]\n",
      "100%|██████████| 1031/1031 [00:05<00:00, 206.11it/s]\n"
     ]
    },
    {
     "name": "stdout",
     "output_type": "stream",
     "text": [
      "[185/3000] Train Acc: 0.306652 Loss: 3.182678 | Val Acc: 0.672726 loss: 2.711589\n",
      "[185/3000] Train Acc: 0.306652 Loss: 3.182678\n"
     ]
    },
    {
     "name": "stderr",
     "output_type": "stream",
     "text": [
      "100%|██████████| 4134/4134 [00:41<00:00, 99.92it/s] \n",
      "100%|██████████| 1031/1031 [00:05<00:00, 196.30it/s]\n"
     ]
    },
    {
     "name": "stdout",
     "output_type": "stream",
     "text": [
      "[186/3000] Train Acc: 0.306774 Loss: 3.182441 | Val Acc: 0.672752 loss: 2.717406\n",
      "[186/3000] Train Acc: 0.306774 Loss: 3.182441\n"
     ]
    },
    {
     "name": "stderr",
     "output_type": "stream",
     "text": [
      "100%|██████████| 4134/4134 [00:41<00:00, 100.48it/s]\n",
      "100%|██████████| 1031/1031 [00:05<00:00, 199.88it/s]\n"
     ]
    },
    {
     "name": "stdout",
     "output_type": "stream",
     "text": [
      "[187/3000] Train Acc: 0.307059 Loss: 3.181695 | Val Acc: 0.672968 loss: 2.714370\n",
      "[187/3000] Train Acc: 0.307059 Loss: 3.181695\n"
     ]
    },
    {
     "name": "stderr",
     "output_type": "stream",
     "text": [
      "100%|██████████| 4134/4134 [00:40<00:00, 101.52it/s]\n",
      "100%|██████████| 1031/1031 [00:05<00:00, 178.57it/s]\n"
     ]
    },
    {
     "name": "stdout",
     "output_type": "stream",
     "text": [
      "[188/3000] Train Acc: 0.306236 Loss: 3.183264 | Val Acc: 0.673764 loss: 2.719352\n",
      "saving model with acc 0.674\n"
     ]
    },
    {
     "name": "stderr",
     "output_type": "stream",
     "text": [
      "100%|██████████| 4134/4134 [00:40<00:00, 101.50it/s]\n",
      "100%|██████████| 1031/1031 [00:04<00:00, 207.09it/s]\n"
     ]
    },
    {
     "name": "stdout",
     "output_type": "stream",
     "text": [
      "[189/3000] Train Acc: 0.306393 Loss: 3.182948 | Val Acc: 0.673209 loss: 2.709803\n",
      "[189/3000] Train Acc: 0.306393 Loss: 3.182948\n"
     ]
    },
    {
     "name": "stderr",
     "output_type": "stream",
     "text": [
      "100%|██████████| 4134/4134 [00:40<00:00, 101.57it/s]\n",
      "100%|██████████| 1031/1031 [00:05<00:00, 205.88it/s]\n"
     ]
    },
    {
     "name": "stdout",
     "output_type": "stream",
     "text": [
      "[190/3000] Train Acc: 0.307231 Loss: 3.179764 | Val Acc: 0.673327 loss: 2.713329\n",
      "[190/3000] Train Acc: 0.307231 Loss: 3.179764\n"
     ]
    },
    {
     "name": "stderr",
     "output_type": "stream",
     "text": [
      "100%|██████████| 4134/4134 [00:41<00:00, 100.58it/s]\n",
      "100%|██████████| 1031/1031 [00:05<00:00, 198.10it/s]\n"
     ]
    },
    {
     "name": "stdout",
     "output_type": "stream",
     "text": [
      "[191/3000] Train Acc: 0.306063 Loss: 3.182428 | Val Acc: 0.672929 loss: 2.704139\n",
      "[191/3000] Train Acc: 0.306063 Loss: 3.182428\n"
     ]
    },
    {
     "name": "stderr",
     "output_type": "stream",
     "text": [
      "100%|██████████| 4134/4134 [00:40<00:00, 101.40it/s]\n",
      "100%|██████████| 1031/1031 [00:05<00:00, 195.02it/s]\n"
     ]
    },
    {
     "name": "stdout",
     "output_type": "stream",
     "text": [
      "[192/3000] Train Acc: 0.307309 Loss: 3.181576 | Val Acc: 0.674043 loss: 2.715614\n",
      "saving model with acc 0.674\n"
     ]
    },
    {
     "name": "stderr",
     "output_type": "stream",
     "text": [
      "100%|██████████| 4134/4134 [00:40<00:00, 101.17it/s]\n",
      "100%|██████████| 1031/1031 [00:05<00:00, 182.06it/s]\n"
     ]
    },
    {
     "name": "stdout",
     "output_type": "stream",
     "text": [
      "[193/3000] Train Acc: 0.307344 Loss: 3.180857 | Val Acc: 0.673704 loss: 2.701890\n",
      "[193/3000] Train Acc: 0.307344 Loss: 3.180857\n"
     ]
    },
    {
     "name": "stderr",
     "output_type": "stream",
     "text": [
      "100%|██████████| 4134/4134 [00:41<00:00, 100.71it/s]\n",
      "100%|██████████| 1031/1031 [00:05<00:00, 205.93it/s]\n"
     ]
    },
    {
     "name": "stdout",
     "output_type": "stream",
     "text": [
      "[194/3000] Train Acc: 0.306736 Loss: 3.182503 | Val Acc: 0.674181 loss: 2.720183\n",
      "saving model with acc 0.674\n"
     ]
    },
    {
     "name": "stderr",
     "output_type": "stream",
     "text": [
      "100%|██████████| 4134/4134 [00:53<00:00, 77.72it/s]\n",
      "100%|██████████| 1031/1031 [00:07<00:00, 129.92it/s]\n"
     ]
    },
    {
     "name": "stdout",
     "output_type": "stream",
     "text": [
      "[195/3000] Train Acc: 0.306807 Loss: 3.180936 | Val Acc: 0.674183 loss: 2.723582\n",
      "saving model with acc 0.674\n"
     ]
    },
    {
     "name": "stderr",
     "output_type": "stream",
     "text": [
      "100%|██████████| 4134/4134 [00:51<00:00, 79.83it/s] \n",
      "100%|██████████| 1031/1031 [00:05<00:00, 175.65it/s]\n"
     ]
    },
    {
     "name": "stdout",
     "output_type": "stream",
     "text": [
      "[196/3000] Train Acc: 0.306794 Loss: 3.180834 | Val Acc: 0.673787 loss: 2.717375\n",
      "[196/3000] Train Acc: 0.306794 Loss: 3.180834\n"
     ]
    },
    {
     "name": "stderr",
     "output_type": "stream",
     "text": [
      "100%|██████████| 4134/4134 [00:40<00:00, 101.16it/s]\n",
      "100%|██████████| 1031/1031 [00:05<00:00, 206.12it/s]\n"
     ]
    },
    {
     "name": "stdout",
     "output_type": "stream",
     "text": [
      "[197/3000] Train Acc: 0.306921 Loss: 3.181248 | Val Acc: 0.673429 loss: 2.719305\n",
      "[197/3000] Train Acc: 0.306921 Loss: 3.181248\n"
     ]
    },
    {
     "name": "stderr",
     "output_type": "stream",
     "text": [
      "100%|██████████| 4134/4134 [00:41<00:00, 99.96it/s] \n",
      "100%|██████████| 1031/1031 [00:05<00:00, 205.95it/s]\n"
     ]
    },
    {
     "name": "stdout",
     "output_type": "stream",
     "text": [
      "[198/3000] Train Acc: 0.306335 Loss: 3.182477 | Val Acc: 0.673920 loss: 2.716483\n",
      "[198/3000] Train Acc: 0.306335 Loss: 3.182477\n"
     ]
    },
    {
     "name": "stderr",
     "output_type": "stream",
     "text": [
      "100%|██████████| 4134/4134 [00:41<00:00, 100.16it/s]\n",
      "100%|██████████| 1031/1031 [00:05<00:00, 195.31it/s]\n"
     ]
    },
    {
     "name": "stdout",
     "output_type": "stream",
     "text": [
      "[199/3000] Train Acc: 0.306484 Loss: 3.183014 | Val Acc: 0.673832 loss: 2.721872\n",
      "[199/3000] Train Acc: 0.306484 Loss: 3.183014\n"
     ]
    },
    {
     "name": "stderr",
     "output_type": "stream",
     "text": [
      "100%|██████████| 4134/4134 [00:40<00:00, 101.60it/s]\n",
      "100%|██████████| 1031/1031 [00:05<00:00, 201.88it/s]\n"
     ]
    },
    {
     "name": "stdout",
     "output_type": "stream",
     "text": [
      "[200/3000] Train Acc: 0.306213 Loss: 3.182250 | Val Acc: 0.673715 loss: 2.708174\n",
      "[200/3000] Train Acc: 0.306213 Loss: 3.182250\n"
     ]
    },
    {
     "name": "stderr",
     "output_type": "stream",
     "text": [
      "100%|██████████| 4134/4134 [00:40<00:00, 101.55it/s]\n",
      "100%|██████████| 1031/1031 [00:05<00:00, 179.90it/s]\n"
     ]
    },
    {
     "name": "stdout",
     "output_type": "stream",
     "text": [
      "[201/3000] Train Acc: 0.306919 Loss: 3.182785 | Val Acc: 0.673423 loss: 2.716167\n",
      "[201/3000] Train Acc: 0.306919 Loss: 3.182785\n"
     ]
    },
    {
     "name": "stderr",
     "output_type": "stream",
     "text": [
      "100%|██████████| 4134/4134 [00:41<00:00, 100.38it/s]\n",
      "100%|██████████| 1031/1031 [00:04<00:00, 207.74it/s]\n"
     ]
    },
    {
     "name": "stdout",
     "output_type": "stream",
     "text": [
      "[202/3000] Train Acc: 0.307349 Loss: 3.180233 | Val Acc: 0.673497 loss: 2.714724\n",
      "[202/3000] Train Acc: 0.307349 Loss: 3.180233\n"
     ]
    },
    {
     "name": "stderr",
     "output_type": "stream",
     "text": [
      "100%|██████████| 4134/4134 [00:41<00:00, 100.73it/s]\n",
      "100%|██████████| 1031/1031 [00:04<00:00, 210.45it/s]\n"
     ]
    },
    {
     "name": "stdout",
     "output_type": "stream",
     "text": [
      "[203/3000] Train Acc: 0.306396 Loss: 3.181576 | Val Acc: 0.673759 loss: 2.713566\n",
      "[203/3000] Train Acc: 0.306396 Loss: 3.181576\n"
     ]
    },
    {
     "name": "stderr",
     "output_type": "stream",
     "text": [
      "100%|██████████| 4134/4134 [00:41<00:00, 100.28it/s]\n",
      "100%|██████████| 1031/1031 [00:05<00:00, 195.31it/s]\n"
     ]
    },
    {
     "name": "stdout",
     "output_type": "stream",
     "text": [
      "[204/3000] Train Acc: 0.306439 Loss: 3.181073 | Val Acc: 0.673577 loss: 2.717046\n",
      "[204/3000] Train Acc: 0.306439 Loss: 3.181073\n"
     ]
    },
    {
     "name": "stderr",
     "output_type": "stream",
     "text": [
      "100%|██████████| 4134/4134 [00:40<00:00, 101.33it/s]\n",
      "100%|██████████| 1031/1031 [00:05<00:00, 194.37it/s]\n"
     ]
    },
    {
     "name": "stdout",
     "output_type": "stream",
     "text": [
      "[205/3000] Train Acc: 0.306423 Loss: 3.182800 | Val Acc: 0.673323 loss: 2.720310\n",
      "[205/3000] Train Acc: 0.306423 Loss: 3.182800\n"
     ]
    },
    {
     "name": "stderr",
     "output_type": "stream",
     "text": [
      "100%|██████████| 4134/4134 [00:44<00:00, 93.72it/s]\n",
      "100%|██████████| 1031/1031 [00:07<00:00, 137.40it/s]\n"
     ]
    },
    {
     "name": "stdout",
     "output_type": "stream",
     "text": [
      "[206/3000] Train Acc: 0.306839 Loss: 3.181376 | Val Acc: 0.673527 loss: 2.707311\n",
      "[206/3000] Train Acc: 0.306839 Loss: 3.181376\n"
     ]
    },
    {
     "name": "stderr",
     "output_type": "stream",
     "text": [
      "100%|██████████| 4134/4134 [01:03<00:00, 65.41it/s]\n",
      "100%|██████████| 1031/1031 [00:05<00:00, 197.31it/s]\n"
     ]
    },
    {
     "name": "stdout",
     "output_type": "stream",
     "text": [
      "[207/3000] Train Acc: 0.305814 Loss: 3.183892 | Val Acc: 0.673707 loss: 2.716295\n",
      "[207/3000] Train Acc: 0.305814 Loss: 3.183892\n"
     ]
    },
    {
     "name": "stderr",
     "output_type": "stream",
     "text": [
      "100%|██████████| 4134/4134 [00:40<00:00, 101.27it/s]\n",
      "100%|██████████| 1031/1031 [00:05<00:00, 196.25it/s]\n"
     ]
    },
    {
     "name": "stdout",
     "output_type": "stream",
     "text": [
      "[208/3000] Train Acc: 0.306896 Loss: 3.181829 | Val Acc: 0.674071 loss: 2.715404\n",
      "[208/3000] Train Acc: 0.306896 Loss: 3.181829\n"
     ]
    },
    {
     "name": "stderr",
     "output_type": "stream",
     "text": [
      "100%|██████████| 4134/4134 [00:41<00:00, 99.88it/s]\n",
      "100%|██████████| 1031/1031 [00:05<00:00, 203.03it/s]\n"
     ]
    },
    {
     "name": "stdout",
     "output_type": "stream",
     "text": [
      "[209/3000] Train Acc: 0.306904 Loss: 3.180615 | Val Acc: 0.673624 loss: 2.717046\n",
      "[209/3000] Train Acc: 0.306904 Loss: 3.180615\n"
     ]
    },
    {
     "name": "stderr",
     "output_type": "stream",
     "text": [
      "100%|██████████| 4134/4134 [00:40<00:00, 101.07it/s]\n",
      "100%|██████████| 1031/1031 [00:04<00:00, 210.45it/s]\n"
     ]
    },
    {
     "name": "stdout",
     "output_type": "stream",
     "text": [
      "[210/3000] Train Acc: 0.306840 Loss: 3.181711 | Val Acc: 0.673984 loss: 2.698518\n",
      "[210/3000] Train Acc: 0.306840 Loss: 3.181711\n"
     ]
    },
    {
     "name": "stderr",
     "output_type": "stream",
     "text": [
      "100%|██████████| 4134/4134 [00:41<00:00, 100.74it/s]\n",
      "100%|██████████| 1031/1031 [00:05<00:00, 190.12it/s]\n"
     ]
    },
    {
     "name": "stdout",
     "output_type": "stream",
     "text": [
      "[211/3000] Train Acc: 0.306669 Loss: 3.179060 | Val Acc: 0.674700 loss: 2.723135\n",
      "saving model with acc 0.675\n"
     ]
    },
    {
     "name": "stderr",
     "output_type": "stream",
     "text": [
      "100%|██████████| 4134/4134 [00:40<00:00, 101.40it/s]\n",
      "100%|██████████| 1031/1031 [00:05<00:00, 193.21it/s]\n"
     ]
    },
    {
     "name": "stdout",
     "output_type": "stream",
     "text": [
      "[212/3000] Train Acc: 0.306820 Loss: 3.182004 | Val Acc: 0.674168 loss: 2.713108\n",
      "[212/3000] Train Acc: 0.306820 Loss: 3.182004\n"
     ]
    },
    {
     "name": "stderr",
     "output_type": "stream",
     "text": [
      "100%|██████████| 4134/4134 [00:40<00:00, 101.54it/s]\n",
      "100%|██████████| 1031/1031 [00:05<00:00, 199.54it/s]\n"
     ]
    },
    {
     "name": "stdout",
     "output_type": "stream",
     "text": [
      "[213/3000] Train Acc: 0.306615 Loss: 3.181247 | Val Acc: 0.673827 loss: 2.702777\n",
      "[213/3000] Train Acc: 0.306615 Loss: 3.181247\n"
     ]
    },
    {
     "name": "stderr",
     "output_type": "stream",
     "text": [
      "100%|██████████| 4134/4134 [00:41<00:00, 100.67it/s]\n",
      "100%|██████████| 1031/1031 [00:04<00:00, 213.30it/s]\n"
     ]
    },
    {
     "name": "stdout",
     "output_type": "stream",
     "text": [
      "[214/3000] Train Acc: 0.306666 Loss: 3.181596 | Val Acc: 0.674266 loss: 2.708815\n",
      "[214/3000] Train Acc: 0.306666 Loss: 3.181596\n"
     ]
    },
    {
     "name": "stderr",
     "output_type": "stream",
     "text": [
      "100%|██████████| 4134/4134 [00:41<00:00, 100.35it/s]\n",
      "100%|██████████| 1031/1031 [00:04<00:00, 210.09it/s]\n"
     ]
    },
    {
     "name": "stdout",
     "output_type": "stream",
     "text": [
      "[215/3000] Train Acc: 0.306589 Loss: 3.181590 | Val Acc: 0.674638 loss: 2.708646\n",
      "[215/3000] Train Acc: 0.306589 Loss: 3.181590\n"
     ]
    },
    {
     "name": "stderr",
     "output_type": "stream",
     "text": [
      "100%|██████████| 4134/4134 [00:40<00:00, 101.75it/s]\n",
      "100%|██████████| 1031/1031 [00:05<00:00, 192.99it/s]\n"
     ]
    },
    {
     "name": "stdout",
     "output_type": "stream",
     "text": [
      "[216/3000] Train Acc: 0.306152 Loss: 3.182532 | Val Acc: 0.673520 loss: 2.708655\n",
      "[216/3000] Train Acc: 0.306152 Loss: 3.182532\n"
     ]
    },
    {
     "name": "stderr",
     "output_type": "stream",
     "text": [
      "100%|██████████| 4134/4134 [00:40<00:00, 100.88it/s]\n",
      "100%|██████████| 1031/1031 [00:05<00:00, 194.88it/s]\n"
     ]
    },
    {
     "name": "stdout",
     "output_type": "stream",
     "text": [
      "[217/3000] Train Acc: 0.306377 Loss: 3.180839 | Val Acc: 0.674742 loss: 2.699574\n",
      "saving model with acc 0.675\n"
     ]
    },
    {
     "name": "stderr",
     "output_type": "stream",
     "text": [
      "100%|██████████| 4134/4134 [00:58<00:00, 70.98it/s]\n",
      "100%|██████████| 1031/1031 [00:07<00:00, 130.68it/s]\n"
     ]
    },
    {
     "name": "stdout",
     "output_type": "stream",
     "text": [
      "[218/3000] Train Acc: 0.306212 Loss: 3.181479 | Val Acc: 0.675049 loss: 2.722264\n",
      "saving model with acc 0.675\n"
     ]
    },
    {
     "name": "stderr",
     "output_type": "stream",
     "text": [
      "100%|██████████| 4134/4134 [00:49<00:00, 83.22it/s] \n",
      "100%|██████████| 1031/1031 [00:05<00:00, 191.92it/s]\n"
     ]
    },
    {
     "name": "stdout",
     "output_type": "stream",
     "text": [
      "[219/3000] Train Acc: 0.306727 Loss: 3.181542 | Val Acc: 0.674583 loss: 2.710615\n",
      "[219/3000] Train Acc: 0.306727 Loss: 3.181542\n"
     ]
    },
    {
     "name": "stderr",
     "output_type": "stream",
     "text": [
      "100%|██████████| 4134/4134 [00:40<00:00, 102.09it/s]\n",
      "100%|██████████| 1031/1031 [00:05<00:00, 193.09it/s]\n"
     ]
    },
    {
     "name": "stdout",
     "output_type": "stream",
     "text": [
      "[220/3000] Train Acc: 0.306136 Loss: 3.182058 | Val Acc: 0.674293 loss: 2.718259\n",
      "[220/3000] Train Acc: 0.306136 Loss: 3.182058\n"
     ]
    },
    {
     "name": "stderr",
     "output_type": "stream",
     "text": [
      "100%|██████████| 4134/4134 [00:40<00:00, 101.89it/s]\n",
      "100%|██████████| 1031/1031 [00:05<00:00, 199.76it/s]\n"
     ]
    },
    {
     "name": "stdout",
     "output_type": "stream",
     "text": [
      "[221/3000] Train Acc: 0.306982 Loss: 3.178789 | Val Acc: 0.674689 loss: 2.707280\n",
      "[221/3000] Train Acc: 0.306982 Loss: 3.178789\n"
     ]
    },
    {
     "name": "stderr",
     "output_type": "stream",
     "text": [
      "100%|██████████| 4134/4134 [00:41<00:00, 100.25it/s]\n",
      "100%|██████████| 1031/1031 [00:04<00:00, 209.45it/s]\n"
     ]
    },
    {
     "name": "stdout",
     "output_type": "stream",
     "text": [
      "[222/3000] Train Acc: 0.307151 Loss: 3.180848 | Val Acc: 0.674450 loss: 2.716140\n",
      "[222/3000] Train Acc: 0.307151 Loss: 3.180848\n"
     ]
    },
    {
     "name": "stderr",
     "output_type": "stream",
     "text": [
      "100%|██████████| 4134/4134 [00:41<00:00, 100.70it/s]\n",
      "100%|██████████| 1031/1031 [00:04<00:00, 207.57it/s]\n"
     ]
    },
    {
     "name": "stdout",
     "output_type": "stream",
     "text": [
      "[223/3000] Train Acc: 0.306531 Loss: 3.182074 | Val Acc: 0.674920 loss: 2.728414\n",
      "[223/3000] Train Acc: 0.306531 Loss: 3.182074\n"
     ]
    },
    {
     "name": "stderr",
     "output_type": "stream",
     "text": [
      "100%|██████████| 4134/4134 [00:41<00:00, 100.73it/s]\n",
      "100%|██████████| 1031/1031 [00:05<00:00, 199.45it/s]\n"
     ]
    },
    {
     "name": "stdout",
     "output_type": "stream",
     "text": [
      "[224/3000] Train Acc: 0.307325 Loss: 3.179586 | Val Acc: 0.674575 loss: 2.712126\n",
      "[224/3000] Train Acc: 0.307325 Loss: 3.179586\n"
     ]
    },
    {
     "name": "stderr",
     "output_type": "stream",
     "text": [
      "100%|██████████| 4134/4134 [00:40<00:00, 101.57it/s]\n",
      "100%|██████████| 1031/1031 [00:05<00:00, 195.85it/s]\n"
     ]
    },
    {
     "name": "stdout",
     "output_type": "stream",
     "text": [
      "[225/3000] Train Acc: 0.306786 Loss: 3.179685 | Val Acc: 0.674994 loss: 2.721643\n",
      "[225/3000] Train Acc: 0.306786 Loss: 3.179685\n"
     ]
    },
    {
     "name": "stderr",
     "output_type": "stream",
     "text": [
      "100%|██████████| 4134/4134 [00:40<00:00, 101.89it/s]\n",
      "100%|██████████| 1031/1031 [00:05<00:00, 196.11it/s]\n"
     ]
    },
    {
     "name": "stdout",
     "output_type": "stream",
     "text": [
      "[226/3000] Train Acc: 0.307069 Loss: 3.180380 | Val Acc: 0.674977 loss: 2.716115\n",
      "[226/3000] Train Acc: 0.307069 Loss: 3.180380\n"
     ]
    },
    {
     "name": "stderr",
     "output_type": "stream",
     "text": [
      "100%|██████████| 4134/4134 [00:41<00:00, 100.62it/s]\n",
      "100%|██████████| 1031/1031 [00:04<00:00, 206.89it/s]\n"
     ]
    },
    {
     "name": "stdout",
     "output_type": "stream",
     "text": [
      "[227/3000] Train Acc: 0.307179 Loss: 3.178756 | Val Acc: 0.675136 loss: 2.716401\n",
      "saving model with acc 0.675\n"
     ]
    },
    {
     "name": "stderr",
     "output_type": "stream",
     "text": [
      "100%|██████████| 4134/4134 [00:40<00:00, 101.43it/s]\n",
      "100%|██████████| 1031/1031 [00:05<00:00, 202.02it/s]\n"
     ]
    },
    {
     "name": "stdout",
     "output_type": "stream",
     "text": [
      "[228/3000] Train Acc: 0.306641 Loss: 3.180196 | Val Acc: 0.675269 loss: 2.728571\n",
      "saving model with acc 0.675\n"
     ]
    },
    {
     "name": "stderr",
     "output_type": "stream",
     "text": [
      "100%|██████████| 4134/4134 [00:45<00:00, 91.21it/s]\n",
      "100%|██████████| 1031/1031 [00:07<00:00, 129.24it/s]\n"
     ]
    },
    {
     "name": "stdout",
     "output_type": "stream",
     "text": [
      "[229/3000] Train Acc: 0.306844 Loss: 3.180593 | Val Acc: 0.675316 loss: 2.709690\n",
      "saving model with acc 0.675\n"
     ]
    },
    {
     "name": "stderr",
     "output_type": "stream",
     "text": [
      "100%|██████████| 4134/4134 [01:04<00:00, 63.67it/s]\n",
      "100%|██████████| 1031/1031 [00:05<00:00, 177.17it/s]\n"
     ]
    },
    {
     "name": "stdout",
     "output_type": "stream",
     "text": [
      "[230/3000] Train Acc: 0.306871 Loss: 3.180687 | Val Acc: 0.675047 loss: 2.706342\n",
      "[230/3000] Train Acc: 0.306871 Loss: 3.180687\n"
     ]
    },
    {
     "name": "stderr",
     "output_type": "stream",
     "text": [
      "100%|██████████| 4134/4134 [00:40<00:00, 101.79it/s]\n",
      "100%|██████████| 1031/1031 [00:05<00:00, 200.41it/s]\n"
     ]
    },
    {
     "name": "stdout",
     "output_type": "stream",
     "text": [
      "[231/3000] Train Acc: 0.306798 Loss: 3.179946 | Val Acc: 0.675697 loss: 2.709560\n",
      "saving model with acc 0.676\n"
     ]
    },
    {
     "name": "stderr",
     "output_type": "stream",
     "text": [
      "100%|██████████| 4134/4134 [00:41<00:00, 100.48it/s]\n",
      "100%|██████████| 1031/1031 [00:05<00:00, 199.01it/s]\n"
     ]
    },
    {
     "name": "stdout",
     "output_type": "stream",
     "text": [
      "[232/3000] Train Acc: 0.306555 Loss: 3.179412 | Val Acc: 0.674880 loss: 2.709822\n",
      "[232/3000] Train Acc: 0.306555 Loss: 3.179412\n"
     ]
    },
    {
     "name": "stderr",
     "output_type": "stream",
     "text": [
      "100%|██████████| 4134/4134 [00:41<00:00, 100.24it/s]\n",
      "100%|██████████| 1031/1031 [00:04<00:00, 209.39it/s]\n"
     ]
    },
    {
     "name": "stdout",
     "output_type": "stream",
     "text": [
      "[233/3000] Train Acc: 0.306273 Loss: 3.180812 | Val Acc: 0.675371 loss: 2.714008\n",
      "[233/3000] Train Acc: 0.306273 Loss: 3.180812\n"
     ]
    },
    {
     "name": "stderr",
     "output_type": "stream",
     "text": [
      "100%|██████████| 4134/4134 [00:40<00:00, 101.59it/s]\n",
      "100%|██████████| 1031/1031 [00:05<00:00, 188.04it/s]\n"
     ]
    },
    {
     "name": "stdout",
     "output_type": "stream",
     "text": [
      "[234/3000] Train Acc: 0.306666 Loss: 3.179146 | Val Acc: 0.675136 loss: 2.708659\n",
      "[234/3000] Train Acc: 0.306666 Loss: 3.179146\n"
     ]
    },
    {
     "name": "stderr",
     "output_type": "stream",
     "text": [
      "100%|██████████| 4134/4134 [00:40<00:00, 101.84it/s]\n",
      "100%|██████████| 1031/1031 [00:04<00:00, 209.30it/s]\n"
     ]
    },
    {
     "name": "stdout",
     "output_type": "stream",
     "text": [
      "[235/3000] Train Acc: 0.307236 Loss: 3.179591 | Val Acc: 0.674795 loss: 2.712837\n",
      "[235/3000] Train Acc: 0.307236 Loss: 3.179591\n"
     ]
    },
    {
     "name": "stderr",
     "output_type": "stream",
     "text": [
      "100%|██████████| 4134/4134 [00:40<00:00, 101.20it/s]\n",
      "100%|██████████| 1031/1031 [00:05<00:00, 197.15it/s]\n"
     ]
    },
    {
     "name": "stdout",
     "output_type": "stream",
     "text": [
      "[236/3000] Train Acc: 0.307130 Loss: 3.180907 | Val Acc: 0.676170 loss: 2.702075\n",
      "saving model with acc 0.676\n"
     ]
    },
    {
     "name": "stderr",
     "output_type": "stream",
     "text": [
      "100%|██████████| 4134/4134 [00:41<00:00, 99.99it/s]\n",
      "100%|██████████| 1031/1031 [00:05<00:00, 200.29it/s]\n"
     ]
    },
    {
     "name": "stdout",
     "output_type": "stream",
     "text": [
      "[237/3000] Train Acc: 0.307204 Loss: 3.178511 | Val Acc: 0.675394 loss: 2.716703\n",
      "[237/3000] Train Acc: 0.307204 Loss: 3.178511\n"
     ]
    },
    {
     "name": "stderr",
     "output_type": "stream",
     "text": [
      "100%|██████████| 4134/4134 [00:40<00:00, 101.92it/s]\n",
      "100%|██████████| 1031/1031 [00:04<00:00, 209.21it/s]\n"
     ]
    },
    {
     "name": "stdout",
     "output_type": "stream",
     "text": [
      "[238/3000] Train Acc: 0.306941 Loss: 3.179008 | Val Acc: 0.674729 loss: 2.717511\n",
      "[238/3000] Train Acc: 0.306941 Loss: 3.179008\n"
     ]
    },
    {
     "name": "stderr",
     "output_type": "stream",
     "text": [
      "100%|██████████| 4134/4134 [00:40<00:00, 101.71it/s]\n",
      "100%|██████████| 1031/1031 [00:05<00:00, 190.54it/s]\n"
     ]
    },
    {
     "name": "stdout",
     "output_type": "stream",
     "text": [
      "[239/3000] Train Acc: 0.306520 Loss: 3.181264 | Val Acc: 0.675881 loss: 2.715898\n",
      "[239/3000] Train Acc: 0.306520 Loss: 3.181264\n"
     ]
    },
    {
     "name": "stderr",
     "output_type": "stream",
     "text": [
      "100%|██████████| 4134/4134 [00:40<00:00, 101.33it/s]\n",
      "100%|██████████| 1031/1031 [00:04<00:00, 210.83it/s]\n"
     ]
    },
    {
     "name": "stdout",
     "output_type": "stream",
     "text": [
      "[240/3000] Train Acc: 0.307214 Loss: 3.179703 | Val Acc: 0.675917 loss: 2.713374\n",
      "[240/3000] Train Acc: 0.307214 Loss: 3.179703\n"
     ]
    },
    {
     "name": "stderr",
     "output_type": "stream",
     "text": [
      "100%|██████████| 4134/4134 [00:56<00:00, 73.07it/s]\n",
      "100%|██████████| 1031/1031 [00:07<00:00, 132.96it/s]\n"
     ]
    },
    {
     "name": "stdout",
     "output_type": "stream",
     "text": [
      "[241/3000] Train Acc: 0.307384 Loss: 3.179383 | Val Acc: 0.675782 loss: 2.709798\n",
      "[241/3000] Train Acc: 0.307384 Loss: 3.179383\n"
     ]
    },
    {
     "name": "stderr",
     "output_type": "stream",
     "text": [
      "100%|██████████| 4134/4134 [00:55<00:00, 74.75it/s] \n",
      "100%|██████████| 1031/1031 [00:05<00:00, 198.08it/s]\n"
     ]
    },
    {
     "name": "stdout",
     "output_type": "stream",
     "text": [
      "[242/3000] Train Acc: 0.306582 Loss: 3.179993 | Val Acc: 0.675180 loss: 2.722458\n",
      "[242/3000] Train Acc: 0.306582 Loss: 3.179993\n"
     ]
    },
    {
     "name": "stderr",
     "output_type": "stream",
     "text": [
      "100%|██████████| 4134/4134 [00:40<00:00, 102.34it/s]\n",
      "100%|██████████| 1031/1031 [00:05<00:00, 196.03it/s]\n"
     ]
    },
    {
     "name": "stdout",
     "output_type": "stream",
     "text": [
      "[243/3000] Train Acc: 0.306850 Loss: 3.180254 | Val Acc: 0.675020 loss: 2.707683\n",
      "[243/3000] Train Acc: 0.306850 Loss: 3.180254\n"
     ]
    },
    {
     "name": "stderr",
     "output_type": "stream",
     "text": [
      "100%|██████████| 4134/4134 [00:40<00:00, 101.32it/s]\n",
      "100%|██████████| 1031/1031 [00:05<00:00, 200.35it/s]\n"
     ]
    },
    {
     "name": "stdout",
     "output_type": "stream",
     "text": [
      "[244/3000] Train Acc: 0.306134 Loss: 3.180051 | Val Acc: 0.675879 loss: 2.711747\n",
      "[244/3000] Train Acc: 0.306134 Loss: 3.180051\n"
     ]
    },
    {
     "name": "stderr",
     "output_type": "stream",
     "text": [
      "100%|██████████| 4134/4134 [00:41<00:00, 100.30it/s]\n",
      "100%|██████████| 1031/1031 [00:04<00:00, 210.04it/s]\n"
     ]
    },
    {
     "name": "stdout",
     "output_type": "stream",
     "text": [
      "[245/3000] Train Acc: 0.307020 Loss: 3.178726 | Val Acc: 0.675771 loss: 2.707075\n",
      "[245/3000] Train Acc: 0.307020 Loss: 3.178726\n"
     ]
    },
    {
     "name": "stderr",
     "output_type": "stream",
     "text": [
      "100%|██████████| 4134/4134 [00:40<00:00, 101.49it/s]\n",
      "100%|██████████| 1031/1031 [00:04<00:00, 207.96it/s]\n"
     ]
    },
    {
     "name": "stdout",
     "output_type": "stream",
     "text": [
      "[246/3000] Train Acc: 0.307008 Loss: 3.179426 | Val Acc: 0.675524 loss: 2.718051\n",
      "[246/3000] Train Acc: 0.307008 Loss: 3.179426\n"
     ]
    },
    {
     "name": "stderr",
     "output_type": "stream",
     "text": [
      "100%|██████████| 4134/4134 [00:41<00:00, 100.52it/s]\n",
      "100%|██████████| 1031/1031 [00:05<00:00, 201.51it/s]\n"
     ]
    },
    {
     "name": "stdout",
     "output_type": "stream",
     "text": [
      "[247/3000] Train Acc: 0.307201 Loss: 3.180003 | Val Acc: 0.675354 loss: 2.708212\n",
      "[247/3000] Train Acc: 0.307201 Loss: 3.180003\n"
     ]
    },
    {
     "name": "stderr",
     "output_type": "stream",
     "text": [
      "100%|██████████| 4134/4134 [00:40<00:00, 101.24it/s]\n",
      "100%|██████████| 1031/1031 [00:05<00:00, 192.09it/s]\n"
     ]
    },
    {
     "name": "stdout",
     "output_type": "stream",
     "text": [
      "[248/3000] Train Acc: 0.307026 Loss: 3.179795 | Val Acc: 0.675953 loss: 2.714411\n",
      "[248/3000] Train Acc: 0.307026 Loss: 3.179795\n"
     ]
    },
    {
     "name": "stderr",
     "output_type": "stream",
     "text": [
      "100%|██████████| 4134/4134 [00:40<00:00, 101.95it/s]\n",
      "100%|██████████| 1031/1031 [00:05<00:00, 197.52it/s]\n"
     ]
    },
    {
     "name": "stdout",
     "output_type": "stream",
     "text": [
      "[249/3000] Train Acc: 0.307060 Loss: 3.178547 | Val Acc: 0.675176 loss: 2.708902\n",
      "[249/3000] Train Acc: 0.307060 Loss: 3.178547\n"
     ]
    },
    {
     "name": "stderr",
     "output_type": "stream",
     "text": [
      "100%|██████████| 4134/4134 [00:40<00:00, 101.26it/s]\n",
      "100%|██████████| 1031/1031 [00:04<00:00, 207.26it/s]\n"
     ]
    },
    {
     "name": "stdout",
     "output_type": "stream",
     "text": [
      "[250/3000] Train Acc: 0.306380 Loss: 3.180971 | Val Acc: 0.675636 loss: 2.712063\n",
      "[250/3000] Train Acc: 0.306380 Loss: 3.180971\n"
     ]
    },
    {
     "name": "stderr",
     "output_type": "stream",
     "text": [
      "100%|██████████| 4134/4134 [00:40<00:00, 101.72it/s]\n",
      "100%|██████████| 1031/1031 [00:05<00:00, 203.06it/s]\n"
     ]
    },
    {
     "name": "stdout",
     "output_type": "stream",
     "text": [
      "[251/3000] Train Acc: 0.306686 Loss: 3.179248 | Val Acc: 0.676466 loss: 2.710212\n",
      "saving model with acc 0.676\n"
     ]
    },
    {
     "name": "stderr",
     "output_type": "stream",
     "text": [
      "100%|██████████| 4134/4134 [00:41<00:00, 99.81it/s]\n",
      "100%|██████████| 1031/1031 [00:06<00:00, 164.38it/s]\n"
     ]
    },
    {
     "name": "stdout",
     "output_type": "stream",
     "text": [
      "[252/3000] Train Acc: 0.306571 Loss: 3.178629 | Val Acc: 0.676328 loss: 2.706063\n",
      "[252/3000] Train Acc: 0.306571 Loss: 3.178629\n"
     ]
    },
    {
     "name": "stderr",
     "output_type": "stream",
     "text": [
      "100%|██████████| 4134/4134 [01:05<00:00, 63.57it/s]\n",
      "100%|██████████| 1031/1031 [00:07<00:00, 138.69it/s]\n"
     ]
    },
    {
     "name": "stdout",
     "output_type": "stream",
     "text": [
      "[253/3000] Train Acc: 0.306719 Loss: 3.180641 | Val Acc: 0.676341 loss: 2.714264\n",
      "[253/3000] Train Acc: 0.306719 Loss: 3.180641\n"
     ]
    },
    {
     "name": "stderr",
     "output_type": "stream",
     "text": [
      "100%|██████████| 4134/4134 [00:46<00:00, 89.10it/s] \n",
      "100%|██████████| 1031/1031 [00:05<00:00, 201.42it/s]\n"
     ]
    },
    {
     "name": "stdout",
     "output_type": "stream",
     "text": [
      "[254/3000] Train Acc: 0.306505 Loss: 3.180803 | Val Acc: 0.675795 loss: 2.707016\n",
      "[254/3000] Train Acc: 0.306505 Loss: 3.180803\n"
     ]
    },
    {
     "name": "stderr",
     "output_type": "stream",
     "text": [
      "100%|██████████| 4134/4134 [00:41<00:00, 100.77it/s]\n",
      "100%|██████████| 1031/1031 [00:04<00:00, 211.75it/s]\n"
     ]
    },
    {
     "name": "stdout",
     "output_type": "stream",
     "text": [
      "[255/3000] Train Acc: 0.306220 Loss: 3.180218 | Val Acc: 0.676182 loss: 2.714819\n",
      "[255/3000] Train Acc: 0.306220 Loss: 3.180218\n"
     ]
    },
    {
     "name": "stderr",
     "output_type": "stream",
     "text": [
      "100%|██████████| 4134/4134 [00:40<00:00, 101.65it/s]\n",
      "100%|██████████| 1031/1031 [00:04<00:00, 206.31it/s]\n"
     ]
    },
    {
     "name": "stdout",
     "output_type": "stream",
     "text": [
      "[256/3000] Train Acc: 0.306351 Loss: 3.179635 | Val Acc: 0.676343 loss: 2.716533\n",
      "[256/3000] Train Acc: 0.306351 Loss: 3.179635\n"
     ]
    },
    {
     "name": "stderr",
     "output_type": "stream",
     "text": [
      "100%|██████████| 4134/4134 [00:40<00:00, 101.06it/s]\n",
      "100%|██████████| 1031/1031 [00:05<00:00, 190.88it/s]\n"
     ]
    },
    {
     "name": "stdout",
     "output_type": "stream",
     "text": [
      "[257/3000] Train Acc: 0.306909 Loss: 3.179224 | Val Acc: 0.675678 loss: 2.705040\n",
      "[257/3000] Train Acc: 0.306909 Loss: 3.179224\n"
     ]
    },
    {
     "name": "stderr",
     "output_type": "stream",
     "text": [
      "100%|██████████| 4134/4134 [00:40<00:00, 101.86it/s]\n",
      "100%|██████████| 1031/1031 [00:05<00:00, 191.69it/s]\n"
     ]
    },
    {
     "name": "stdout",
     "output_type": "stream",
     "text": [
      "[258/3000] Train Acc: 0.306446 Loss: 3.179530 | Val Acc: 0.676506 loss: 2.712419\n",
      "saving model with acc 0.677\n"
     ]
    },
    {
     "name": "stderr",
     "output_type": "stream",
     "text": [
      "100%|██████████| 4134/4134 [00:40<00:00, 101.96it/s]\n",
      "100%|██████████| 1031/1031 [00:05<00:00, 197.46it/s]\n"
     ]
    },
    {
     "name": "stdout",
     "output_type": "stream",
     "text": [
      "[259/3000] Train Acc: 0.306581 Loss: 3.180026 | Val Acc: 0.676587 loss: 2.707499\n",
      "saving model with acc 0.677\n"
     ]
    },
    {
     "name": "stderr",
     "output_type": "stream",
     "text": [
      "100%|██████████| 4134/4134 [00:41<00:00, 99.99it/s]\n",
      "100%|██████████| 1031/1031 [00:04<00:00, 209.82it/s]\n"
     ]
    },
    {
     "name": "stdout",
     "output_type": "stream",
     "text": [
      "[260/3000] Train Acc: 0.307125 Loss: 3.179221 | Val Acc: 0.676525 loss: 2.710439\n",
      "[260/3000] Train Acc: 0.307125 Loss: 3.179221\n"
     ]
    },
    {
     "name": "stderr",
     "output_type": "stream",
     "text": [
      "100%|██████████| 4134/4134 [00:40<00:00, 101.03it/s]\n",
      "100%|██████████| 1031/1031 [00:05<00:00, 206.14it/s]\n"
     ]
    },
    {
     "name": "stdout",
     "output_type": "stream",
     "text": [
      "[261/3000] Train Acc: 0.306877 Loss: 3.179205 | Val Acc: 0.675668 loss: 2.709010\n",
      "[261/3000] Train Acc: 0.306877 Loss: 3.179205\n"
     ]
    },
    {
     "name": "stderr",
     "output_type": "stream",
     "text": [
      "100%|██████████| 4134/4134 [00:41<00:00, 100.56it/s]\n",
      "100%|██████████| 1031/1031 [00:05<00:00, 182.13it/s]\n"
     ]
    },
    {
     "name": "stdout",
     "output_type": "stream",
     "text": [
      "[262/3000] Train Acc: 0.306757 Loss: 3.178244 | Val Acc: 0.676023 loss: 2.709110\n",
      "[262/3000] Train Acc: 0.306757 Loss: 3.178244\n"
     ]
    },
    {
     "name": "stderr",
     "output_type": "stream",
     "text": [
      "100%|██████████| 4134/4134 [00:40<00:00, 101.19it/s]\n",
      "100%|██████████| 1031/1031 [00:05<00:00, 200.14it/s]\n"
     ]
    },
    {
     "name": "stdout",
     "output_type": "stream",
     "text": [
      "[263/3000] Train Acc: 0.306798 Loss: 3.179805 | Val Acc: 0.676019 loss: 2.706198\n",
      "[263/3000] Train Acc: 0.306798 Loss: 3.179805\n"
     ]
    },
    {
     "name": "stderr",
     "output_type": "stream",
     "text": [
      "100%|██████████| 4134/4134 [00:47<00:00, 86.85it/s]\n",
      "100%|██████████| 1031/1031 [00:08<00:00, 120.41it/s]\n"
     ]
    },
    {
     "name": "stdout",
     "output_type": "stream",
     "text": [
      "[264/3000] Train Acc: 0.307255 Loss: 3.178856 | Val Acc: 0.676731 loss: 2.701922\n",
      "saving model with acc 0.677\n"
     ]
    },
    {
     "name": "stderr",
     "output_type": "stream",
     "text": [
      "100%|██████████| 4134/4134 [01:04<00:00, 63.76it/s]\n",
      "100%|██████████| 1031/1031 [00:07<00:00, 143.81it/s]\n"
     ]
    },
    {
     "name": "stdout",
     "output_type": "stream",
     "text": [
      "[265/3000] Train Acc: 0.306815 Loss: 3.179856 | Val Acc: 0.676580 loss: 2.706579\n",
      "[265/3000] Train Acc: 0.306815 Loss: 3.179856\n"
     ]
    },
    {
     "name": "stderr",
     "output_type": "stream",
     "text": [
      "100%|██████████| 4134/4134 [00:40<00:00, 101.11it/s]\n",
      "100%|██████████| 1031/1031 [00:05<00:00, 201.22it/s]\n"
     ]
    },
    {
     "name": "stdout",
     "output_type": "stream",
     "text": [
      "[266/3000] Train Acc: 0.307181 Loss: 3.178466 | Val Acc: 0.676591 loss: 2.704257\n",
      "[266/3000] Train Acc: 0.307181 Loss: 3.178466\n"
     ]
    },
    {
     "name": "stderr",
     "output_type": "stream",
     "text": [
      "100%|██████████| 4134/4134 [00:41<00:00, 100.42it/s]\n",
      "100%|██████████| 1031/1031 [00:05<00:00, 187.11it/s]\n"
     ]
    },
    {
     "name": "stdout",
     "output_type": "stream",
     "text": [
      "[267/3000] Train Acc: 0.307137 Loss: 3.178579 | Val Acc: 0.676477 loss: 2.707753\n",
      "[267/3000] Train Acc: 0.307137 Loss: 3.178579\n"
     ]
    },
    {
     "name": "stderr",
     "output_type": "stream",
     "text": [
      "100%|██████████| 4134/4134 [00:40<00:00, 102.12it/s]\n",
      "100%|██████████| 1031/1031 [00:05<00:00, 200.08it/s]\n"
     ]
    },
    {
     "name": "stdout",
     "output_type": "stream",
     "text": [
      "[268/3000] Train Acc: 0.307281 Loss: 3.179161 | Val Acc: 0.675378 loss: 2.715487\n",
      "[268/3000] Train Acc: 0.307281 Loss: 3.179161\n"
     ]
    },
    {
     "name": "stderr",
     "output_type": "stream",
     "text": [
      "100%|██████████| 4134/4134 [00:40<00:00, 101.34it/s]\n",
      "100%|██████████| 1031/1031 [00:04<00:00, 212.42it/s]\n"
     ]
    },
    {
     "name": "stdout",
     "output_type": "stream",
     "text": [
      "[269/3000] Train Acc: 0.306999 Loss: 3.178861 | Val Acc: 0.676426 loss: 2.710942\n",
      "[269/3000] Train Acc: 0.306999 Loss: 3.178861\n"
     ]
    },
    {
     "name": "stderr",
     "output_type": "stream",
     "text": [
      "100%|██████████| 4134/4134 [00:41<00:00, 99.23it/s] \n",
      "100%|██████████| 1031/1031 [00:04<00:00, 207.96it/s]\n"
     ]
    },
    {
     "name": "stdout",
     "output_type": "stream",
     "text": [
      "[270/3000] Train Acc: 0.306670 Loss: 3.178826 | Val Acc: 0.676943 loss: 2.709203\n",
      "saving model with acc 0.677\n"
     ]
    },
    {
     "name": "stderr",
     "output_type": "stream",
     "text": [
      "100%|██████████| 4134/4134 [00:40<00:00, 101.03it/s]\n",
      "100%|██████████| 1031/1031 [00:05<00:00, 205.59it/s]\n"
     ]
    },
    {
     "name": "stdout",
     "output_type": "stream",
     "text": [
      "[271/3000] Train Acc: 0.307161 Loss: 3.178672 | Val Acc: 0.676576 loss: 2.715667\n",
      "[271/3000] Train Acc: 0.307161 Loss: 3.178672\n"
     ]
    },
    {
     "name": "stderr",
     "output_type": "stream",
     "text": [
      "100%|██████████| 4134/4134 [00:40<00:00, 101.23it/s]\n",
      "100%|██████████| 1031/1031 [00:05<00:00, 180.92it/s]\n"
     ]
    },
    {
     "name": "stdout",
     "output_type": "stream",
     "text": [
      "[272/3000] Train Acc: 0.307239 Loss: 3.177492 | Val Acc: 0.676582 loss: 2.710641\n",
      "[272/3000] Train Acc: 0.307239 Loss: 3.177492\n"
     ]
    },
    {
     "name": "stderr",
     "output_type": "stream",
     "text": [
      "100%|██████████| 4134/4134 [00:40<00:00, 101.00it/s]\n",
      "100%|██████████| 1031/1031 [00:05<00:00, 196.13it/s]\n"
     ]
    },
    {
     "name": "stdout",
     "output_type": "stream",
     "text": [
      "[273/3000] Train Acc: 0.306725 Loss: 3.178674 | Val Acc: 0.676405 loss: 2.717213\n",
      "[273/3000] Train Acc: 0.306725 Loss: 3.178674\n"
     ]
    },
    {
     "name": "stderr",
     "output_type": "stream",
     "text": [
      "100%|██████████| 4134/4134 [00:40<00:00, 101.27it/s]\n",
      "100%|██████████| 1031/1031 [00:04<00:00, 208.88it/s]\n"
     ]
    },
    {
     "name": "stdout",
     "output_type": "stream",
     "text": [
      "[274/3000] Train Acc: 0.307146 Loss: 3.178427 | Val Acc: 0.676385 loss: 2.709651\n",
      "[274/3000] Train Acc: 0.307146 Loss: 3.178427\n"
     ]
    },
    {
     "name": "stderr",
     "output_type": "stream",
     "text": [
      "100%|██████████| 4134/4134 [00:41<00:00, 99.75it/s]\n",
      "100%|██████████| 1031/1031 [00:04<00:00, 210.41it/s]\n"
     ]
    },
    {
     "name": "stdout",
     "output_type": "stream",
     "text": [
      "[275/3000] Train Acc: 0.306871 Loss: 3.178638 | Val Acc: 0.676565 loss: 2.706926\n",
      "[275/3000] Train Acc: 0.306871 Loss: 3.178638\n"
     ]
    },
    {
     "name": "stderr",
     "output_type": "stream",
     "text": [
      "100%|██████████| 4134/4134 [00:55<00:00, 74.61it/s]\n",
      "100%|██████████| 1031/1031 [00:08<00:00, 121.50it/s]\n"
     ]
    },
    {
     "name": "stdout",
     "output_type": "stream",
     "text": [
      "[276/3000] Train Acc: 0.307121 Loss: 3.178607 | Val Acc: 0.676309 loss: 2.708506\n",
      "[276/3000] Train Acc: 0.307121 Loss: 3.178607\n"
     ]
    },
    {
     "name": "stderr",
     "output_type": "stream",
     "text": [
      "100%|██████████| 4134/4134 [01:00<00:00, 68.23it/s]\n",
      "100%|██████████| 1031/1031 [00:04<00:00, 207.08it/s]\n"
     ]
    },
    {
     "name": "stdout",
     "output_type": "stream",
     "text": [
      "[277/3000] Train Acc: 0.307455 Loss: 3.177819 | Val Acc: 0.676333 loss: 2.705339\n",
      "[277/3000] Train Acc: 0.307455 Loss: 3.177819\n"
     ]
    },
    {
     "name": "stderr",
     "output_type": "stream",
     "text": [
      "100%|██████████| 4134/4134 [00:41<00:00, 99.99it/s] \n",
      "100%|██████████| 1031/1031 [00:05<00:00, 202.50it/s]\n"
     ]
    },
    {
     "name": "stdout",
     "output_type": "stream",
     "text": [
      "[278/3000] Train Acc: 0.307605 Loss: 3.176823 | Val Acc: 0.676989 loss: 2.712848\n",
      "saving model with acc 0.677\n"
     ]
    },
    {
     "name": "stderr",
     "output_type": "stream",
     "text": [
      "100%|██████████| 4134/4134 [00:40<00:00, 101.60it/s]\n",
      "100%|██████████| 1031/1031 [00:05<00:00, 187.89it/s]\n"
     ]
    },
    {
     "name": "stdout",
     "output_type": "stream",
     "text": [
      "[279/3000] Train Acc: 0.307261 Loss: 3.176996 | Val Acc: 0.676267 loss: 2.710209\n",
      "[279/3000] Train Acc: 0.307261 Loss: 3.176996\n"
     ]
    },
    {
     "name": "stderr",
     "output_type": "stream",
     "text": [
      "100%|██████████| 4134/4134 [00:40<00:00, 101.12it/s]\n",
      "100%|██████████| 1031/1031 [00:05<00:00, 191.11it/s]\n"
     ]
    },
    {
     "name": "stdout",
     "output_type": "stream",
     "text": [
      "[280/3000] Train Acc: 0.307115 Loss: 3.178613 | Val Acc: 0.676511 loss: 2.703333\n",
      "[280/3000] Train Acc: 0.307115 Loss: 3.178613\n"
     ]
    },
    {
     "name": "stderr",
     "output_type": "stream",
     "text": [
      "100%|██████████| 4134/4134 [00:40<00:00, 101.23it/s]\n",
      "100%|██████████| 1031/1031 [00:05<00:00, 196.33it/s]\n"
     ]
    },
    {
     "name": "stdout",
     "output_type": "stream",
     "text": [
      "[281/3000] Train Acc: 0.306992 Loss: 3.178838 | Val Acc: 0.676059 loss: 2.714171\n",
      "[281/3000] Train Acc: 0.306992 Loss: 3.178838\n"
     ]
    },
    {
     "name": "stderr",
     "output_type": "stream",
     "text": [
      "100%|██████████| 4134/4134 [00:41<00:00, 100.54it/s]\n",
      "100%|██████████| 1031/1031 [00:05<00:00, 204.41it/s]\n"
     ]
    },
    {
     "name": "stdout",
     "output_type": "stream",
     "text": [
      "[282/3000] Train Acc: 0.307025 Loss: 3.179644 | Val Acc: 0.677273 loss: 2.706910\n",
      "saving model with acc 0.677\n"
     ]
    },
    {
     "name": "stderr",
     "output_type": "stream",
     "text": [
      "100%|██████████| 4134/4134 [00:41<00:00, 100.57it/s]\n",
      "100%|██████████| 1031/1031 [00:05<00:00, 203.76it/s]\n"
     ]
    },
    {
     "name": "stdout",
     "output_type": "stream",
     "text": [
      "[283/3000] Train Acc: 0.307148 Loss: 3.177355 | Val Acc: 0.676824 loss: 2.705613\n",
      "[283/3000] Train Acc: 0.307148 Loss: 3.177355\n"
     ]
    },
    {
     "name": "stderr",
     "output_type": "stream",
     "text": [
      "100%|██████████| 4134/4134 [00:40<00:00, 100.87it/s]\n",
      "100%|██████████| 1031/1031 [00:05<00:00, 191.39it/s]\n"
     ]
    },
    {
     "name": "stdout",
     "output_type": "stream",
     "text": [
      "[284/3000] Train Acc: 0.307361 Loss: 3.176441 | Val Acc: 0.676358 loss: 2.708410\n",
      "[284/3000] Train Acc: 0.307361 Loss: 3.176441\n"
     ]
    },
    {
     "name": "stderr",
     "output_type": "stream",
     "text": [
      "100%|██████████| 4134/4134 [00:40<00:00, 101.00it/s]\n",
      "100%|██████████| 1031/1031 [00:05<00:00, 193.12it/s]\n"
     ]
    },
    {
     "name": "stdout",
     "output_type": "stream",
     "text": [
      "[285/3000] Train Acc: 0.306454 Loss: 3.179849 | Val Acc: 0.676928 loss: 2.709814\n",
      "[285/3000] Train Acc: 0.306454 Loss: 3.179849\n"
     ]
    },
    {
     "name": "stderr",
     "output_type": "stream",
     "text": [
      "100%|██████████| 4134/4134 [00:40<00:00, 101.54it/s]\n",
      "100%|██████████| 1031/1031 [00:05<00:00, 197.59it/s]\n"
     ]
    },
    {
     "name": "stdout",
     "output_type": "stream",
     "text": [
      "[286/3000] Train Acc: 0.307115 Loss: 3.178210 | Val Acc: 0.677142 loss: 2.702669\n",
      "[286/3000] Train Acc: 0.307115 Loss: 3.178210\n"
     ]
    },
    {
     "name": "stderr",
     "output_type": "stream",
     "text": [
      "100%|██████████| 4134/4134 [00:41<00:00, 100.23it/s]\n",
      "100%|██████████| 1031/1031 [00:05<00:00, 202.99it/s]\n"
     ]
    },
    {
     "name": "stdout",
     "output_type": "stream",
     "text": [
      "[287/3000] Train Acc: 0.306658 Loss: 3.180084 | Val Acc: 0.676729 loss: 2.716374\n",
      "[287/3000] Train Acc: 0.306658 Loss: 3.180084\n"
     ]
    },
    {
     "name": "stderr",
     "output_type": "stream",
     "text": [
      "100%|██████████| 4134/4134 [01:02<00:00, 66.63it/s]\n",
      "100%|██████████| 1031/1031 [00:07<00:00, 135.54it/s]\n"
     ]
    },
    {
     "name": "stdout",
     "output_type": "stream",
     "text": [
      "[288/3000] Train Acc: 0.306745 Loss: 3.179962 | Val Acc: 0.677482 loss: 2.711622\n",
      "saving model with acc 0.677\n"
     ]
    },
    {
     "name": "stderr",
     "output_type": "stream",
     "text": [
      "100%|██████████| 4134/4134 [00:55<00:00, 74.45it/s] \n",
      "100%|██████████| 1031/1031 [00:05<00:00, 198.06it/s]\n"
     ]
    },
    {
     "name": "stdout",
     "output_type": "stream",
     "text": [
      "[289/3000] Train Acc: 0.307208 Loss: 3.176995 | Val Acc: 0.676898 loss: 2.720873\n",
      "[289/3000] Train Acc: 0.307208 Loss: 3.176995\n"
     ]
    },
    {
     "name": "stderr",
     "output_type": "stream",
     "text": [
      "100%|██████████| 4134/4134 [00:41<00:00, 100.39it/s]\n",
      "100%|██████████| 1031/1031 [00:05<00:00, 202.77it/s]\n"
     ]
    },
    {
     "name": "stdout",
     "output_type": "stream",
     "text": [
      "[290/3000] Train Acc: 0.307391 Loss: 3.178383 | Val Acc: 0.677525 loss: 2.708003\n",
      "saving model with acc 0.678\n"
     ]
    },
    {
     "name": "stderr",
     "output_type": "stream",
     "text": [
      "100%|██████████| 4134/4134 [00:41<00:00, 99.01it/s] \n",
      "100%|██████████| 1031/1031 [00:05<00:00, 191.81it/s]\n"
     ]
    },
    {
     "name": "stdout",
     "output_type": "stream",
     "text": [
      "[291/3000] Train Acc: 0.307719 Loss: 3.176618 | Val Acc: 0.677012 loss: 2.698400\n",
      "[291/3000] Train Acc: 0.307719 Loss: 3.176618\n"
     ]
    },
    {
     "name": "stderr",
     "output_type": "stream",
     "text": [
      "100%|██████████| 4134/4134 [00:40<00:00, 101.17it/s]\n",
      "100%|██████████| 1031/1031 [00:05<00:00, 203.61it/s]\n"
     ]
    },
    {
     "name": "stdout",
     "output_type": "stream",
     "text": [
      "[292/3000] Train Acc: 0.307396 Loss: 3.178167 | Val Acc: 0.677264 loss: 2.709289\n",
      "[292/3000] Train Acc: 0.307396 Loss: 3.178167\n"
     ]
    },
    {
     "name": "stderr",
     "output_type": "stream",
     "text": [
      "100%|██████████| 4134/4134 [00:40<00:00, 101.51it/s]\n",
      "100%|██████████| 1031/1031 [00:05<00:00, 190.53it/s]\n"
     ]
    },
    {
     "name": "stdout",
     "output_type": "stream",
     "text": [
      "[293/3000] Train Acc: 0.307174 Loss: 3.178810 | Val Acc: 0.676811 loss: 2.707643\n",
      "[293/3000] Train Acc: 0.307174 Loss: 3.178810\n"
     ]
    },
    {
     "name": "stderr",
     "output_type": "stream",
     "text": [
      "100%|██████████| 4134/4134 [00:41<00:00, 100.82it/s]\n",
      "100%|██████████| 1031/1031 [00:05<00:00, 197.39it/s]\n"
     ]
    },
    {
     "name": "stdout",
     "output_type": "stream",
     "text": [
      "[294/3000] Train Acc: 0.307045 Loss: 3.178776 | Val Acc: 0.677338 loss: 2.709143\n",
      "[294/3000] Train Acc: 0.307045 Loss: 3.178776\n"
     ]
    },
    {
     "name": "stderr",
     "output_type": "stream",
     "text": [
      "100%|██████████| 4134/4134 [00:40<00:00, 101.26it/s]\n",
      "100%|██████████| 1031/1031 [00:05<00:00, 203.82it/s]\n"
     ]
    },
    {
     "name": "stdout",
     "output_type": "stream",
     "text": [
      "[295/3000] Train Acc: 0.307123 Loss: 3.179095 | Val Acc: 0.678018 loss: 2.708815\n",
      "saving model with acc 0.678\n"
     ]
    },
    {
     "name": "stderr",
     "output_type": "stream",
     "text": [
      "100%|██████████| 4134/4134 [00:40<00:00, 101.38it/s]\n",
      "100%|██████████| 1031/1031 [00:05<00:00, 192.66it/s]\n"
     ]
    },
    {
     "name": "stdout",
     "output_type": "stream",
     "text": [
      "[296/3000] Train Acc: 0.307642 Loss: 3.178133 | Val Acc: 0.677626 loss: 2.709147\n",
      "[296/3000] Train Acc: 0.307642 Loss: 3.178133\n"
     ]
    },
    {
     "name": "stderr",
     "output_type": "stream",
     "text": [
      "100%|██████████| 4134/4134 [00:41<00:00, 100.79it/s]\n",
      "100%|██████████| 1031/1031 [00:05<00:00, 203.02it/s]\n"
     ]
    },
    {
     "name": "stdout",
     "output_type": "stream",
     "text": [
      "[297/3000] Train Acc: 0.307662 Loss: 3.177217 | Val Acc: 0.677722 loss: 2.698507\n",
      "[297/3000] Train Acc: 0.307662 Loss: 3.177217\n"
     ]
    },
    {
     "name": "stderr",
     "output_type": "stream",
     "text": [
      "100%|██████████| 4134/4134 [00:40<00:00, 101.28it/s]\n",
      "100%|██████████| 1031/1031 [00:05<00:00, 197.04it/s]\n"
     ]
    },
    {
     "name": "stdout",
     "output_type": "stream",
     "text": [
      "[298/3000] Train Acc: 0.307590 Loss: 3.177231 | Val Acc: 0.678122 loss: 2.716359\n",
      "saving model with acc 0.678\n"
     ]
    },
    {
     "name": "stderr",
     "output_type": "stream",
     "text": [
      "100%|██████████| 4134/4134 [00:40<00:00, 101.50it/s]\n",
      "100%|██████████| 1031/1031 [00:07<00:00, 139.90it/s]\n"
     ]
    },
    {
     "name": "stdout",
     "output_type": "stream",
     "text": [
      "[299/3000] Train Acc: 0.307048 Loss: 3.178323 | Val Acc: 0.677260 loss: 2.704321\n",
      "[299/3000] Train Acc: 0.307048 Loss: 3.178323\n"
     ]
    },
    {
     "name": "stderr",
     "output_type": "stream",
     "text": [
      "100%|██████████| 4134/4134 [01:04<00:00, 64.28it/s]\n",
      "100%|██████████| 1031/1031 [00:07<00:00, 131.90it/s]\n"
     ]
    },
    {
     "name": "stdout",
     "output_type": "stream",
     "text": [
      "[300/3000] Train Acc: 0.306963 Loss: 3.177734 | Val Acc: 0.677817 loss: 2.703393\n",
      "[300/3000] Train Acc: 0.306963 Loss: 3.177734\n"
     ]
    },
    {
     "name": "stderr",
     "output_type": "stream",
     "text": [
      "100%|██████████| 4134/4134 [00:51<00:00, 80.91it/s]\n",
      "100%|██████████| 1031/1031 [00:05<00:00, 186.45it/s]\n"
     ]
    },
    {
     "name": "stdout",
     "output_type": "stream",
     "text": [
      "[301/3000] Train Acc: 0.306798 Loss: 3.177605 | Val Acc: 0.677544 loss: 2.705444\n",
      "[301/3000] Train Acc: 0.306798 Loss: 3.177605\n"
     ]
    },
    {
     "name": "stderr",
     "output_type": "stream",
     "text": [
      "100%|██████████| 4134/4134 [00:40<00:00, 101.76it/s]\n",
      "100%|██████████| 1031/1031 [00:05<00:00, 190.93it/s]\n"
     ]
    },
    {
     "name": "stdout",
     "output_type": "stream",
     "text": [
      "[302/3000] Train Acc: 0.306794 Loss: 3.177309 | Val Acc: 0.677442 loss: 2.714245\n",
      "[302/3000] Train Acc: 0.306794 Loss: 3.177309\n"
     ]
    },
    {
     "name": "stderr",
     "output_type": "stream",
     "text": [
      "100%|██████████| 4134/4134 [00:40<00:00, 101.67it/s]\n",
      "100%|██████████| 1031/1031 [00:04<00:00, 207.29it/s]\n"
     ]
    },
    {
     "name": "stdout",
     "output_type": "stream",
     "text": [
      "[303/3000] Train Acc: 0.306857 Loss: 3.179133 | Val Acc: 0.677910 loss: 2.712094\n",
      "[303/3000] Train Acc: 0.306857 Loss: 3.179133\n"
     ]
    },
    {
     "name": "stderr",
     "output_type": "stream",
     "text": [
      "100%|██████████| 4134/4134 [00:41<00:00, 100.02it/s]\n",
      "100%|██████████| 1031/1031 [00:04<00:00, 206.45it/s]\n"
     ]
    },
    {
     "name": "stdout",
     "output_type": "stream",
     "text": [
      "[304/3000] Train Acc: 0.306911 Loss: 3.178425 | Val Acc: 0.677637 loss: 2.700359\n",
      "[304/3000] Train Acc: 0.306911 Loss: 3.178425\n"
     ]
    },
    {
     "name": "stderr",
     "output_type": "stream",
     "text": [
      "100%|██████████| 4134/4134 [00:40<00:00, 102.31it/s]\n",
      "100%|██████████| 1031/1031 [00:05<00:00, 200.29it/s]\n"
     ]
    },
    {
     "name": "stdout",
     "output_type": "stream",
     "text": [
      "[305/3000] Train Acc: 0.307300 Loss: 3.178005 | Val Acc: 0.677955 loss: 2.690945\n",
      "[305/3000] Train Acc: 0.307300 Loss: 3.178005\n"
     ]
    },
    {
     "name": "stderr",
     "output_type": "stream",
     "text": [
      "100%|██████████| 4134/4134 [00:40<00:00, 101.22it/s]\n",
      "100%|██████████| 1031/1031 [00:05<00:00, 183.21it/s]\n"
     ]
    },
    {
     "name": "stdout",
     "output_type": "stream",
     "text": [
      "[306/3000] Train Acc: 0.306827 Loss: 3.178440 | Val Acc: 0.678005 loss: 2.705152\n",
      "[306/3000] Train Acc: 0.306827 Loss: 3.178440\n"
     ]
    },
    {
     "name": "stderr",
     "output_type": "stream",
     "text": [
      "100%|██████████| 4134/4134 [00:40<00:00, 101.99it/s]\n",
      "100%|██████████| 1031/1031 [00:05<00:00, 201.30it/s]\n"
     ]
    },
    {
     "name": "stdout",
     "output_type": "stream",
     "text": [
      "[307/3000] Train Acc: 0.307518 Loss: 3.177587 | Val Acc: 0.677436 loss: 2.702918\n",
      "[307/3000] Train Acc: 0.307518 Loss: 3.177587\n"
     ]
    },
    {
     "name": "stderr",
     "output_type": "stream",
     "text": [
      "100%|██████████| 4134/4134 [00:41<00:00, 100.42it/s]\n",
      "100%|██████████| 1031/1031 [00:05<00:00, 200.16it/s]\n"
     ]
    },
    {
     "name": "stdout",
     "output_type": "stream",
     "text": [
      "[308/3000] Train Acc: 0.306401 Loss: 3.179275 | Val Acc: 0.677366 loss: 2.707379\n",
      "[308/3000] Train Acc: 0.306401 Loss: 3.179275\n"
     ]
    },
    {
     "name": "stderr",
     "output_type": "stream",
     "text": [
      "100%|██████████| 4134/4134 [00:41<00:00, 100.78it/s]\n",
      "100%|██████████| 1031/1031 [00:04<00:00, 207.49it/s]\n"
     ]
    },
    {
     "name": "stdout",
     "output_type": "stream",
     "text": [
      "[309/3000] Train Acc: 0.306994 Loss: 3.177894 | Val Acc: 0.677595 loss: 2.712150\n",
      "[309/3000] Train Acc: 0.306994 Loss: 3.177894\n"
     ]
    },
    {
     "name": "stderr",
     "output_type": "stream",
     "text": [
      "100%|██████████| 4134/4134 [00:41<00:00, 100.44it/s]\n",
      "100%|██████████| 1031/1031 [00:05<00:00, 204.25it/s]\n"
     ]
    },
    {
     "name": "stdout",
     "output_type": "stream",
     "text": [
      "[310/3000] Train Acc: 0.307285 Loss: 3.177838 | Val Acc: 0.677610 loss: 2.711099\n",
      "[310/3000] Train Acc: 0.307285 Loss: 3.177838\n"
     ]
    },
    {
     "name": "stderr",
     "output_type": "stream",
     "text": [
      "100%|██████████| 4134/4134 [00:43<00:00, 95.36it/s]\n",
      "100%|██████████| 1031/1031 [00:07<00:00, 129.81it/s]\n"
     ]
    },
    {
     "name": "stdout",
     "output_type": "stream",
     "text": [
      "[311/3000] Train Acc: 0.307043 Loss: 3.176766 | Val Acc: 0.677633 loss: 2.709575\n",
      "[311/3000] Train Acc: 0.307043 Loss: 3.176766\n"
     ]
    },
    {
     "name": "stderr",
     "output_type": "stream",
     "text": [
      "100%|██████████| 4134/4134 [01:04<00:00, 64.48it/s]\n",
      "100%|██████████| 1031/1031 [00:07<00:00, 130.85it/s]\n"
     ]
    },
    {
     "name": "stdout",
     "output_type": "stream",
     "text": [
      "[312/3000] Train Acc: 0.306903 Loss: 3.178898 | Val Acc: 0.677226 loss: 2.712990\n",
      "[312/3000] Train Acc: 0.306903 Loss: 3.178898\n"
     ]
    },
    {
     "name": "stderr",
     "output_type": "stream",
     "text": [
      "100%|██████████| 4134/4134 [00:50<00:00, 82.44it/s]\n",
      "100%|██████████| 1031/1031 [00:05<00:00, 184.86it/s]\n"
     ]
    },
    {
     "name": "stdout",
     "output_type": "stream",
     "text": [
      "[313/3000] Train Acc: 0.306965 Loss: 3.178374 | Val Acc: 0.677912 loss: 2.709021\n",
      "[313/3000] Train Acc: 0.306965 Loss: 3.178374\n"
     ]
    },
    {
     "name": "stderr",
     "output_type": "stream",
     "text": [
      "100%|██████████| 4134/4134 [00:40<00:00, 101.98it/s]\n",
      "100%|██████████| 1031/1031 [00:05<00:00, 201.57it/s]\n"
     ]
    },
    {
     "name": "stdout",
     "output_type": "stream",
     "text": [
      "[314/3000] Train Acc: 0.306919 Loss: 3.178687 | Val Acc: 0.677898 loss: 2.706808\n",
      "[314/3000] Train Acc: 0.306919 Loss: 3.178687\n"
     ]
    },
    {
     "name": "stderr",
     "output_type": "stream",
     "text": [
      "100%|██████████| 4134/4134 [00:40<00:00, 101.37it/s]\n",
      "100%|██████████| 1031/1031 [00:04<00:00, 209.95it/s]\n"
     ]
    },
    {
     "name": "stdout",
     "output_type": "stream",
     "text": [
      "[315/3000] Train Acc: 0.306715 Loss: 3.179101 | Val Acc: 0.677878 loss: 2.709469\n",
      "[315/3000] Train Acc: 0.306715 Loss: 3.179101\n"
     ]
    },
    {
     "name": "stderr",
     "output_type": "stream",
     "text": [
      "100%|██████████| 4134/4134 [00:41<00:00, 99.82it/s] \n",
      "100%|██████████| 1031/1031 [00:04<00:00, 208.23it/s]\n"
     ]
    },
    {
     "name": "stdout",
     "output_type": "stream",
     "text": [
      "[316/3000] Train Acc: 0.307226 Loss: 3.176424 | Val Acc: 0.677720 loss: 2.706782\n",
      "[316/3000] Train Acc: 0.307226 Loss: 3.176424\n"
     ]
    },
    {
     "name": "stderr",
     "output_type": "stream",
     "text": [
      "100%|██████████| 4134/4134 [00:40<00:00, 101.56it/s]\n",
      "100%|██████████| 1031/1031 [00:05<00:00, 203.56it/s]\n"
     ]
    },
    {
     "name": "stdout",
     "output_type": "stream",
     "text": [
      "[317/3000] Train Acc: 0.307497 Loss: 3.176685 | Val Acc: 0.677154 loss: 2.708655\n",
      "[317/3000] Train Acc: 0.307497 Loss: 3.176685\n"
     ]
    },
    {
     "name": "stderr",
     "output_type": "stream",
     "text": [
      "100%|██████████| 4134/4134 [00:40<00:00, 101.83it/s]\n",
      "100%|██████████| 1031/1031 [00:05<00:00, 182.00it/s]\n"
     ]
    },
    {
     "name": "stdout",
     "output_type": "stream",
     "text": [
      "[318/3000] Train Acc: 0.307363 Loss: 3.176907 | Val Acc: 0.677933 loss: 2.707789\n",
      "[318/3000] Train Acc: 0.307363 Loss: 3.176907\n"
     ]
    },
    {
     "name": "stderr",
     "output_type": "stream",
     "text": [
      "100%|██████████| 4134/4134 [00:40<00:00, 102.15it/s]\n",
      "100%|██████████| 1031/1031 [00:05<00:00, 196.77it/s]\n"
     ]
    },
    {
     "name": "stdout",
     "output_type": "stream",
     "text": [
      "[319/3000] Train Acc: 0.306873 Loss: 3.177949 | Val Acc: 0.678131 loss: 2.704640\n",
      "saving model with acc 0.678\n"
     ]
    },
    {
     "name": "stderr",
     "output_type": "stream",
     "text": [
      "100%|██████████| 4134/4134 [00:40<00:00, 100.90it/s]\n",
      "100%|██████████| 1031/1031 [00:05<00:00, 205.16it/s]\n"
     ]
    },
    {
     "name": "stdout",
     "output_type": "stream",
     "text": [
      "[320/3000] Train Acc: 0.306990 Loss: 3.177472 | Val Acc: 0.677951 loss: 2.701363\n",
      "[320/3000] Train Acc: 0.306990 Loss: 3.177472\n"
     ]
    },
    {
     "name": "stderr",
     "output_type": "stream",
     "text": [
      "100%|██████████| 4134/4134 [00:41<00:00, 100.19it/s]\n",
      "100%|██████████| 1031/1031 [00:04<00:00, 211.65it/s]\n"
     ]
    },
    {
     "name": "stdout",
     "output_type": "stream",
     "text": [
      "[321/3000] Train Acc: 0.306817 Loss: 3.178028 | Val Acc: 0.677116 loss: 2.700005\n",
      "[321/3000] Train Acc: 0.306817 Loss: 3.178028\n"
     ]
    },
    {
     "name": "stderr",
     "output_type": "stream",
     "text": [
      "100%|██████████| 4134/4134 [00:41<00:00, 100.36it/s]\n",
      "100%|██████████| 1031/1031 [00:04<00:00, 207.52it/s]\n"
     ]
    },
    {
     "name": "stdout",
     "output_type": "stream",
     "text": [
      "[322/3000] Train Acc: 0.307341 Loss: 3.177792 | Val Acc: 0.677290 loss: 2.714876\n",
      "[322/3000] Train Acc: 0.307341 Loss: 3.177792\n"
     ]
    },
    {
     "name": "stderr",
     "output_type": "stream",
     "text": [
      "100%|██████████| 4134/4134 [00:43<00:00, 94.40it/s]\n",
      "100%|██████████| 1031/1031 [00:07<00:00, 131.29it/s]\n"
     ]
    },
    {
     "name": "stdout",
     "output_type": "stream",
     "text": [
      "[323/3000] Train Acc: 0.306943 Loss: 3.177382 | Val Acc: 0.677762 loss: 2.707664\n",
      "[323/3000] Train Acc: 0.306943 Loss: 3.177382\n"
     ]
    },
    {
     "name": "stderr",
     "output_type": "stream",
     "text": [
      "100%|██████████| 4134/4134 [01:04<00:00, 64.30it/s]\n",
      "100%|██████████| 1031/1031 [00:07<00:00, 133.19it/s]\n"
     ]
    },
    {
     "name": "stdout",
     "output_type": "stream",
     "text": [
      "[324/3000] Train Acc: 0.307289 Loss: 3.176814 | Val Acc: 0.677663 loss: 2.700233\n",
      "[324/3000] Train Acc: 0.307289 Loss: 3.176814\n"
     ]
    },
    {
     "name": "stderr",
     "output_type": "stream",
     "text": [
      "100%|██████████| 4134/4134 [00:51<00:00, 80.08it/s]\n",
      "100%|██████████| 1031/1031 [00:05<00:00, 191.71it/s]\n"
     ]
    },
    {
     "name": "stdout",
     "output_type": "stream",
     "text": [
      "[325/3000] Train Acc: 0.307636 Loss: 3.175453 | Val Acc: 0.677921 loss: 2.701311\n",
      "[325/3000] Train Acc: 0.307636 Loss: 3.175453\n"
     ]
    },
    {
     "name": "stderr",
     "output_type": "stream",
     "text": [
      "100%|██████████| 4134/4134 [00:40<00:00, 101.57it/s]\n",
      "100%|██████████| 1031/1031 [00:05<00:00, 201.67it/s]\n"
     ]
    },
    {
     "name": "stdout",
     "output_type": "stream",
     "text": [
      "[326/3000] Train Acc: 0.307107 Loss: 3.177216 | Val Acc: 0.677904 loss: 2.699952\n",
      "[326/3000] Train Acc: 0.307107 Loss: 3.177216\n"
     ]
    },
    {
     "name": "stderr",
     "output_type": "stream",
     "text": [
      "100%|██████████| 4134/4134 [00:40<00:00, 101.40it/s]\n",
      "100%|██████████| 1031/1031 [00:04<00:00, 209.78it/s]\n"
     ]
    },
    {
     "name": "stdout",
     "output_type": "stream",
     "text": [
      "[327/3000] Train Acc: 0.307870 Loss: 3.177252 | Val Acc: 0.678143 loss: 2.693708\n",
      "saving model with acc 0.678\n"
     ]
    },
    {
     "name": "stderr",
     "output_type": "stream",
     "text": [
      "100%|██████████| 4134/4134 [00:41<00:00, 100.53it/s]\n",
      "100%|██████████| 1031/1031 [00:04<00:00, 211.93it/s]\n"
     ]
    },
    {
     "name": "stdout",
     "output_type": "stream",
     "text": [
      "[328/3000] Train Acc: 0.307681 Loss: 3.177311 | Val Acc: 0.678471 loss: 2.704656\n",
      "saving model with acc 0.678\n"
     ]
    },
    {
     "name": "stderr",
     "output_type": "stream",
     "text": [
      "100%|██████████| 4134/4134 [00:40<00:00, 101.15it/s]\n",
      "100%|██████████| 1031/1031 [00:04<00:00, 207.91it/s]\n"
     ]
    },
    {
     "name": "stdout",
     "output_type": "stream",
     "text": [
      "[329/3000] Train Acc: 0.306984 Loss: 3.178642 | Val Acc: 0.678209 loss: 2.696533\n",
      "[329/3000] Train Acc: 0.306984 Loss: 3.178642\n"
     ]
    },
    {
     "name": "stderr",
     "output_type": "stream",
     "text": [
      "100%|██████████| 4134/4134 [00:40<00:00, 101.01it/s]\n",
      "100%|██████████| 1031/1031 [00:05<00:00, 187.07it/s]\n"
     ]
    },
    {
     "name": "stdout",
     "output_type": "stream",
     "text": [
      "[330/3000] Train Acc: 0.306550 Loss: 3.178678 | Val Acc: 0.677705 loss: 2.702662\n",
      "[330/3000] Train Acc: 0.306550 Loss: 3.178678\n"
     ]
    },
    {
     "name": "stderr",
     "output_type": "stream",
     "text": [
      "100%|██████████| 4134/4134 [00:40<00:00, 102.61it/s]\n",
      "100%|██████████| 1031/1031 [00:05<00:00, 200.46it/s]\n"
     ]
    },
    {
     "name": "stdout",
     "output_type": "stream",
     "text": [
      "[331/3000] Train Acc: 0.307303 Loss: 3.177241 | Val Acc: 0.678431 loss: 2.706174\n",
      "[331/3000] Train Acc: 0.307303 Loss: 3.177241\n"
     ]
    },
    {
     "name": "stderr",
     "output_type": "stream",
     "text": [
      "100%|██████████| 4134/4134 [00:40<00:00, 101.87it/s]\n",
      "100%|██████████| 1031/1031 [00:04<00:00, 207.18it/s]\n"
     ]
    },
    {
     "name": "stdout",
     "output_type": "stream",
     "text": [
      "[332/3000] Train Acc: 0.307427 Loss: 3.175806 | Val Acc: 0.678262 loss: 2.715223\n",
      "[332/3000] Train Acc: 0.307427 Loss: 3.175806\n"
     ]
    },
    {
     "name": "stderr",
     "output_type": "stream",
     "text": [
      "100%|██████████| 4134/4134 [00:41<00:00, 100.37it/s]\n",
      "100%|██████████| 1031/1031 [00:04<00:00, 209.09it/s]\n"
     ]
    },
    {
     "name": "stdout",
     "output_type": "stream",
     "text": [
      "[333/3000] Train Acc: 0.307458 Loss: 3.176288 | Val Acc: 0.678078 loss: 2.707632\n",
      "[333/3000] Train Acc: 0.307458 Loss: 3.176288\n"
     ]
    },
    {
     "name": "stderr",
     "output_type": "stream",
     "text": [
      "100%|██████████| 4134/4134 [00:40<00:00, 101.84it/s]\n",
      "100%|██████████| 1031/1031 [00:04<00:00, 206.29it/s]\n"
     ]
    },
    {
     "name": "stdout",
     "output_type": "stream",
     "text": [
      "[334/3000] Train Acc: 0.306545 Loss: 3.178329 | Val Acc: 0.678001 loss: 2.716180\n",
      "[334/3000] Train Acc: 0.306545 Loss: 3.178329\n"
     ]
    },
    {
     "name": "stderr",
     "output_type": "stream",
     "text": [
      "100%|██████████| 4134/4134 [00:43<00:00, 96.04it/s]\n",
      "100%|██████████| 1031/1031 [00:08<00:00, 122.44it/s]\n"
     ]
    },
    {
     "name": "stdout",
     "output_type": "stream",
     "text": [
      "[335/3000] Train Acc: 0.307141 Loss: 3.177790 | Val Acc: 0.678313 loss: 2.693388\n",
      "[335/3000] Train Acc: 0.307141 Loss: 3.177790\n"
     ]
    },
    {
     "name": "stderr",
     "output_type": "stream",
     "text": [
      "100%|██████████| 4134/4134 [01:04<00:00, 63.95it/s]\n",
      "100%|██████████| 1031/1031 [00:07<00:00, 133.21it/s]\n"
     ]
    },
    {
     "name": "stdout",
     "output_type": "stream",
     "text": [
      "[336/3000] Train Acc: 0.306810 Loss: 3.177949 | Val Acc: 0.678008 loss: 2.708662\n",
      "[336/3000] Train Acc: 0.306810 Loss: 3.177949\n"
     ]
    },
    {
     "name": "stderr",
     "output_type": "stream",
     "text": [
      "100%|██████████| 4134/4134 [00:53<00:00, 76.83it/s] \n",
      "100%|██████████| 1031/1031 [00:05<00:00, 202.12it/s]\n"
     ]
    },
    {
     "name": "stdout",
     "output_type": "stream",
     "text": [
      "[337/3000] Train Acc: 0.307123 Loss: 3.176681 | Val Acc: 0.678501 loss: 2.717690\n",
      "saving model with acc 0.679\n"
     ]
    },
    {
     "name": "stderr",
     "output_type": "stream",
     "text": [
      "100%|██████████| 4134/4134 [00:40<00:00, 101.26it/s]\n",
      "100%|██████████| 1031/1031 [00:04<00:00, 214.19it/s]\n"
     ]
    },
    {
     "name": "stdout",
     "output_type": "stream",
     "text": [
      "[338/3000] Train Acc: 0.307380 Loss: 3.176245 | Val Acc: 0.679183 loss: 2.705744\n",
      "saving model with acc 0.679\n"
     ]
    },
    {
     "name": "stderr",
     "output_type": "stream",
     "text": [
      "100%|██████████| 4134/4134 [00:40<00:00, 101.27it/s]\n",
      "100%|██████████| 1031/1031 [00:05<00:00, 196.93it/s]\n"
     ]
    },
    {
     "name": "stdout",
     "output_type": "stream",
     "text": [
      "[339/3000] Train Acc: 0.306515 Loss: 3.177973 | Val Acc: 0.678264 loss: 2.697496\n",
      "[339/3000] Train Acc: 0.306515 Loss: 3.177973\n"
     ]
    },
    {
     "name": "stderr",
     "output_type": "stream",
     "text": [
      "100%|██████████| 4134/4134 [00:41<00:00, 100.58it/s]\n",
      "100%|██████████| 1031/1031 [00:05<00:00, 205.19it/s]\n"
     ]
    },
    {
     "name": "stdout",
     "output_type": "stream",
     "text": [
      "[340/3000] Train Acc: 0.306280 Loss: 3.177825 | Val Acc: 0.678226 loss: 2.698393\n",
      "[340/3000] Train Acc: 0.306280 Loss: 3.177825\n"
     ]
    },
    {
     "name": "stderr",
     "output_type": "stream",
     "text": [
      "100%|██████████| 4134/4134 [00:40<00:00, 101.83it/s]\n",
      "100%|██████████| 1031/1031 [00:05<00:00, 194.38it/s]\n"
     ]
    },
    {
     "name": "stdout",
     "output_type": "stream",
     "text": [
      "[341/3000] Train Acc: 0.306719 Loss: 3.179264 | Val Acc: 0.678789 loss: 2.700281\n",
      "[341/3000] Train Acc: 0.306719 Loss: 3.179264\n"
     ]
    },
    {
     "name": "stderr",
     "output_type": "stream",
     "text": [
      "100%|██████████| 4134/4134 [00:41<00:00, 100.53it/s]\n",
      "100%|██████████| 1031/1031 [00:05<00:00, 198.40it/s]\n"
     ]
    },
    {
     "name": "stdout",
     "output_type": "stream",
     "text": [
      "[342/3000] Train Acc: 0.307193 Loss: 3.176605 | Val Acc: 0.678266 loss: 2.698813\n",
      "[342/3000] Train Acc: 0.307193 Loss: 3.176605\n"
     ]
    },
    {
     "name": "stderr",
     "output_type": "stream",
     "text": [
      "100%|██████████| 4134/4134 [00:40<00:00, 101.60it/s]\n",
      "100%|██████████| 1031/1031 [00:04<00:00, 209.19it/s]\n"
     ]
    },
    {
     "name": "stdout",
     "output_type": "stream",
     "text": [
      "[343/3000] Train Acc: 0.307162 Loss: 3.176538 | Val Acc: 0.677379 loss: 2.708083\n",
      "[343/3000] Train Acc: 0.307162 Loss: 3.176538\n"
     ]
    },
    {
     "name": "stderr",
     "output_type": "stream",
     "text": [
      "100%|██████████| 4134/4134 [00:40<00:00, 100.95it/s]\n",
      "100%|██████████| 1031/1031 [00:04<00:00, 211.45it/s]\n"
     ]
    },
    {
     "name": "stdout",
     "output_type": "stream",
     "text": [
      "[344/3000] Train Acc: 0.307262 Loss: 3.175847 | Val Acc: 0.678149 loss: 2.700275\n",
      "[344/3000] Train Acc: 0.307262 Loss: 3.175847\n"
     ]
    },
    {
     "name": "stderr",
     "output_type": "stream",
     "text": [
      "100%|██████████| 4134/4134 [00:41<00:00, 100.06it/s]\n",
      "100%|██████████| 1031/1031 [00:04<00:00, 212.93it/s]\n"
     ]
    },
    {
     "name": "stdout",
     "output_type": "stream",
     "text": [
      "[345/3000] Train Acc: 0.307469 Loss: 3.177426 | Val Acc: 0.678749 loss: 2.701724\n",
      "[345/3000] Train Acc: 0.307469 Loss: 3.177426\n"
     ]
    },
    {
     "name": "stderr",
     "output_type": "stream",
     "text": [
      "100%|██████████| 4134/4134 [00:40<00:00, 101.36it/s]\n",
      "100%|██████████| 1031/1031 [00:05<00:00, 197.23it/s]\n"
     ]
    },
    {
     "name": "stdout",
     "output_type": "stream",
     "text": [
      "[346/3000] Train Acc: 0.307080 Loss: 3.176745 | Val Acc: 0.678895 loss: 2.702456\n",
      "[346/3000] Train Acc: 0.307080 Loss: 3.176745\n"
     ]
    },
    {
     "name": "stderr",
     "output_type": "stream",
     "text": [
      "100%|██████████| 4134/4134 [00:40<00:00, 101.71it/s]\n",
      "100%|██████████| 1031/1031 [00:05<00:00, 184.34it/s]\n"
     ]
    },
    {
     "name": "stdout",
     "output_type": "stream",
     "text": [
      "[347/3000] Train Acc: 0.306701 Loss: 3.178386 | Val Acc: 0.678385 loss: 2.716623\n",
      "[347/3000] Train Acc: 0.306701 Loss: 3.178386\n"
     ]
    },
    {
     "name": "stderr",
     "output_type": "stream",
     "text": [
      "100%|██████████| 4134/4134 [00:40<00:00, 102.08it/s]\n",
      "100%|██████████| 1031/1031 [00:05<00:00, 193.93it/s]\n"
     ]
    },
    {
     "name": "stdout",
     "output_type": "stream",
     "text": [
      "[348/3000] Train Acc: 0.306846 Loss: 3.178007 | Val Acc: 0.678666 loss: 2.699530\n",
      "[348/3000] Train Acc: 0.306846 Loss: 3.178007\n"
     ]
    },
    {
     "name": "stderr",
     "output_type": "stream",
     "text": [
      "100%|██████████| 4134/4134 [00:40<00:00, 101.73it/s]\n",
      "100%|██████████| 1031/1031 [00:05<00:00, 203.85it/s]\n"
     ]
    },
    {
     "name": "stdout",
     "output_type": "stream",
     "text": [
      "[349/3000] Train Acc: 0.307335 Loss: 3.177531 | Val Acc: 0.678785 loss: 2.705802\n",
      "[349/3000] Train Acc: 0.307335 Loss: 3.177531\n"
     ]
    },
    {
     "name": "stderr",
     "output_type": "stream",
     "text": [
      "100%|██████████| 4134/4134 [00:41<00:00, 99.98it/s]\n",
      "100%|██████████| 1031/1031 [00:04<00:00, 214.26it/s]\n"
     ]
    },
    {
     "name": "stdout",
     "output_type": "stream",
     "text": [
      "[350/3000] Train Acc: 0.307086 Loss: 3.176515 | Val Acc: 0.678851 loss: 2.700425\n",
      "[350/3000] Train Acc: 0.307086 Loss: 3.176515\n"
     ]
    },
    {
     "name": "stderr",
     "output_type": "stream",
     "text": [
      "100%|██████████| 4134/4134 [00:40<00:00, 101.18it/s]\n",
      "100%|██████████| 1031/1031 [00:04<00:00, 207.65it/s]\n"
     ]
    },
    {
     "name": "stdout",
     "output_type": "stream",
     "text": [
      "[351/3000] Train Acc: 0.306910 Loss: 3.178010 | Val Acc: 0.678815 loss: 2.712986\n",
      "[351/3000] Train Acc: 0.306910 Loss: 3.178010\n"
     ]
    },
    {
     "name": "stderr",
     "output_type": "stream",
     "text": [
      "100%|██████████| 4134/4134 [00:40<00:00, 101.51it/s]\n",
      "100%|██████████| 1031/1031 [00:05<00:00, 183.94it/s]\n"
     ]
    },
    {
     "name": "stdout",
     "output_type": "stream",
     "text": [
      "[352/3000] Train Acc: 0.307237 Loss: 3.177398 | Val Acc: 0.678014 loss: 2.697933\n",
      "[352/3000] Train Acc: 0.307237 Loss: 3.177398\n"
     ]
    },
    {
     "name": "stderr",
     "output_type": "stream",
     "text": [
      "100%|██████████| 4134/4134 [00:40<00:00, 102.13it/s]\n",
      "100%|██████████| 1031/1031 [00:05<00:00, 203.39it/s]\n"
     ]
    },
    {
     "name": "stdout",
     "output_type": "stream",
     "text": [
      "[353/3000] Train Acc: 0.307397 Loss: 3.176806 | Val Acc: 0.678922 loss: 2.705585\n",
      "[353/3000] Train Acc: 0.307397 Loss: 3.176806\n"
     ]
    },
    {
     "name": "stderr",
     "output_type": "stream",
     "text": [
      "100%|██████████| 4134/4134 [00:41<00:00, 100.55it/s]\n",
      "100%|██████████| 1031/1031 [00:05<00:00, 200.67it/s]\n"
     ]
    },
    {
     "name": "stdout",
     "output_type": "stream",
     "text": [
      "[354/3000] Train Acc: 0.307576 Loss: 3.175858 | Val Acc: 0.678397 loss: 2.693262\n",
      "[354/3000] Train Acc: 0.307576 Loss: 3.175858\n"
     ]
    },
    {
     "name": "stderr",
     "output_type": "stream",
     "text": [
      "100%|██████████| 4134/4134 [00:40<00:00, 100.85it/s]\n",
      "100%|██████████| 1031/1031 [00:04<00:00, 209.97it/s]\n"
     ]
    },
    {
     "name": "stdout",
     "output_type": "stream",
     "text": [
      "[355/3000] Train Acc: 0.307962 Loss: 3.176345 | Val Acc: 0.678851 loss: 2.701054\n",
      "[355/3000] Train Acc: 0.307962 Loss: 3.176345\n"
     ]
    },
    {
     "name": "stderr",
     "output_type": "stream",
     "text": [
      "100%|██████████| 4134/4134 [00:40<00:00, 101.07it/s]\n",
      "100%|██████████| 1031/1031 [00:05<00:00, 202.88it/s]\n"
     ]
    },
    {
     "name": "stdout",
     "output_type": "stream",
     "text": [
      "[356/3000] Train Acc: 0.307330 Loss: 3.177548 | Val Acc: 0.678393 loss: 2.698815\n",
      "[356/3000] Train Acc: 0.307330 Loss: 3.177548\n"
     ]
    },
    {
     "name": "stderr",
     "output_type": "stream",
     "text": [
      "100%|██████████| 4134/4134 [00:40<00:00, 100.89it/s]\n",
      "100%|██████████| 1031/1031 [00:05<00:00, 187.71it/s]\n"
     ]
    },
    {
     "name": "stdout",
     "output_type": "stream",
     "text": [
      "[357/3000] Train Acc: 0.306855 Loss: 3.176649 | Val Acc: 0.679077 loss: 2.714901\n",
      "[357/3000] Train Acc: 0.306855 Loss: 3.176649\n"
     ]
    },
    {
     "name": "stderr",
     "output_type": "stream",
     "text": [
      "100%|██████████| 4134/4134 [00:54<00:00, 75.28it/s]\n",
      "100%|██████████| 1031/1031 [00:08<00:00, 125.24it/s]\n"
     ]
    },
    {
     "name": "stdout",
     "output_type": "stream",
     "text": [
      "[358/3000] Train Acc: 0.307169 Loss: 3.177226 | Val Acc: 0.678997 loss: 2.698073\n",
      "[358/3000] Train Acc: 0.307169 Loss: 3.177226\n"
     ]
    },
    {
     "name": "stderr",
     "output_type": "stream",
     "text": [
      "100%|██████████| 4134/4134 [01:05<00:00, 63.18it/s]\n",
      "100%|██████████| 1031/1031 [00:07<00:00, 134.13it/s]\n"
     ]
    },
    {
     "name": "stdout",
     "output_type": "stream",
     "text": [
      "[359/3000] Train Acc: 0.306866 Loss: 3.177433 | Val Acc: 0.679496 loss: 2.694891\n",
      "saving model with acc 0.679\n"
     ]
    },
    {
     "name": "stderr",
     "output_type": "stream",
     "text": [
      "100%|██████████| 4134/4134 [00:44<00:00, 92.19it/s] \n",
      "100%|██████████| 1031/1031 [00:05<00:00, 197.19it/s]\n"
     ]
    },
    {
     "name": "stdout",
     "output_type": "stream",
     "text": [
      "[360/3000] Train Acc: 0.307357 Loss: 3.177558 | Val Acc: 0.678958 loss: 2.714864\n",
      "[360/3000] Train Acc: 0.307357 Loss: 3.177558\n"
     ]
    },
    {
     "name": "stderr",
     "output_type": "stream",
     "text": [
      "100%|██████████| 4134/4134 [00:41<00:00, 100.83it/s]\n",
      "100%|██████████| 1031/1031 [00:05<00:00, 199.58it/s]\n"
     ]
    },
    {
     "name": "stdout",
     "output_type": "stream",
     "text": [
      "[361/3000] Train Acc: 0.307009 Loss: 3.177642 | Val Acc: 0.678743 loss: 2.696079\n",
      "[361/3000] Train Acc: 0.307009 Loss: 3.177642\n"
     ]
    },
    {
     "name": "stderr",
     "output_type": "stream",
     "text": [
      "100%|██████████| 4134/4134 [00:40<00:00, 101.96it/s]\n",
      "100%|██████████| 1031/1031 [00:05<00:00, 198.47it/s]\n"
     ]
    },
    {
     "name": "stdout",
     "output_type": "stream",
     "text": [
      "[362/3000] Train Acc: 0.307390 Loss: 3.177848 | Val Acc: 0.678838 loss: 2.701382\n",
      "[362/3000] Train Acc: 0.307390 Loss: 3.177848\n"
     ]
    },
    {
     "name": "stderr",
     "output_type": "stream",
     "text": [
      "100%|██████████| 4134/4134 [00:40<00:00, 101.91it/s]\n",
      "100%|██████████| 1031/1031 [00:05<00:00, 188.36it/s]\n"
     ]
    },
    {
     "name": "stdout",
     "output_type": "stream",
     "text": [
      "[363/3000] Train Acc: 0.307634 Loss: 3.175908 | Val Acc: 0.678876 loss: 2.709284\n",
      "[363/3000] Train Acc: 0.307634 Loss: 3.175908\n"
     ]
    },
    {
     "name": "stderr",
     "output_type": "stream",
     "text": [
      "100%|██████████| 4134/4134 [00:41<00:00, 100.65it/s]\n",
      "100%|██████████| 1031/1031 [00:05<00:00, 204.69it/s]\n"
     ]
    },
    {
     "name": "stdout",
     "output_type": "stream",
     "text": [
      "[364/3000] Train Acc: 0.307096 Loss: 3.177635 | Val Acc: 0.679043 loss: 2.708772\n",
      "[364/3000] Train Acc: 0.307096 Loss: 3.177635\n"
     ]
    },
    {
     "name": "stderr",
     "output_type": "stream",
     "text": [
      "100%|██████████| 4134/4134 [00:40<00:00, 101.11it/s]\n",
      "100%|██████████| 1031/1031 [00:05<00:00, 206.09it/s]\n"
     ]
    },
    {
     "name": "stdout",
     "output_type": "stream",
     "text": [
      "[365/3000] Train Acc: 0.307356 Loss: 3.177671 | Val Acc: 0.678347 loss: 2.699856\n",
      "[365/3000] Train Acc: 0.307356 Loss: 3.177671\n"
     ]
    },
    {
     "name": "stderr",
     "output_type": "stream",
     "text": [
      "100%|██████████| 4134/4134 [00:41<00:00, 99.04it/s]\n",
      "100%|██████████| 1031/1031 [00:05<00:00, 195.50it/s]\n"
     ]
    },
    {
     "name": "stdout",
     "output_type": "stream",
     "text": [
      "[366/3000] Train Acc: 0.307278 Loss: 3.176471 | Val Acc: 0.678798 loss: 2.700688\n",
      "[366/3000] Train Acc: 0.307278 Loss: 3.176471\n"
     ]
    },
    {
     "name": "stderr",
     "output_type": "stream",
     "text": [
      "100%|██████████| 4134/4134 [00:40<00:00, 101.53it/s]\n",
      "100%|██████████| 1031/1031 [00:05<00:00, 200.64it/s]\n"
     ]
    },
    {
     "name": "stdout",
     "output_type": "stream",
     "text": [
      "[367/3000] Train Acc: 0.307110 Loss: 3.177328 | Val Acc: 0.679249 loss: 2.697534\n",
      "[367/3000] Train Acc: 0.307110 Loss: 3.177328\n"
     ]
    },
    {
     "name": "stderr",
     "output_type": "stream",
     "text": [
      "100%|██████████| 4134/4134 [00:40<00:00, 101.05it/s]\n",
      "100%|██████████| 1031/1031 [00:05<00:00, 188.96it/s]\n"
     ]
    },
    {
     "name": "stdout",
     "output_type": "stream",
     "text": [
      "[368/3000] Train Acc: 0.307213 Loss: 3.176513 | Val Acc: 0.678958 loss: 2.707922\n",
      "[368/3000] Train Acc: 0.307213 Loss: 3.176513\n"
     ]
    },
    {
     "name": "stderr",
     "output_type": "stream",
     "text": [
      "100%|██████████| 4134/4134 [00:41<00:00, 100.69it/s]\n",
      "100%|██████████| 1031/1031 [00:05<00:00, 204.31it/s]\n"
     ]
    },
    {
     "name": "stdout",
     "output_type": "stream",
     "text": [
      "[369/3000] Train Acc: 0.307474 Loss: 3.175681 | Val Acc: 0.679028 loss: 2.691597\n",
      "[369/3000] Train Acc: 0.307474 Loss: 3.175681\n"
     ]
    },
    {
     "name": "stderr",
     "output_type": "stream",
     "text": [
      "100%|██████████| 4134/4134 [00:40<00:00, 101.35it/s]\n",
      "100%|██████████| 1031/1031 [00:05<00:00, 205.83it/s]\n"
     ]
    },
    {
     "name": "stdout",
     "output_type": "stream",
     "text": [
      "[370/3000] Train Acc: 0.307603 Loss: 3.178009 | Val Acc: 0.678634 loss: 2.715425\n",
      "[370/3000] Train Acc: 0.307603 Loss: 3.178009\n"
     ]
    },
    {
     "name": "stderr",
     "output_type": "stream",
     "text": [
      "100%|██████████| 4134/4134 [00:41<00:00, 100.12it/s]\n",
      "100%|██████████| 1031/1031 [00:05<00:00, 190.58it/s]\n"
     ]
    },
    {
     "name": "stdout",
     "output_type": "stream",
     "text": [
      "[371/3000] Train Acc: 0.307516 Loss: 3.175717 | Val Acc: 0.679100 loss: 2.692389\n",
      "[371/3000] Train Acc: 0.307516 Loss: 3.175717\n"
     ]
    },
    {
     "name": "stderr",
     "output_type": "stream",
     "text": [
      "100%|██████████| 4134/4134 [00:40<00:00, 101.79it/s]\n",
      "100%|██████████| 1031/1031 [00:05<00:00, 193.89it/s]\n"
     ]
    },
    {
     "name": "stdout",
     "output_type": "stream",
     "text": [
      "[372/3000] Train Acc: 0.307456 Loss: 3.176400 | Val Acc: 0.678800 loss: 2.708686\n",
      "[372/3000] Train Acc: 0.307456 Loss: 3.176400\n"
     ]
    },
    {
     "name": "stderr",
     "output_type": "stream",
     "text": [
      "100%|██████████| 4134/4134 [00:41<00:00, 100.22it/s]\n",
      "100%|██████████| 1031/1031 [00:05<00:00, 189.22it/s]\n"
     ]
    },
    {
     "name": "stdout",
     "output_type": "stream",
     "text": [
      "[373/3000] Train Acc: 0.307829 Loss: 3.175115 | Val Acc: 0.679138 loss: 2.711804\n",
      "[373/3000] Train Acc: 0.307829 Loss: 3.175115\n"
     ]
    },
    {
     "name": "stderr",
     "output_type": "stream",
     "text": [
      "100%|██████████| 4134/4134 [00:41<00:00, 100.71it/s]\n",
      "100%|██████████| 1031/1031 [00:04<00:00, 210.66it/s]\n"
     ]
    },
    {
     "name": "stdout",
     "output_type": "stream",
     "text": [
      "[374/3000] Train Acc: 0.306899 Loss: 3.177061 | Val Acc: 0.678520 loss: 2.706524\n",
      "[374/3000] Train Acc: 0.306899 Loss: 3.177061\n"
     ]
    },
    {
     "name": "stderr",
     "output_type": "stream",
     "text": [
      "100%|██████████| 4134/4134 [00:41<00:00, 100.76it/s]\n",
      "100%|██████████| 1031/1031 [00:05<00:00, 199.14it/s]\n"
     ]
    },
    {
     "name": "stdout",
     "output_type": "stream",
     "text": [
      "[375/3000] Train Acc: 0.306979 Loss: 3.178118 | Val Acc: 0.678980 loss: 2.704015\n",
      "[375/3000] Train Acc: 0.306979 Loss: 3.178118\n"
     ]
    },
    {
     "name": "stderr",
     "output_type": "stream",
     "text": [
      "100%|██████████| 4134/4134 [00:41<00:00, 99.76it/s] \n",
      "100%|██████████| 1031/1031 [00:05<00:00, 198.93it/s]\n"
     ]
    },
    {
     "name": "stdout",
     "output_type": "stream",
     "text": [
      "[376/3000] Train Acc: 0.308179 Loss: 3.174478 | Val Acc: 0.678376 loss: 2.694813\n",
      "[376/3000] Train Acc: 0.308179 Loss: 3.174478\n"
     ]
    },
    {
     "name": "stderr",
     "output_type": "stream",
     "text": [
      "100%|██████████| 4134/4134 [00:40<00:00, 101.42it/s]\n",
      "100%|██████████| 1031/1031 [00:05<00:00, 195.81it/s]\n"
     ]
    },
    {
     "name": "stdout",
     "output_type": "stream",
     "text": [
      "[377/3000] Train Acc: 0.307882 Loss: 3.175668 | Val Acc: 0.679308 loss: 2.711756\n",
      "[377/3000] Train Acc: 0.307882 Loss: 3.175668\n"
     ]
    },
    {
     "name": "stderr",
     "output_type": "stream",
     "text": [
      "100%|██████████| 4134/4134 [00:40<00:00, 101.10it/s]\n",
      "100%|██████████| 1031/1031 [00:05<00:00, 184.85it/s]\n"
     ]
    },
    {
     "name": "stdout",
     "output_type": "stream",
     "text": [
      "[378/3000] Train Acc: 0.307726 Loss: 3.175590 | Val Acc: 0.678897 loss: 2.708269\n",
      "[378/3000] Train Acc: 0.307726 Loss: 3.175590\n"
     ]
    },
    {
     "name": "stderr",
     "output_type": "stream",
     "text": [
      "100%|██████████| 4134/4134 [00:40<00:00, 101.05it/s]\n",
      "100%|██████████| 1031/1031 [00:05<00:00, 205.30it/s]\n"
     ]
    },
    {
     "name": "stdout",
     "output_type": "stream",
     "text": [
      "[379/3000] Train Acc: 0.307470 Loss: 3.177142 | Val Acc: 0.679107 loss: 2.694792\n",
      "[379/3000] Train Acc: 0.307470 Loss: 3.177142\n"
     ]
    },
    {
     "name": "stderr",
     "output_type": "stream",
     "text": [
      "100%|██████████| 4134/4134 [00:40<00:00, 101.13it/s]\n",
      "100%|██████████| 1031/1031 [00:07<00:00, 135.94it/s]"
     ]
    },
    {
     "name": "stdout",
     "output_type": "stream",
     "text": [
      "[380/3000] Train Acc: 0.306834 Loss: 3.177816 | Val Acc: 0.678842 loss: 2.705038\n",
      "[380/3000] Train Acc: 0.306834 Loss: 3.177816\n",
      "Early stopping with best_acc:  358631.0 and val_acc for this epoch:  358286.0 ...\n"
     ]
    },
    {
     "name": "stderr",
     "output_type": "stream",
     "text": [
      "\n"
     ]
    }
   ],
   "source": [
    "best_acc = 0.0\n",
    "for epoch in range(num_epoch):\n",
    "    train_acc = 0.0\n",
    "    train_loss = 0.0\n",
    "    val_acc = 0.0\n",
    "    val_loss = 0.0\n",
    "    \n",
    "    # training\n",
    "    model.train() # set the model to training mode\n",
    "    for i, batch in enumerate(tqdm(train_loader)):\n",
    "        features, labels = batch\n",
    "        features = features.to(device)\n",
    "        labels = labels.to(device)\n",
    "        \n",
    "        optimizer.zero_grad() \n",
    "        outputs = model(features) \n",
    "        \n",
    "        loss = criterion(outputs, labels)\n",
    "        loss.backward() \n",
    "        optimizer.step() \n",
    "        \n",
    "        _, train_pred = torch.max(outputs, 1) # get the index of the class with the highest probability\n",
    "        train_acc += (train_pred.detach() == labels.detach()).sum().item()\n",
    "        train_loss += loss.item()\n",
    "    \n",
    "    # validation\n",
    "    if len(val_set) > 0:\n",
    "        model.eval() # set the model to evaluation mode\n",
    "        with torch.no_grad():\n",
    "            for i, batch in enumerate(tqdm(val_loader)):\n",
    "                features, labels = batch\n",
    "                features = features.to(device)\n",
    "                labels = labels.to(device)\n",
    "                outputs = model(features)\n",
    "                \n",
    "                loss = criterion(outputs, labels) \n",
    "                \n",
    "                _, val_pred = torch.max(outputs, 1) \n",
    "                val_acc += (val_pred.cpu() == labels.cpu()).sum().item() # get the index of the class with the highest probability\n",
    "                val_loss += loss.item()\n",
    "\n",
    "            print('[{:03d}/{:03d}] Train Acc: {:3.6f} Loss: {:3.6f} | Val Acc: {:3.6f} loss: {:3.6f}'.format(\n",
    "                epoch + 1, num_epoch, train_acc/len(train_set), train_loss/len(train_loader), val_acc/len(val_set), val_loss/len(val_loader)\n",
    "            ))\n",
    "\n",
    "            # if the model improves, save a checkpoint at this epoch\n",
    "            if val_acc > best_acc:\n",
    "                best_acc = val_acc\n",
    "                early_stop = 0;\n",
    "                torch.save(model.state_dict(), model_path)\n",
    "                print('saving model with acc {:.3f}'.format(best_acc/len(val_set)))\n",
    "            else:\n",
    "                early_stop += 1\n",
    "                print('[{:03d}/{:03d}] Train Acc: {:3.6f} Loss: {:3.6f}'.format(\n",
    "                    epoch + 1, num_epoch, train_acc/len(train_set), train_loss/len(train_loader)\n",
    "                ))\n",
    "                if early_stop > 20:\n",
    "                    print(\"Early stopping with best_acc: \", best_acc, \"and val_acc for this epoch: \", val_acc, \"...\")\n",
    "                    break\n",
    "        \n",
    "# if not validating, save the last epoch\n",
    "if len(val_set) == 0:\n",
    "    torch.save(model.state_dict(), model_path)\n",
    "    print('saving model at last epoch')\n"
   ]
  },
  {
   "cell_type": "code",
   "execution_count": 12,
   "id": "33d20248",
   "metadata": {
    "execution": {
     "iopub.execute_input": "2022-03-05T20:12:10.454778Z",
     "iopub.status.busy": "2022-03-05T20:12:10.453675Z",
     "iopub.status.idle": "2022-03-05T20:12:10.462140Z",
     "shell.execute_reply": "2022-03-05T20:12:10.462710Z"
    },
    "id": "ab33MxosWLmG",
    "outputId": "7ea97815-15cc-4afa-fa7e-b65460b91640",
    "papermill": {
     "duration": 68.837927,
     "end_time": "2022-03-05T20:12:10.462874",
     "exception": false,
     "start_time": "2022-03-05T20:11:01.624947",
     "status": "completed"
    },
    "tags": []
   },
   "outputs": [
    {
     "data": {
      "text/plain": [
       "21"
      ]
     },
     "execution_count": 12,
     "metadata": {},
     "output_type": "execute_result"
    }
   ],
   "source": [
    "del train_loader, val_loader\n",
    "gc.collect()"
   ]
  },
  {
   "cell_type": "markdown",
   "id": "c1ad7fa3",
   "metadata": {
    "id": "1Hi7jTn3PX-m",
    "papermill": {
     "duration": 69.670729,
     "end_time": "2022-03-05T20:14:29.882666",
     "exception": false,
     "start_time": "2022-03-05T20:13:20.211937",
     "status": "completed"
    },
    "tags": []
   },
   "source": [
    "## Testing\n",
    "Create a testing dataset, and load model from the saved checkpoint."
   ]
  },
  {
   "cell_type": "code",
   "execution_count": 13,
   "id": "be442089",
   "metadata": {
    "execution": {
     "iopub.execute_input": "2022-03-05T20:16:48.489637Z",
     "iopub.status.busy": "2022-03-05T20:16:48.486474Z",
     "iopub.status.idle": "2022-03-05T20:16:50.797189Z",
     "shell.execute_reply": "2022-03-05T20:16:50.797803Z"
    },
    "id": "VOG1Ou0PGrhc",
    "outputId": "81077fbc-a6ea-46b7-9a57-a690480fbb6b",
    "papermill": {
     "duration": 71.447635,
     "end_time": "2022-03-05T20:16:50.798054",
     "exception": false,
     "start_time": "2022-03-05T20:15:39.350419",
     "status": "completed"
    },
    "tags": []
   },
   "outputs": [
    {
     "name": "stdout",
     "output_type": "stream",
     "text": [
      "[Dataset] - # phone classes: 41, number of utterances for test: 1078\n"
     ]
    },
    {
     "name": "stderr",
     "output_type": "stream",
     "text": [
      "1078it [00:02, 468.75it/s]"
     ]
    },
    {
     "name": "stdout",
     "output_type": "stream",
     "text": [
      "[INFO] test set\n",
      "torch.Size([646268, 429])\n"
     ]
    },
    {
     "name": "stderr",
     "output_type": "stream",
     "text": [
      "\n"
     ]
    }
   ],
   "source": [
    "# load data\n",
    "test_X = preprocess_data(split='test', feat_dir='./libriphone/feat', phone_path='./libriphone', concat_nframes=concat_nframes)\n",
    "test_set = LibriDataset(test_X, None)\n",
    "test_loader = DataLoader(test_set, batch_size=batch_size, shuffle=False)"
   ]
  },
  {
   "cell_type": "code",
   "execution_count": 14,
   "id": "1edd74e3",
   "metadata": {
    "execution": {
     "iopub.execute_input": "2022-03-05T20:19:08.510758Z",
     "iopub.status.busy": "2022-03-05T20:19:08.509703Z",
     "iopub.status.idle": "2022-03-05T20:19:08.584475Z",
     "shell.execute_reply": "2022-03-05T20:19:08.584993Z"
    },
    "id": "ay0Fu8Ovkdad",
    "outputId": "a29d1dbc-3222-4cec-8f84-04475b77cceb",
    "papermill": {
     "duration": 68.822752,
     "end_time": "2022-03-05T20:19:08.585165",
     "exception": false,
     "start_time": "2022-03-05T20:17:59.762413",
     "status": "completed"
    },
    "tags": []
   },
   "outputs": [
    {
     "data": {
      "text/plain": [
       "<All keys matched successfully>"
      ]
     },
     "execution_count": 14,
     "metadata": {},
     "output_type": "execute_result"
    }
   ],
   "source": [
    "# load model\n",
    "model = Classifier(input_dim=input_dim, hidden_layers=hidden_layers, hidden_dim=hidden_dim).to(device)\n",
    "model.load_state_dict(torch.load(model_path))"
   ]
  },
  {
   "cell_type": "markdown",
   "id": "73dc98e8",
   "metadata": {
    "id": "zp-DV1p4r7Nz",
    "papermill": {
     "duration": 69.821581,
     "end_time": "2022-03-05T20:21:27.219181",
     "exception": false,
     "start_time": "2022-03-05T20:20:17.397600",
     "status": "completed"
    },
    "tags": []
   },
   "source": [
    "Make prediction."
   ]
  },
  {
   "cell_type": "code",
   "execution_count": 15,
   "id": "58ed4bb7",
   "metadata": {
    "execution": {
     "iopub.execute_input": "2022-03-05T20:23:45.261868Z",
     "iopub.status.busy": "2022-03-05T20:23:45.260691Z",
     "iopub.status.idle": "2022-03-05T20:23:49.623416Z",
     "shell.execute_reply": "2022-03-05T20:23:49.624165Z"
    },
    "id": "84HU5GGjPqR0",
    "outputId": "bbaaa8c5-d88c-4ef3-f7be-d75b208cd5df",
    "papermill": {
     "duration": 73.369737,
     "end_time": "2022-03-05T20:23:49.624367",
     "exception": false,
     "start_time": "2022-03-05T20:22:36.254630",
     "status": "completed"
    },
    "tags": []
   },
   "outputs": [
    {
     "name": "stderr",
     "output_type": "stream",
     "text": [
      "100%|██████████| 1263/1263 [00:04<00:00, 290.23it/s]\n"
     ]
    }
   ],
   "source": [
    "test_acc = 0.0\n",
    "test_lengths = 0\n",
    "pred = np.array([], dtype=np.int32)\n",
    "\n",
    "model.eval()\n",
    "with torch.no_grad():\n",
    "    for i, batch in enumerate(tqdm(test_loader)):\n",
    "        features = batch\n",
    "        features = features.to(device)\n",
    "\n",
    "        outputs = model(features)\n",
    "\n",
    "        _, test_pred = torch.max(outputs, 1) # get the index of the class with the highest probability\n",
    "        pred = np.concatenate((pred, test_pred.cpu().numpy()), axis=0)\n"
   ]
  },
  {
   "cell_type": "markdown",
   "id": "a5740268",
   "metadata": {
    "id": "wyZqy40Prz0v",
    "papermill": {
     "duration": 69.262077,
     "end_time": "2022-03-05T20:26:07.980004",
     "exception": false,
     "start_time": "2022-03-05T20:24:58.717927",
     "status": "completed"
    },
    "tags": []
   },
   "source": [
    "Write prediction to a CSV file.\n",
    "\n",
    "After finish running this block, download the file `prediction.csv` from the files section on the left-hand side and submit it to Kaggle."
   ]
  },
  {
   "cell_type": "code",
   "execution_count": 16,
   "id": "7e9cb587",
   "metadata": {
    "execution": {
     "iopub.execute_input": "2022-03-05T20:28:25.298004Z",
     "iopub.status.busy": "2022-03-05T20:28:25.297103Z",
     "iopub.status.idle": "2022-03-05T20:28:25.980916Z",
     "shell.execute_reply": "2022-03-05T20:28:25.980080Z"
    },
    "id": "GuljYSPHcZir",
    "papermill": {
     "duration": 69.030847,
     "end_time": "2022-03-05T20:28:25.981059",
     "exception": false,
     "start_time": "2022-03-05T20:27:16.950212",
     "status": "completed"
    },
    "tags": []
   },
   "outputs": [],
   "source": [
    "with open('prediction.csv', 'w') as f:\n",
    "    f.write('Id,Class\\n')\n",
    "    for i, y in enumerate(pred):\n",
    "        f.write('{},{}\\n'.format(i, y))"
   ]
  },
  {
   "cell_type": "markdown",
   "id": "ab4144fa",
   "metadata": {
    "execution": {
     "iopub.status.busy": "2022-03-03T05:12:30.038943Z",
     "iopub.status.idle": "2022-03-03T05:12:30.039516Z",
     "shell.execute_reply": "2022-03-03T05:12:30.039299Z",
     "shell.execute_reply.started": "2022-03-03T05:12:30.039271Z"
    },
    "papermill": {
     "duration": 68.96452,
     "end_time": "2022-03-05T20:30:43.835918",
     "exception": false,
     "start_time": "2022-03-05T20:29:34.871398",
     "status": "completed"
    },
    "tags": []
   },
   "source": [
    "!ls"
   ]
  }
 ],
 "metadata": {
  "kernelspec": {
   "display_name": "Python 3",
   "language": "python",
   "name": "python3"
  },
  "language_info": {
   "codemirror_mode": {
    "name": "ipython",
    "version": 3
   },
   "file_extension": ".py",
   "mimetype": "text/x-python",
   "name": "python",
   "nbconvert_exporter": "python",
   "pygments_lexer": "ipython3",
   "version": "3.7.12"
  },
  "papermill": {
   "default_parameters": {},
   "duration": 20100.943146,
   "end_time": "2022-03-05T20:31:54.421190",
   "environment_variables": {},
   "exception": null,
   "input_path": "__notebook__.ipynb",
   "output_path": "__notebook__.ipynb",
   "parameters": {},
   "start_time": "2022-03-05T14:56:53.478044",
   "version": "2.3.3"
  }
 },
 "nbformat": 4,
 "nbformat_minor": 5
}
